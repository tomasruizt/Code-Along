{
 "cells": [
  {
   "cell_type": "markdown",
   "id": "1700557f",
   "metadata": {},
   "source": [
    "# 2.3 Exercises\n",
    "## Exercise 2.1\n",
    "(b) Show, in the one period binomial model, that if $\\Pi_1[X] \\neq X $ with probability 1, then you can make a riskless profit."
   ]
  },
  {
   "cell_type": "markdown",
   "id": "2237c55b",
   "metadata": {},
   "source": [
    "Assume $X$ has two outcomes $\\Phi(u)$ and $\\Phi(d)$, with probabilities $p_u$ and $p_d$.\n",
    "\n",
    "If the price at $t=1$ of $X$ is higher than $\\Phi(u)$, then we want to sell $X$ at $t=1$ to make a profit. So we need to buy $X$ at $t=0$. The money to buy $X$ we get from shorting the replicating portfolio, such that the value of our full portfolio is 0 in the beginning.\n",
    "\n",
    "If the price is is lower than $\\Phi(u)$, then we want to buy $X$ at $t=1$ to make a profit. So we need to sell $X$ at $t=0$ and long the replicating portfolio to offset.\n",
    "\n",
    "In general, both the price of $X$ could be higher or lower in the case of both $u$ and $d$, so we have 4 cases. Its clear what to do in the 2 cases where the price $\\Pi$ is higher than $X$ or lower than $X$. However, its not clear what to do if the price $\\Pi$ is higher than $X(u) $ in the case of $u$ and lower than $X(d)$ in the case of $d$."
   ]
  },
  {
   "cell_type": "markdown",
   "id": "4af853d6",
   "metadata": {},
   "source": [
    "## Exercise 2.3\n",
    "The market is pricing an option at 50, but the theory of arbitraging tells us that the price should be 52,5 (the values are taken from the chapter). The options are underpriced at the current time, so we should buy them (take long positions). To get the money for it we will short the corresponding replicating portfolio.\n",
    "\n",
    "The replicating portfolio for one option consists of -42,5 bonds and 95 / 120 stocks. The value of a bond is 1€ and the value of a stock is 120€ (values from the chapter). The value of the replicating portfolio is therefore 95 - 42,5 = 52,5.\n",
    "\n",
    "That means that we:\n",
    "* take a long position in 42,5 bonds for -42,5€\n",
    "* take short position in 95/120 of a stock for +95€. This position creates liability for us, because if the value of stock rises, then our position makes losses.\n",
    "* take a long position in a the option for -50€\n",
    "* 95 - 42,5 - 50 = 2,5. This is money we have left.\n",
    "* We invest these 2.5€ in the bonds for riskless profit\n",
    "* The option exactly covers any liability in the stock position."
   ]
  }
 ],
 "metadata": {
  "kernelspec": {
   "display_name": "Python 3 (ipykernel)",
   "language": "python",
   "name": "python3"
  },
  "language_info": {
   "codemirror_mode": {
    "name": "ipython",
    "version": 3
   },
   "file_extension": ".py",
   "mimetype": "text/x-python",
   "name": "python",
   "nbconvert_exporter": "python",
   "pygments_lexer": "ipython3",
   "version": "3.9.16"
  }
 },
 "nbformat": 4,
 "nbformat_minor": 5
}
