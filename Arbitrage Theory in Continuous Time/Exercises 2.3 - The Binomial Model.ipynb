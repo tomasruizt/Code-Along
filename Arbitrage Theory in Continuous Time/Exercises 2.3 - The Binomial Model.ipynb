{
 "cells": [
  {
   "cell_type": "markdown",
   "id": "1700557f",
   "metadata": {},
   "source": [
    "# 2.3 Exercises\n",
    "## Exercise 2.1\n",
    "(b) Show, in the one period binomial model, that if $\\Pi_1[X] \\neq X $ with probability 1, then you can make a riskless profit."
   ]
  },
  {
   "cell_type": "markdown",
   "id": "2237c55b",
   "metadata": {},
   "source": [
    "Assume $X$ has two outcomes $\\Phi(u)$ and $\\Phi(d)$, with probabilities $p_u$ and $p_d$.\n",
    "\n",
    "If the price at $t=1$ of $X$ is higher than $\\Phi(u)$, then we want to sell $X$ at $t=1$ to make a profit. So we need to buy $X$ at $t=0$. The money to buy $X$ we get from shorting the replicating portfolio, such that the value of our full portfolio is 0 in the beginning.\n",
    "\n",
    "If the price is is lower than $\\Phi(u)$, then we want to buy $X$ at $t=1$ to make a profit. So we need to sell $X$ at $t=0$ and long the replicating portfolio to offset.\n",
    "\n",
    "In general, both the price of $X$ could be higher or lower in the case of both $u$ and $d$, so we have 4 cases. Its clear what to do in the 2 cases where the price $\\Pi$ is higher than $X$ or lower than $X$. However, its not clear what to do if the price $\\Pi$ is higher than $X(u) $ in the case of $u$ and lower than $X(d)$ in the case of $d$."
   ]
  }
 ],
 "metadata": {
  "kernelspec": {
   "display_name": "Python 3 (ipykernel)",
   "language": "python",
   "name": "python3"
  },
  "language_info": {
   "codemirror_mode": {
    "name": "ipython",
    "version": 3
   },
   "file_extension": ".py",
   "mimetype": "text/x-python",
   "name": "python",
   "nbconvert_exporter": "python",
   "pygments_lexer": "ipython3",
   "version": "3.9.16"
  }
 },
 "nbformat": 4,
 "nbformat_minor": 5
}
