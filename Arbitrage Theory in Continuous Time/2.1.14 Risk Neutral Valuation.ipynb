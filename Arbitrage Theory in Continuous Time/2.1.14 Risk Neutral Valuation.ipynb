{
 "cells": [
  {
   "cell_type": "code",
   "execution_count": 1,
   "id": "f6782807-d4c5-4fe1-91f8-d72abbd41df6",
   "metadata": {},
   "outputs": [],
   "source": [
    "import numpy as np"
   ]
  },
  {
   "cell_type": "markdown",
   "id": "7b81dd32-f313-4f38-9c95-eeac6c848c90",
   "metadata": {},
   "source": [
    "# Risk Neutral Valuation Analysis\n",
    "\n",
    "The book claims that the rational pricing for a derivative is NOT given either by:\n",
    "* a) A free-market where supply and demand come up with a price for the derivative, NOR by\n",
    "* b) The expected discounted returns of the cashflows from the derivative (i.e. integral over outcomes)\n",
    "\n",
    "Point b) is surprising to me because that is how bonds are priced, as far as I know. And I expected this to apply also to derivatives, like options. Instead, the rational price is given by Risk-Neutral-Valuation. In this notebook I will inspect what this precisely mean by reproducing and analyzing the example 2.12 of the book."
   ]
  },
  {
   "cell_type": "markdown",
   "id": "1433a5ce-fa64-405b-a09b-9876d0889d00",
   "metadata": {},
   "source": [
    "## Example 2.12 - Pricing a Call Option using Arbitrage\n",
    "In the example, we price a call option of a stock $S$. The binomial model is used with two possible known outcomes: up and down."
   ]
  },
  {
   "cell_type": "code",
   "execution_count": 2,
   "id": "435eb72e-6b1f-4ba7-98ee-a5fe2b0f7496",
   "metadata": {},
   "outputs": [],
   "source": [
    "S0 = 100     # initial stock price, t=0\n",
    "pu = 0.6     # probability of stock going up\n",
    "pd = 1 - pu  # probability of stock going down\n",
    "R = 0        # risk-free rate\n",
    "u = 1.2      # multiplier when the stock goes up\n",
    "d = 0.8      # multiplier when the stock goes down\n",
    "def S1(up: bool):  # stock price at t=1\n",
    "    return S0 * (u if up else d)"
   ]
  },
  {
   "cell_type": "markdown",
   "id": "ca7cd45a-36e7-424d-ab2c-7a9c334aa97c",
   "metadata": {},
   "source": [
    "The expected value of $S_1$ under objective probabilitties is $E^P[S1]$:"
   ]
  },
  {
   "cell_type": "code",
   "execution_count": 3,
   "id": "692b28e9-cc44-41a1-bfb1-26e834c922e9",
   "metadata": {},
   "outputs": [
    {
     "data": {
      "text/plain": [
       "104.0"
      ]
     },
     "execution_count": 3,
     "metadata": {},
     "output_type": "execute_result"
    }
   ],
   "source": [
    "E_S1 = pu * S1(up=True) + pd * S1(up=False)  # expected value of S1\n",
    "E_S1 / (1 + R)  # discounted expected value"
   ]
  },
  {
   "cell_type": "markdown",
   "id": "ab79b086-a3f1-443c-9db6-c2de9268e7fb",
   "metadata": {},
   "source": [
    "## Call Option\n",
    "Now we also compute the value of a call option $X$ on the stock."
   ]
  },
  {
   "cell_type": "code",
   "execution_count": 4,
   "id": "dda46548-22b0-47a8-be7b-32fe194a3e16",
   "metadata": {},
   "outputs": [],
   "source": [
    "K = 110\n",
    "def X(S: float): return np.maximum(S - K, 0)"
   ]
  },
  {
   "cell_type": "code",
   "execution_count": 5,
   "id": "90ffb584-9c9f-49ef-b192-a06dd719b395",
   "metadata": {},
   "outputs": [
    {
     "data": {
      "text/plain": [
       "(10.0, 0.0)"
      ]
     },
     "execution_count": 5,
     "metadata": {},
     "output_type": "execute_result"
    }
   ],
   "source": [
    "X(S1(up=True)), X(S1(up=False))"
   ]
  },
  {
   "cell_type": "markdown",
   "id": "006623e6-6f04-422f-81a0-23522382f015",
   "metadata": {},
   "source": [
    "The expected value of $X$ under objective probabilites $E^P[X]$ is:"
   ]
  },
  {
   "cell_type": "code",
   "execution_count": 6,
   "id": "c044abce-f6d9-4e2b-972a-5654b85c6a64",
   "metadata": {},
   "outputs": [
    {
     "data": {
      "text/plain": [
       "6.0"
      ]
     },
     "execution_count": 6,
     "metadata": {},
     "output_type": "execute_result"
    }
   ],
   "source": [
    "E_X = pu * X(S1(up=True)) + pd * X(S1(up=False))\n",
    "E_X / (1 + R)"
   ]
  },
  {
   "cell_type": "markdown",
   "id": "0e79c152-000a-4e0d-b093-bd7ddc43b239",
   "metadata": {},
   "source": [
    "The risk-neutral pricing would use different probabilites $Q$, where $p_u = p_d = 0.5$:"
   ]
  },
  {
   "cell_type": "code",
   "execution_count": 7,
   "id": "7a8e784c-2f3f-44d5-a1ce-08204dd85ae8",
   "metadata": {},
   "outputs": [
    {
     "data": {
      "text/plain": [
       "(0.5, 0.5)"
      ]
     },
     "execution_count": 7,
     "metadata": {},
     "output_type": "execute_result"
    }
   ],
   "source": [
    "qu = ((1 + R) - d) / (u - d)  # martingale probability of the stock going up\n",
    "qd = (u - (1 + R)) / (u - d)  # same for down\n",
    "qu, qd"
   ]
  },
  {
   "cell_type": "markdown",
   "id": "e9dcb22e-60a3-4e04-8ef1-425198788e91",
   "metadata": {},
   "source": [
    "And the expected value of $X$ under $Q$ is $E^Q[X]$ is:"
   ]
  },
  {
   "cell_type": "code",
   "execution_count": 8,
   "id": "f52f5fe2-c1c2-4f71-8555-dcde7b15483f",
   "metadata": {},
   "outputs": [
    {
     "data": {
      "text/plain": [
       "5.0"
      ]
     },
     "execution_count": 8,
     "metadata": {},
     "output_type": "execute_result"
    }
   ],
   "source": [
    "EQ_X = qu * X(S1(up=True)) + qd * X(S1(up=False))\n",
    "EQ_X / (1 + R)"
   ]
  },
  {
   "cell_type": "markdown",
   "id": "074e6e42-6e03-4a54-a956-a61afdd49cb7",
   "metadata": {},
   "source": [
    "## Replicating Portfolio\n",
    "We can replicate the cashflows of the option with a replicating portfolio, made out of $x$ bonds and $y$ stocks."
   ]
  },
  {
   "cell_type": "code",
   "execution_count": 9,
   "id": "f1defab4-32e0-41d4-a4fd-0b1fd0c1b978",
   "metadata": {},
   "outputs": [
    {
     "data": {
      "text/plain": [
       "(-20.000000000000004, 0.25000000000000006)"
      ]
     },
     "execution_count": 9,
     "metadata": {},
     "output_type": "execute_result"
    }
   ],
   "source": [
    "x = (u * X(S1(up=False)) - d * X(S1(up=True))) / (u - d)\n",
    "y = (X(S1(up=True)) - X(S1(up=False))) / (S0 * (u - d))\n",
    "x, y"
   ]
  },
  {
   "cell_type": "markdown",
   "id": "d76e5817-ba63-4625-8377-4cd0c583d3d5",
   "metadata": {},
   "source": [
    "The value $V^h_t$ of a such a portolio for $t=0, 1$ and $Z=u, d$ is:"
   ]
  },
  {
   "cell_type": "code",
   "execution_count": 10,
   "id": "dfc73609-28f3-45f0-8394-922892428ce1",
   "metadata": {},
   "outputs": [
    {
     "name": "stdout",
     "output_type": "stream",
     "text": [
      "Initial value of replicating portfolio: 5.0000000000000036\n"
     ]
    }
   ],
   "source": [
    "def V0(num_bonds: float, num_stocks: float):\n",
    "    return num_bonds + S0 * num_stocks\n",
    "\n",
    "def V1(num_bonds: float, num_stocks: float, up: bool):\n",
    "    return (1 + R) * num_bonds + S1(up) * num_stocks\n",
    "\n",
    "print(\"Initial value of replicating portfolio:\", V0(x, y))"
   ]
  },
  {
   "cell_type": "code",
   "execution_count": 11,
   "id": "f1798ce8-2cf5-4f5a-a400-a173a8d3f9b3",
   "metadata": {},
   "outputs": [
    {
     "name": "stdout",
     "output_type": "stream",
     "text": [
      "Final values for the replicating portfolio: 10.000000000000004 0.0\n"
     ]
    }
   ],
   "source": [
    "print(\"Final values for the replicating portfolio:\", V1(x, y, up=True), V1(x, y, up=False))"
   ]
  },
  {
   "cell_type": "markdown",
   "id": "0106447a-fe79-4289-8220-990f73fd55f2",
   "metadata": {},
   "source": [
    "As we can see, we can replicate the cashflows of the call option at $t=1$ with a portfolio that costs 5 at $t=0$. Therefore the rational price of the call option at $t=0$ must be 5. Otherwise, there would be an opportunity for arbitrage. Let's see how that could be done."
   ]
  },
  {
   "cell_type": "markdown",
   "id": "b64e4a5f-ee50-422b-a93a-11faca7e0b8e",
   "metadata": {},
   "source": [
    "## Arbitrage"
   ]
  }
 ],
 "metadata": {
  "kernelspec": {
   "display_name": "Python 3 (ipykernel)",
   "language": "python",
   "name": "python3"
  },
  "language_info": {
   "codemirror_mode": {
    "name": "ipython",
    "version": 3
   },
   "file_extension": ".py",
   "mimetype": "text/x-python",
   "name": "python",
   "nbconvert_exporter": "python",
   "pygments_lexer": "ipython3",
   "version": "3.10.0"
  }
 },
 "nbformat": 4,
 "nbformat_minor": 5
}
