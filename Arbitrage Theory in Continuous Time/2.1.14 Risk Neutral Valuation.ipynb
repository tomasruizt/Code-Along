{
 "cells": [
  {
   "cell_type": "markdown",
   "id": "7b81dd32-f313-4f38-9c95-eeac6c848c90",
   "metadata": {},
   "source": [
    "# Risk Neutral Valuation Analysis\n",
    "\n",
    "The book claims that the rational pricing for a derivative is NOT given either by:\n",
    "* a) A free-market where supply and demand come up with a price for the derivative, NOR by\n",
    "* b) The expected discounted returns of the cashflows from the derivative (i.e. integral over outcomes)\n",
    "\n",
    "Point b) is surprising to me because that is how bonds are priced, as far as I know. And I expected this to apply also to derivatives, like options. Instead, the rational price is given by Risk-Neutral-Valuation. In this notebook I will inspect what this precisely mean by reproducing and analyzing the example 2.12 of the book."
   ]
  },
  {
   "cell_type": "markdown",
   "id": "1433a5ce-fa64-405b-a09b-9876d0889d00",
   "metadata": {},
   "source": [
    "## Example 2.12 - Pricing a Call Option using Arbitrage\n",
    "In the example, we price a call option of a stock $S$. The binomial model is used with two possible known outcomes: up and down."
   ]
  },
  {
   "cell_type": "code",
   "execution_count": 12,
   "id": "435eb72e-6b1f-4ba7-98ee-a5fe2b0f7496",
   "metadata": {},
   "outputs": [],
   "source": [
    "S0 = 100     # initial stock price, t=0\n",
    "pu = 0.6     # probability of stock going up\n",
    "pd = 1 - pu  # probability of stock going down\n",
    "R = 0        # risk-free rate\n",
    "def S1(up: bool):  # stock price at t=1\n",
    "    return 120 if up else 80"
   ]
  },
  {
   "cell_type": "markdown",
   "id": "ca7cd45a-36e7-424d-ab2c-7a9c334aa97c",
   "metadata": {},
   "source": [
    "The expected value of $S_1$ under objective probabilitties is $E^P[S1]$:"
   ]
  },
  {
   "cell_type": "code",
   "execution_count": 13,
   "id": "692b28e9-cc44-41a1-bfb1-26e834c922e9",
   "metadata": {},
   "outputs": [
    {
     "data": {
      "text/plain": [
       "104.0"
      ]
     },
     "execution_count": 13,
     "metadata": {},
     "output_type": "execute_result"
    }
   ],
   "source": [
    "E_S1 = pu * S1(up=True) + pd * S1(up=False)  # expected value of S1\n",
    "E_S1 / (1 + R)  # discounted expected value"
   ]
  }
 ],
 "metadata": {
  "kernelspec": {
   "display_name": "Python 3 (ipykernel)",
   "language": "python",
   "name": "python3"
  },
  "language_info": {
   "codemirror_mode": {
    "name": "ipython",
    "version": 3
   },
   "file_extension": ".py",
   "mimetype": "text/x-python",
   "name": "python",
   "nbconvert_exporter": "python",
   "pygments_lexer": "ipython3",
   "version": "3.10.0"
  }
 },
 "nbformat": 4,
 "nbformat_minor": 5
}
