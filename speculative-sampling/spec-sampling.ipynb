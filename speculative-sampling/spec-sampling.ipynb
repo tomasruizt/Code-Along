{
 "cells": [
  {
   "cell_type": "code",
   "execution_count": null,
   "id": "7d67f246",
   "metadata": {},
   "outputs": [],
   "source": [
    "%load_ext autoreload\n",
    "%autoreload 2"
   ]
  },
  {
   "cell_type": "code",
   "execution_count": null,
   "id": "72853041",
   "metadata": {},
   "outputs": [],
   "source": [
    "import torch\n",
    "import seaborn as sns\n",
    "import pandas as pd\n",
    "import os\n",
    "\n",
    "torch.set_default_device(\"cuda\")\n",
    "\n",
    "# os.environ[\"CUDA_LAUNCH_BLOCKING\"] = \"1\""
   ]
  },
  {
   "cell_type": "code",
   "execution_count": null,
   "id": "99e38e6f",
   "metadata": {},
   "outputs": [],
   "source": [
    "logits = torch.tensor([2.5, 2, 3])\n",
    "probs = torch.nn.functional.softmax(logits, dim=-1)\n",
    "print(probs)\n",
    "ax = sns.barplot(probs.cpu())\n",
    "ax.grid(axis=\"y\")"
   ]
  },
  {
   "cell_type": "code",
   "execution_count": null,
   "id": "66048127",
   "metadata": {},
   "outputs": [],
   "source": [
    "samples = torch.multinomial(probs, num_samples=1000, replacement=True)\n",
    "print(torch.bincount(samples) / len(samples))\n",
    "ax = sns.histplot(samples.cpu(), stat=\"probability\")\n",
    "ax.grid(axis=\"y\")"
   ]
  },
  {
   "cell_type": "code",
   "execution_count": null,
   "id": "bae65d1c",
   "metadata": {},
   "outputs": [],
   "source": [
    "spec_logits = torch.tensor([3.0, 2.0, 1.0])\n",
    "spec_probs = torch.nn.functional.softmax(spec_logits, dim=-1)\n",
    "spec_samples = torch.multinomial(spec_probs, num_samples=1000, replacement=True)\n",
    "print(spec_probs)"
   ]
  },
  {
   "cell_type": "code",
   "execution_count": null,
   "id": "c8c000c3",
   "metadata": {},
   "outputs": [],
   "source": [
    "ax = sns.histplot(spec_samples.cpu(), stat=\"probability\")\n",
    "ax.grid(axis=\"y\")"
   ]
  },
  {
   "cell_type": "code",
   "execution_count": null,
   "id": "0a1f79ed",
   "metadata": {},
   "outputs": [],
   "source": [
    "def rejection_sample(probs: torch.Tensor, spec_probs: torch.Tensor, idxs: torch.Tensor):\n",
    "    \"\"\"\n",
    "    Target model distribution: q(x)\n",
    "    Draft model distribution: p(x)\n",
    "    Vectorized implementation\n",
    "    \"\"\"\n",
    "    qs = probs[idxs]\n",
    "    ps = spec_probs[idxs]\n",
    "    rs = torch.rand(len(idxs))\n",
    "    keep_mask = rs < torch.clamp(qs / ps, max=1.0)\n",
    "    new_p = torch.clamp(probs - spec_probs, min=0.0)  # pseudo-probability\n",
    "    new_samples = torch.multinomial(new_p, num_samples=len(idxs), replacement=True)\n",
    "    return torch.where(keep_mask, idxs, new_samples)"
   ]
  },
  {
   "cell_type": "code",
   "execution_count": null,
   "id": "9a0df706",
   "metadata": {},
   "outputs": [],
   "source": [
    "# rej_samples = torch.tensor([rejection_sample(probs, spec_probs, x) for x in spec_samples])\n",
    "rej_samples = rejection_sample(probs, spec_probs, spec_samples)\n",
    "ax = sns.histplot(rej_samples.cpu(), stat=\"probability\")\n",
    "ax.grid(axis=\"y\")"
   ]
  },
  {
   "cell_type": "markdown",
   "id": "7383e0a5",
   "metadata": {},
   "source": [
    "# Gumbel-Max Trick\n",
    "Sampling from the mulitnomial is equivalent to taking the argmax over logits plus standard Gumbel noise."
   ]
  },
  {
   "cell_type": "code",
   "execution_count": null,
   "id": "6fab93e0",
   "metadata": {},
   "outputs": [],
   "source": [
    "def gumbel_sample(logits: torch.Tensor, n: int):\n",
    "    gumbel_noise = -(-torch.rand((n, len(logits))).log()).log()\n",
    "    return torch.argmax(logits + gumbel_noise, dim=-1)\n",
    "\n",
    "\n",
    "gumbel_samples = gumbel_sample(logits, n=1000)\n",
    "ax = sns.histplot(gumbel_samples.cpu(), stat=\"probability\")\n",
    "ax.grid(axis=\"y\")"
   ]
  },
  {
   "cell_type": "markdown",
   "id": "e79aa3b9",
   "metadata": {},
   "source": [
    "# Fused MM-Sample\n",
    "We now attempt to sample from the logits without materializing them.\n",
    "We compute the logits incrementally, and as we do, we keep track of the gumbel max index."
   ]
  },
  {
   "cell_type": "code",
   "execution_count": null,
   "id": "9534dc0e",
   "metadata": {},
   "outputs": [],
   "source": [
    "vocab_size = 100  # V\n",
    "hidden_size = 10  # D\n",
    "logits1 = torch.arange(-vocab_size / 2, vocab_size / 2)[None, :]  # [1, V]\n",
    "logits2 = torch.arange(vocab_size / 2, -vocab_size / 2, step=-1)[None, :]  # [1, V]\n",
    "logits = torch.cat([logits1, logits2], dim=0)  # [seq_len, V]\n",
    "hl_seq_len = logits.shape[0]\n",
    "# use SVD to construct the hidden states that yield the logits\n",
    "# use pseudoinverse to construct the weights.\n",
    "# (there are many ways to do this, this is just one)\n",
    "# W @ H = L.T\n",
    "#  -> W = L.T @ H⁻¹\n",
    "U, S, Vt = torch.linalg.svd(logits, full_matrices=False)\n",
    "hidden_states = torch.cat(  # [D, seq_len]\n",
    "    [\n",
    "        U.T,\n",
    "        torch.rand((hidden_size - hl_seq_len, hl_seq_len)),  # padding\n",
    "    ],\n",
    ")\n",
    "weights = logits.T @ torch.linalg.pinv(hidden_states)  # [V, D]\n",
    "assert torch.allclose(weights @ hidden_states, logits.T)"
   ]
  },
  {
   "cell_type": "code",
   "execution_count": null,
   "id": "42fa0eda",
   "metadata": {},
   "outputs": [],
   "source": [
    "# To bfloat 16\n",
    "weights = weights.bfloat16()\n",
    "hidden_states = hidden_states.bfloat16()"
   ]
  },
  {
   "cell_type": "markdown",
   "id": "68245803",
   "metadata": {},
   "source": [
    "## Baseline: PyTorch Sampling"
   ]
  },
  {
   "cell_type": "code",
   "execution_count": null,
   "id": "ee03179a",
   "metadata": {},
   "outputs": [],
   "source": [
    "from fused_mm_sampling import sample\n",
    "\n",
    "\n",
    "def plot_samples(samples: torch.Tensor, seq_len: int, num_samples: int):\n",
    "    data = {\n",
    "        \"sample\": samples.flatten().cpu(),\n",
    "        \"seq\": [seq for seq in range(seq_len) for _ in range(num_samples)],\n",
    "    }\n",
    "    df = pd.DataFrame(data)\n",
    "    ax = sns.histplot(df, x=\"sample\", hue=\"seq\", bins=100)\n",
    "    ax.grid(axis=\"y\", alpha=0.5)\n",
    "\n",
    "\n",
    "num_samples = 1000\n",
    "temperature = 5\n",
    "samples, probs = sample(\n",
    "    weights,\n",
    "    hidden_states,\n",
    "    num_samples=num_samples,\n",
    "    temperature=temperature,\n",
    "    return_probs=True,\n",
    ")  # [seq_len, num_samples]\n",
    "plot_samples(samples, hl_seq_len, num_samples)"
   ]
  },
  {
   "cell_type": "markdown",
   "id": "c477ef34",
   "metadata": {},
   "source": [
    "## Fused PyTorch Incremental Sampling"
   ]
  },
  {
   "cell_type": "code",
   "execution_count": null,
   "id": "13ad0107",
   "metadata": {},
   "outputs": [],
   "source": [
    "from fused_mm_sampling import incremental_sample_pt\n",
    "\n",
    "samples2 = incremental_sample_pt(weights, hidden_states, num_samples, temperature)\n",
    "plot_samples(samples2, hl_seq_len, num_samples)"
   ]
  },
  {
   "cell_type": "markdown",
   "id": "a418a8c0",
   "metadata": {},
   "source": [
    "# Triton"
   ]
  },
  {
   "cell_type": "code",
   "execution_count": null,
   "id": "7bcebec2",
   "metadata": {},
   "outputs": [],
   "source": [
    "from fused_mm_sampling import fused_sample_triton\n",
    "\n",
    "samples3 = fused_sample_triton(\n",
    "    weights,\n",
    "    hidden_states,\n",
    "    num_samples,\n",
    "    temperature,  # temperature,\n",
    "    seed=111,\n",
    ")\n",
    "plot_samples(samples3, hl_seq_len, num_samples)"
   ]
  },
  {
   "cell_type": "markdown",
   "id": "fc472899",
   "metadata": {},
   "source": [
    "# Compare Speed - Realistic Example\n",
    "Now we test a realistic example with a large `vocab_size=256k`, and a large `hidden_size=5120`"
   ]
  },
  {
   "cell_type": "code",
   "execution_count": null,
   "id": "2db41f3d",
   "metadata": {},
   "outputs": [],
   "source": [
    "sample_compiled = torch.compile(sample)\n",
    "# sample_incremental_pt_compiled = torch.compile(incremental_sample_pt)"
   ]
  },
  {
   "cell_type": "code",
   "execution_count": null,
   "id": "e3b85a72",
   "metadata": {},
   "outputs": [],
   "source": [
    "vocab_size = 256000\n",
    "hidden_size = 5120\n",
    "speedtest_kwargs = dict(\n",
    "    hidden_states=torch.randn((hidden_size, hl_seq_len)).bfloat16(),\n",
    "    weights=torch.randn((vocab_size, hidden_size)).bfloat16(),\n",
    "    num_samples=256,\n",
    "    temperature=1.0,\n",
    ")"
   ]
  },
  {
   "cell_type": "markdown",
   "id": "700d7ce0",
   "metadata": {},
   "source": [
    "# Memory Profiling\n",
    "Should be observable with the PyTorch Memory Timeline: https://pytorch.org/blog/understanding-gpu-memory-1/"
   ]
  },
  {
   "cell_type": "code",
   "execution_count": null,
   "id": "c5b5f935",
   "metadata": {},
   "outputs": [],
   "source": [
    "logits_numel = vocab_size * 256  # new_seqlen\n",
    "logits_bytes = logits_numel * 2  # bfloat16\n",
    "logits_gb = logits_bytes / 10**9\n",
    "print(f\"logits_numel: {logits_numel:,}\")\n",
    "print(f\"logits_gb: {logits_gb:.2f} GB\")\n",
    "\n",
    "weights_numel = vocab_size * hidden_size\n",
    "weights_bytes = weights_numel * 2  # bfloat16\n",
    "weights_gb = weights_bytes / 10**9\n",
    "print(f\"weights_numel: {weights_numel:,}\")\n",
    "print(f\"weights_gb: {weights_gb:.2f} GB\")"
   ]
  }
 ],
 "metadata": {
  "kernelspec": {
   "display_name": "venv",
   "language": "python",
   "name": "python3"
  },
  "language_info": {
   "codemirror_mode": {
    "name": "ipython",
    "version": 3
   },
   "file_extension": ".py",
   "mimetype": "text/x-python",
   "name": "python",
   "nbconvert_exporter": "python",
   "pygments_lexer": "ipython3",
   "version": "3.11.9"
  }
 },
 "nbformat": 4,
 "nbformat_minor": 5
}
