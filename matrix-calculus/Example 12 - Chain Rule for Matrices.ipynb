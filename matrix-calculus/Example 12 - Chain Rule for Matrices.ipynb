{
 "cells": [
  {
   "cell_type": "markdown",
   "id": "ae117947",
   "metadata": {},
   "source": [
    "# Example 12 - Chain Rule for Matrices"
   ]
  },
  {
   "cell_type": "markdown",
   "id": "9a37dd8e",
   "metadata": {},
   "source": [
    "We want to exemplify how the chain rule works for a function $f(x) = g(h(x))$, when both $h$ and $g$ are vector-valued functions.\n",
    "* $x \\in \\mathcal{R}^n$\n",
    "* $h(x) \\in \\mathcal{R}^p$\n",
    "* $g(h(x)) \\in \\mathcal{R}^m$"
   ]
  },
  {
   "cell_type": "code",
   "execution_count": 1,
   "id": "b95d6156",
   "metadata": {},
   "outputs": [],
   "source": [
    "n = 4;\n",
    "p = 3;\n",
    "m = 2;"
   ]
  },
  {
   "cell_type": "code",
   "execution_count": 2,
   "id": "ed48a188",
   "metadata": {},
   "outputs": [],
   "source": [
    "h(x) = [x[1]^2 x[2]^2 x[4]^2];"
   ]
  },
  {
   "cell_type": "code",
   "execution_count": 3,
   "id": "93fdb62d",
   "metadata": {},
   "outputs": [
    {
     "data": {
      "text/latex": [
       "$$ \\begin{equation}\n",
       "\\left[\n",
       "\\begin{array}{cccc}\n",
       "x_{1} & x_{2} & x_{3} & x_{4} \\\\\n",
       "\\end{array}\n",
       "\\right]\n",
       "\\end{equation}\n",
       " $$"
      ],
      "text/plain": [
       "1×4 Matrix{Num}:\n",
       " x_1  x_2  x_3  x_4"
      ]
     },
     "execution_count": 3,
     "metadata": {},
     "output_type": "execute_result"
    }
   ],
   "source": [
    "using Symbolics\n",
    "@variables x_1 x_2 x_3 x_4\n",
    "x = [x_1 x_2 x_3 x_4]"
   ]
  },
  {
   "cell_type": "code",
   "execution_count": 4,
   "id": "60192f9d",
   "metadata": {},
   "outputs": [],
   "source": [
    "g(y) = [3y[3] 3y[1]];"
   ]
  },
  {
   "cell_type": "code",
   "execution_count": 5,
   "id": "e374d5a1",
   "metadata": {},
   "outputs": [
    {
     "data": {
      "text/latex": [
       "$$ \\begin{equation}\n",
       "\\left[\n",
       "\\begin{array}{ccc}\n",
       "x_{1}^{2} & x_{2}^{2} & x_{4}^{2} \\\\\n",
       "\\end{array}\n",
       "\\right]\n",
       "\\end{equation}\n",
       " $$"
      ],
      "text/plain": [
       "1×3 Matrix{Num}:\n",
       " x_1^2  x_2^2  x_4^2"
      ]
     },
     "execution_count": 5,
     "metadata": {},
     "output_type": "execute_result"
    }
   ],
   "source": [
    "h(x)"
   ]
  },
  {
   "cell_type": "code",
   "execution_count": 6,
   "id": "e7a4320f",
   "metadata": {},
   "outputs": [
    {
     "data": {
      "text/latex": [
       "$$ \\begin{equation}\n",
       "\\left[\n",
       "\\begin{array}{cc}\n",
       "3 x_{4}^{2} & 3 x_{1}^{2} \\\\\n",
       "\\end{array}\n",
       "\\right]\n",
       "\\end{equation}\n",
       " $$"
      ],
      "text/plain": [
       "1×2 Matrix{Num}:\n",
       " 3(x_4^2)  3(x_1^2)"
      ]
     },
     "execution_count": 6,
     "metadata": {},
     "output_type": "execute_result"
    }
   ],
   "source": [
    "g(h(x))"
   ]
  },
  {
   "cell_type": "markdown",
   "id": "d3f4d05f",
   "metadata": {},
   "source": [
    "# Jacobian Matrix\n",
    "The jacobian $J$ is the transformation from $df$ to $dx$:\n",
    "$$ df = J dx$$\n",
    "Since $df$ has $m$ dimensions, and $dx$ has $n$ dimensions, $J$ must have size $m \\times n$."
   ]
  },
  {
   "cell_type": "code",
   "execution_count": 7,
   "id": "50f297ff",
   "metadata": {},
   "outputs": [
    {
     "data": {
      "text/latex": [
       "$$ \\begin{equation}\n",
       "\\left[\n",
       "\\begin{array}{cccc}\n",
       "0 & 0 & 0 & 6 x_{4} \\\\\n",
       "6 x_{1} & 0 & 0 & 0 \\\\\n",
       "\\end{array}\n",
       "\\right]\n",
       "\\end{equation}\n",
       " $$"
      ],
      "text/plain": [
       "2×4 Matrix{Num}:\n",
       "    0  0  0  6x_4\n",
       " 6x_1  0  0     0"
      ]
     },
     "execution_count": 7,
     "metadata": {},
     "output_type": "execute_result"
    }
   ],
   "source": [
    "using ForwardDiff\n",
    "\n",
    "jac(f, x) = ForwardDiff.jacobian(f, x)\n",
    "\n",
    "full_jac = jac(x -> g(h(x)), x)"
   ]
  },
  {
   "cell_type": "code",
   "execution_count": 8,
   "id": "b02ba2cc",
   "metadata": {},
   "outputs": [],
   "source": [
    "@assert size(full_jac) == (m, n)"
   ]
  },
  {
   "cell_type": "markdown",
   "id": "6711d6e5",
   "metadata": {},
   "source": [
    "# Composing Jacobians\n",
    "We can compose the Jacobian by multiplying the jacobians for $h'(x)$ and $g'(y)$.\n",
    "* The jacobian of $h(x)$ is of size $p \\times n$\n",
    "* The jacobian of $g'(y)$ has size $m \\times p$.\n",
    "Therefore they are multiplicable matrices:\n",
    "$$\n",
    "\\begin{align*}\n",
    "df\n",
    "&= J dx \\\\\n",
    "&= \\underbrace{J_g}_{(m \\times p)} \\underbrace{J_h}_{(p \\times n)} dx\n",
    "\\end{align*}\n",
    "$$"
   ]
  },
  {
   "cell_type": "code",
   "execution_count": 9,
   "id": "f6e3226b",
   "metadata": {},
   "outputs": [
    {
     "data": {
      "text/latex": [
       "$$ \\begin{equation}\n",
       "\\left[\n",
       "\\begin{array}{cccc}\n",
       "2 x_{1} & 0 & 0 & 0 \\\\\n",
       "0 & 2 x_{2} & 0 & 0 \\\\\n",
       "0 & 0 & 0 & 2 x_{4} \\\\\n",
       "\\end{array}\n",
       "\\right]\n",
       "\\end{equation}\n",
       " $$"
      ],
      "text/plain": [
       "3×4 Matrix{Num}:\n",
       " 2x_1     0  0     0\n",
       "    0  2x_2  0     0\n",
       "    0     0  0  2x_4"
      ]
     },
     "execution_count": 9,
     "metadata": {},
     "output_type": "execute_result"
    }
   ],
   "source": [
    "h_jac = jac(h, x)"
   ]
  },
  {
   "cell_type": "code",
   "execution_count": 10,
   "id": "bca740f1",
   "metadata": {},
   "outputs": [],
   "source": [
    "@assert size(h_jac) == (p, n)"
   ]
  },
  {
   "cell_type": "code",
   "execution_count": 11,
   "id": "b2d1ed9f",
   "metadata": {},
   "outputs": [
    {
     "data": {
      "text/latex": [
       "$$ \\begin{equation}\n",
       "\\left[\n",
       "\\begin{array}{ccc}\n",
       "0 & 0 & 3 \\\\\n",
       "3 & 0 & 0 \\\\\n",
       "\\end{array}\n",
       "\\right]\n",
       "\\end{equation}\n",
       " $$"
      ],
      "text/plain": [
       "2×3 Matrix{Num}:\n",
       " 0  0  3\n",
       " 3  0  0"
      ]
     },
     "execution_count": 11,
     "metadata": {},
     "output_type": "execute_result"
    }
   ],
   "source": [
    "y = h(x)\n",
    "g_jac = jac(g, y)"
   ]
  },
  {
   "cell_type": "code",
   "execution_count": 12,
   "id": "eb199e2e",
   "metadata": {},
   "outputs": [],
   "source": [
    "@assert size(g_jac) == (m, p)"
   ]
  },
  {
   "cell_type": "code",
   "execution_count": 13,
   "id": "e02f8401",
   "metadata": {},
   "outputs": [
    {
     "data": {
      "text/latex": [
       "$$ \\begin{equation}\n",
       "\\left[\n",
       "\\begin{array}{cccc}\n",
       "0 & 0 & 0 & 6 x_{4} \\\\\n",
       "6 x_{1} & 0 & 0 & 0 \\\\\n",
       "\\end{array}\n",
       "\\right]\n",
       "\\end{equation}\n",
       " $$"
      ],
      "text/plain": [
       "2×4 Matrix{Num}:\n",
       "    0  0  0  6x_4\n",
       " 6x_1  0  0     0"
      ]
     },
     "execution_count": 13,
     "metadata": {},
     "output_type": "execute_result"
    }
   ],
   "source": [
    "g_jac * h_jac"
   ]
  },
  {
   "cell_type": "code",
   "execution_count": 14,
   "id": "028b5a36",
   "metadata": {},
   "outputs": [
    {
     "data": {
      "text/latex": [
       "$$ \\begin{equation}\n",
       "\\left[\n",
       "\\begin{array}{cccc}\n",
       "0 & 0 & 0 & 6 x_{4} \\\\\n",
       "6 x_{1} & 0 & 0 & 0 \\\\\n",
       "\\end{array}\n",
       "\\right]\n",
       "\\end{equation}\n",
       " $$"
      ],
      "text/plain": [
       "2×4 Matrix{Num}:\n",
       "    0  0  0  6x_4\n",
       " 6x_1  0  0     0"
      ]
     },
     "execution_count": 14,
     "metadata": {},
     "output_type": "execute_result"
    }
   ],
   "source": [
    "full_jac"
   ]
  },
  {
   "cell_type": "markdown",
   "id": "35c528fe",
   "metadata": {},
   "source": [
    "As we can see above, composed jacobian is equal to the one computed by Symbolically."
   ]
  }
 ],
 "metadata": {
  "kernelspec": {
   "display_name": "Julia 1.10.2",
   "language": "julia",
   "name": "julia-1.10"
  },
  "language_info": {
   "file_extension": ".jl",
   "mimetype": "application/julia",
   "name": "julia",
   "version": "1.10.2"
  }
 },
 "nbformat": 4,
 "nbformat_minor": 5
}
