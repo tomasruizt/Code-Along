{
 "cells": [
  {
   "cell_type": "markdown",
   "id": "1f2200bc-0512-4d44-867c-8ce1741fcf46",
   "metadata": {},
   "source": [
    "# 8.3 Adjoint Differentiation Through Non-Linear System of Equations"
   ]
  },
  {
   "cell_type": "markdown",
   "id": "1ce3e22d-8d2a-4275-bd08-e0b4a122e3d2",
   "metadata": {},
   "source": [
    "### Example Non-Linear System\n",
    "Imagine we have a non-linear system of equations $g(p, x) = 0$:\n",
    "$$\n",
    "\\begin{align*}\n",
    "g_1(p, x) &= p x_1^2 - x_2 = 0 \\\\\n",
    "g_2(p, x) &= \\ln(x_2) + 1 - p x_1 = 0 \n",
    "\\end{align*}\n",
    "$$"
   ]
  },
  {
   "cell_type": "markdown",
   "id": "dbdd59ff-a561-4873-ad00-a89b83ce9ef9",
   "metadata": {},
   "source": [
    "From $g_1$ we can easily infer that $x_2=x_1^2 / p \\implies 2 \\ln(x_1) - \\ln(p) +1 -p x_1 = 0$"
   ]
  },
  {
   "cell_type": "code",
   "execution_count": 1,
   "id": "419b063f-e19c-4fb7-a01f-35f33a96b82e",
   "metadata": {},
   "outputs": [],
   "source": [
    "import torch\n",
    "\n",
    "def g1(p, x): return p * x[0]**2 - x[1]\n",
    "\n",
    "def g2(p, x): return torch.log(x[1]) + 1 - p * x[0]"
   ]
  },
  {
   "cell_type": "code",
   "execution_count": 2,
   "id": "607534b8-b1e4-43e7-ab95-a80f6e846d0a",
   "metadata": {},
   "outputs": [],
   "source": [
    "%%capture\n",
    "import matplotlib.pyplot as plt\n",
    "xs = torch.linspace(0.5, 5, 100)\n",
    "plt.plot(xs, xs)\n",
    "plt.plot(xs, 2 * torch.log(xs) + 1)"
   ]
  },
  {
   "cell_type": "markdown",
   "id": "0a2d3fe5-e747-4ee4-8d16-839d77ad2099",
   "metadata": {},
   "source": [
    "If $p=1$, then the solutions for $x_1$ are 1 and $\\approx 3.5$. The solution for $x_2 = x_1^2$"
   ]
  },
  {
   "cell_type": "code",
   "execution_count": 3,
   "id": "740dd184-3519-4356-9560-632fcbbb7b7d",
   "metadata": {},
   "outputs": [
    {
     "data": {
      "text/plain": [
       "(tensor(0.), tensor(0.), tensor(0.), tensor(0.0055))"
      ]
     },
     "execution_count": 3,
     "metadata": {},
     "output_type": "execute_result"
    }
   ],
   "source": [
    "t = torch.tensor\n",
    "g1(p=1.0, x=t([1.0, 1.0])), g2(p=1.0, x=t([1.0, 1.0])), g1(p=1, x=t([3.5, 3.5**2])), g2(p=1, x=t([3.5, 3.5**2]))"
   ]
  },
  {
   "cell_type": "markdown",
   "id": "20c0c7b0-8ef6-4502-98ae-d37a282e6035",
   "metadata": {},
   "source": [
    "# Implicit Function Theorem"
   ]
  },
  {
   "cell_type": "markdown",
   "id": "fdaf2aea-9265-42a1-85fb-2959d4d9694a",
   "metadata": {},
   "source": [
    "We are interested changing $p$ (and therefore $x$) to optimize a function $f(x(p))$ while still respecting $g(p, x) = 0$.\n",
    "$$\n",
    "\\begin{align*}\n",
    "dg &= \\frac{\\partial g}{\\partial p} dp + \\frac{\\partial g}{\\partial x} dx = 0 \\\\\n",
    "\\implies dx &= - (\\frac{\\partial g}{\\partial x})^{-1} \\frac{\\partial g}{\\partial p} dp\n",
    "\\end{align*}\n",
    "$$\n",
    "Note that $dg$ should have the same size as $g$."
   ]
  },
  {
   "cell_type": "markdown",
   "id": "603717d5-0614-45d1-9a3e-5638c88c3374",
   "metadata": {},
   "source": [
    "This also tells us how to compute $\\nabla x$:\n",
    "$$\n",
    "\\begin{align*}\n",
    "dx \n",
    "&= x'(p) dp \\\\\n",
    "&= \\underbrace{ - (\\frac{\\partial g}{\\partial x})^{-1} \\frac{\\partial g}{\\partial p} }_{h} dp \\\\\n",
    "\\implies \\nabla x &= h\n",
    "\\end{align*}\n",
    "$$\n",
    "Meaning $h$ is the result of solving the linear system with matrix $\\frac{\\partial g}{\\partial x}$ and vector $- \\frac{\\partial g}{\\partial p}$."
   ]
  },
  {
   "cell_type": "markdown",
   "id": "88d9c7f7-bc7e-47a4-918b-32c79b39d8e7",
   "metadata": {},
   "source": [
    "Writing down $df$:\n",
    "$$\n",
    "\\begin{align*}\n",
    "df &= f'(x) dx \\\\\n",
    "&= \\underbrace{- f'(x)(\\frac{\\partial g}{\\partial x})^{-1}}_{v^T} \\frac{\\partial g}{\\partial p} dp \\\\\n",
    "\\implies \\nabla f &= v^T \\frac{\\partial g}{\\partial p}\n",
    "\\end{align*}\n",
    "$$"
   ]
  },
  {
   "cell_type": "markdown",
   "id": "5cdbfcfb-49a7-479c-9e64-512839def813",
   "metadata": {},
   "source": [
    "This means that $v$ is the result of solving the linear system with matrix $(\\partial g / \\partial x )^T$ (Jacobian transposed) and the vector $-f'(x)$."
   ]
  },
  {
   "cell_type": "markdown",
   "id": "b61e811a-b20e-4dc6-a1f9-60d7a50a38e5",
   "metadata": {},
   "source": [
    "Imagine we want to minimize $f(x(p)) = || x ||_2$\n",
    "\n",
    "From the previous notebook we know that $f'(x) = \\frac{x}{f(x)}$"
   ]
  },
  {
   "cell_type": "code",
   "execution_count": 4,
   "id": "0000c55b-426d-45da-844e-4507ed5eee50",
   "metadata": {},
   "outputs": [],
   "source": [
    "def g(p, x): return torch.stack([g1(p, x), g2(p, x)])\n",
    "\n",
    "assert 2 == len(g(1.0, t([1, 1.])))"
   ]
  },
  {
   "cell_type": "code",
   "execution_count": 5,
   "id": "ec3ffad8-cf49-474b-8b6d-250819d9865a",
   "metadata": {},
   "outputs": [],
   "source": [
    "jac = torch.autograd.functional.jacobian\n",
    "\n",
    "def jacobians(p, x):\n",
    "    dgdp, dgdx = jac(g, (p, x))\n",
    "    return dgdp, dgdx\n",
    "\n",
    "assert 2 == len(jacobians(t(1.), t([1., 1.])))"
   ]
  },
  {
   "cell_type": "code",
   "execution_count": 6,
   "id": "df562ee8-4235-4dd5-8158-bd98a3047a44",
   "metadata": {},
   "outputs": [],
   "source": [
    "from torch import norm\n",
    "from torch.linalg import solve\n",
    "\n",
    "def f(x): return norm(x)\n",
    "\n",
    "def fprime(x): return x / f(x)\n",
    "\n",
    "p = t(1.)\n",
    "x = t([1., 1.])\n",
    "\n",
    "def grads(p, x):\n",
    "    dgdp, dgdx = jacobians(p, x)\n",
    "    h = solve(dgdx, - dgdp)\n",
    "    v = solve(dgdx.T, - fprime(x))\n",
    "    grad_x = h\n",
    "    grad_p = v.T @ dgdp\n",
    "    return grad_p, grad_x"
   ]
  },
  {
   "cell_type": "code",
   "execution_count": 7,
   "id": "792b4f7f-b22d-4dbc-b627-d5ec968f7bef",
   "metadata": {},
   "outputs": [
    {
     "name": "stderr",
     "output_type": "stream",
     "text": [
      "/var/folders/l0/hp0gs2xs7890bxf3bycjt0400000gn/T/ipykernel_11402/1714178174.py:16: UserWarning: The use of `x.T` on tensors of dimension other than 2 to reverse their shape is deprecated and it will throw an error in a future release. Consider `x.mT` to transpose batches of matrices or `x.permute(*torch.arange(x.ndim - 1, -1, -1))` to reverse the dimensions of a tensor. (Triggered internally at /Users/runner/work/pytorch/pytorch/pytorch/aten/src/ATen/native/TensorShape.cpp:3641.)\n",
      "  grad_p = v.T @ dgdp\n"
     ]
    },
    {
     "data": {
      "text/plain": [
       "(tensor(0.7071), tensor([0., 1.]))"
      ]
     },
     "execution_count": 7,
     "metadata": {},
     "output_type": "execute_result"
    }
   ],
   "source": [
    "grad_x, grad_p = grads(p, x)\n",
    "grad_x, grad_p"
   ]
  },
  {
   "cell_type": "code",
   "execution_count": 8,
   "id": "d9f2699e-0a88-4c4b-84b0-f6ddbc583b6e",
   "metadata": {},
   "outputs": [],
   "source": [
    "def g_violation(x): return norm(g(p, x))"
   ]
  },
  {
   "cell_type": "markdown",
   "id": "e7302a0f-ff7e-4ff8-be94-fbc80f3546d9",
   "metadata": {},
   "source": [
    "# Solve system Using Scipy"
   ]
  },
  {
   "cell_type": "code",
   "execution_count": 9,
   "id": "6dd53ce3-ec42-4d91-8f97-151e239bf0e7",
   "metadata": {},
   "outputs": [],
   "source": [
    "from scipy.optimize import fsolve\n",
    "from torch import Tensor\n",
    "\n",
    "def g_np(p, x): return g(t(p), t(x)).numpy()\n",
    "\n",
    "def find_x(p: Tensor, x_guess: Tensor):\n",
    "    x_solution = fsolve(lambda x: g_np(p.numpy(), x), x0=x_guess)\n",
    "    return t(x_solution, dtype=torch.float32)"
   ]
  },
  {
   "cell_type": "code",
   "execution_count": 10,
   "id": "50d260fd-5c6a-41ab-8df6-aa8186259a36",
   "metadata": {},
   "outputs": [
    {
     "data": {
      "text/plain": [
       "tensor([1.0049, 0.9088])"
      ]
     },
     "execution_count": 10,
     "metadata": {},
     "output_type": "execute_result"
    }
   ],
   "source": [
    "find_x(p=t(0.9), x_guess=x)"
   ]
  },
  {
   "cell_type": "code",
   "execution_count": 11,
   "id": "92e4b2c9-b9ab-4d88-ba8b-bfc64de023f6",
   "metadata": {},
   "outputs": [],
   "source": [
    "p = t(1.)\n",
    "x = t([1., 1.])\n",
    "\n",
    "violations = []\n",
    "ps = []\n",
    "xs = []\n",
    "grads_x = []\n",
    "grads_p = []\n",
    "for _ in range(30):\n",
    "    ps.append(p)\n",
    "    xs.append(x)\n",
    "    violations.append(g_violation(x))\n",
    "    grad_p, grad_x = grads(p=p, x=x)\n",
    "    grads_x.append(grad_x)\n",
    "    grads_p.append(grad_p)\n",
    "    p = p - 0.1 * grad_p\n",
    "    x = find_x(p=p, x_guess=x)\n",
    "\n",
    "xs = torch.stack(xs)\n",
    "grads_x = torch.stack(grads_x)"
   ]
  },
  {
   "cell_type": "code",
   "execution_count": 12,
   "id": "e16297a9-3d47-4b03-a3c6-81a012f00856",
   "metadata": {},
   "outputs": [
    {
     "data": {
      "text/plain": [
       "<matplotlib.quiver.Quiver at 0x172d42c30>"
      ]
     },
     "execution_count": 12,
     "metadata": {},
     "output_type": "execute_result"
    },
    {
     "data": {
      "image/png": "[encoded data removed]",
      "text/plain": [
       "<Figure size 640x480 with 1 Axes>"
      ]
     },
     "metadata": {},
     "output_type": "display_data"
    }
   ],
   "source": [
    "plt.quiver(xs[:,0], xs[:,1], -grads_x[:,0], -grads_x[:,1])"
   ]
  },
  {
   "cell_type": "code",
   "execution_count": 13,
   "id": "ada55ca7-ff70-4c71-8f21-71e777f09ff3",
   "metadata": {},
   "outputs": [
    {
     "data": {
      "text/plain": [
       "<matplotlib.collections.PathCollection at 0x151a92630>"
      ]
     },
     "execution_count": 13,
     "metadata": {},
     "output_type": "execute_result"
    },
    {
     "data": {
      "image/png": "[encoded data removed]",
      "text/plain": [
       "<Figure size 640x480 with 1 Axes>"
      ]
     },
     "metadata": {},
     "output_type": "display_data"
    }
   ],
   "source": [
    "plt.scatter(xs[:, 0], xs[:, 1], alpha=.5)"
   ]
  },
  {
   "cell_type": "code",
   "execution_count": 14,
   "id": "3266a1b8-1c2c-4bca-9d2f-e84ac3a8858a",
   "metadata": {},
   "outputs": [
    {
     "data": {
      "image/png": "[encoded data removed]",
      "text/plain": [
       "<Figure size 1000x300 with 2 Axes>"
      ]
     },
     "metadata": {},
     "output_type": "display_data"
    }
   ],
   "source": [
    "fig1, axs = plt.subplots(nrows=1, ncols=2, figsize=(10, 3))\n",
    "axs[0].plot(norm(grads_x, dim=1), label=\"Norm(grad x)\")\n",
    "axs[0].set_ylim((0, None))\n",
    "axs[0].legend()\n",
    "axs[1].plot(grads_p, label=\"grad p\")\n",
    "axs[1].legend()\n",
    "plt.show()"
   ]
  },
  {
   "cell_type": "markdown",
   "id": "c581b9c9-571f-4fa7-8b6a-a1f2fb335365",
   "metadata": {},
   "source": [
    "# Questions:\n",
    "* Why $\\nabla x$ not reproduce the path followed by optimizing $p$?\n",
    "* How does the optimization look like if we start closer to the second solution $x_1 \\approx 3.5, x_2 = x_1^2$"
   ]
  }
 ],
 "metadata": {
  "kernelspec": {
   "display_name": "Python 3 (ipykernel)",
   "language": "python",
   "name": "python3"
  },
  "language_info": {
   "codemirror_mode": {
    "name": "ipython",
    "version": 3
   },
   "file_extension": ".py",
   "mimetype": "text/x-python",
   "name": "python",
   "nbconvert_exporter": "python",
   "pygments_lexer": "ipython3",
   "version": "3.12.2"
  }
 },
 "nbformat": 4,
 "nbformat_minor": 5
}
