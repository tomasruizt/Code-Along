{
 "cells": [
  {
   "cell_type": "markdown",
   "id": "33fb4c55-77f9-45c0-9074-c126999f7f9d",
   "metadata": {},
   "source": [
    "# Reverse-mode \"Adjoint\" Differentiation Through an ODE Solution\n",
    "### Example 11.3\n",
    "We are given a scalar ODE, with solution $u \\in \\mathcal{R}$, parameters $p \\in \\mathcal{R}^3$, and defined by:\n",
    "$$\n",
    "u_t = f(u, p, t) = p_1 + p_2 u + p_3 u^2 = \\langle p, [1, u, u^2] \\rangle\n",
    "$$\n",
    "The initial condition is $u_0 = 0$."
   ]
  },
  {
   "cell_type": "markdown",
   "id": "892b88ca-07f8-4671-b4db-7764efcd5129",
   "metadata": {},
   "source": [
    "# Solve with Scipy"
   ]
  },
  {
   "cell_type": "code",
   "execution_count": 1,
   "id": "675bc0cb-8e8c-4ff7-95c1-dd1851e28322",
   "metadata": {},
   "outputs": [],
   "source": [
    "from scipy.integrate import solve_ivp\n",
    "import numpy as np"
   ]
  },
  {
   "cell_type": "code",
   "execution_count": 2,
   "id": "3160cc67-8199-41c4-9c74-337fca44784f",
   "metadata": {},
   "outputs": [],
   "source": [
    "def f(u, p):\n",
    "    return np.array([u_vec(u) @ p])\n",
    "\n",
    "def u_vec(u):\n",
    "    return np.concatenate([[1.], u, u**2])\n",
    "\n",
    "p0 = np.array([1., 2., 3.]) * 0.1\n",
    "\n",
    "u0 = np.array([0.0])\n",
    "\n",
    "assert f(u0, p0).shape == u0.shape"
   ]
  },
  {
   "cell_type": "code",
   "execution_count": 3,
   "id": "8b83527b-1bb5-4309-837c-8220215d94b6",
   "metadata": {},
   "outputs": [],
   "source": [
    "def u(p, show=False, dense=False):\n",
    "    sol = solve_ivp(\n",
    "        fun=lambda t, u: f(u, p),\n",
    "        t_span=(0, 1),\n",
    "        y0=u0,\n",
    "        dense_output=True\n",
    "    )\n",
    "    if dense:\n",
    "        return sol.sol\n",
    "    if show:\n",
    "        print(sol)\n",
    "    ts = np.linspace(0, 1)\n",
    "    return ts, sol.sol(ts)[0]\n",
    "\n",
    "assert u(p0, dense=True)(0.723872387) is not None"
   ]
  },
  {
   "cell_type": "code",
   "execution_count": 4,
   "id": "9430ea6b-d4e5-4963-87c0-bff888a14e6a",
   "metadata": {},
   "outputs": [
    {
     "name": "stdout",
     "output_type": "stream",
     "text": [
      "  message: The solver successfully reached the end of the integration interval.\n",
      "  success: True\n",
      "   status: 0\n",
      "        t: [ 0.000e+00  1.000e-04  1.100e-03  1.110e-02  1.111e-01\n",
      "             1.000e+00]\n",
      "        y: [[ 0.000e+00  1.000e-05  1.100e-04  1.111e-03  1.124e-02\n",
      "              1.119e-01]]\n",
      "      sol: <scipy.integrate._ivp.common.OdeSolution object at 0x10fc95760>\n",
      " t_events: None\n",
      " y_events: None\n",
      "     nfev: 32\n",
      "     njev: 0\n",
      "      nlu: 0\n"
     ]
    }
   ],
   "source": [
    "ts, us = u(p0, show=True)"
   ]
  },
  {
   "cell_type": "markdown",
   "id": "a891fe99-a902-4e7b-9b2e-08d8665727f2",
   "metadata": {},
   "source": [
    "# Plot"
   ]
  },
  {
   "cell_type": "code",
   "execution_count": 5,
   "id": "04db2e0d-ab2d-41c7-8ec5-4366fa715305",
   "metadata": {},
   "outputs": [],
   "source": [
    "import matplotlib.pyplot as plt"
   ]
  },
  {
   "cell_type": "code",
   "execution_count": 6,
   "id": "7c05bbe0-5869-46dc-b4bc-f48f0e377e24",
   "metadata": {},
   "outputs": [
    {
     "data": {
      "text/plain": [
       "<matplotlib.collections.PathCollection at 0x129228cb0>"
      ]
     },
     "execution_count": 6,
     "metadata": {},
     "output_type": "execute_result"
    },
    {
     "data": {
      "image/png": "[encoded data removed]",
      "text/plain": [
       "<Figure size 640x480 with 1 Axes>"
      ]
     },
     "metadata": {},
     "output_type": "display_data"
    }
   ],
   "source": [
    "plt.scatter(ts, us)"
   ]
  },
  {
   "cell_type": "markdown",
   "id": "fab8273a-9b28-40ea-ae98-dfc083eb0d7c",
   "metadata": {},
   "source": [
    "# Evaluate Loss Functional\n",
    "Given by $$G(p) = \\int_0^T (u(p, t) - t^3)^2 dt $$"
   ]
  },
  {
   "cell_type": "code",
   "execution_count": 7,
   "id": "bffc89b0-0bbc-4a22-b16f-86e1e770bfd7",
   "metadata": {},
   "outputs": [
    {
     "name": "stdout",
     "output_type": "stream",
     "text": [
      "  message: The solver successfully reached the end of the integration interval.\n",
      "  success: True\n",
      "   status: 0\n",
      "        t: [ 0.000e+00  1.000e-04  1.100e-03  1.110e-02  1.111e-01\n",
      "             1.000e+00]\n",
      "        y: [[ 0.000e+00  1.000e-05  1.100e-04  1.111e-03  1.124e-02\n",
      "              1.119e-01]]\n",
      "      sol: <scipy.integrate._ivp.common.OdeSolution object at 0x1292e8e30>\n",
      " t_events: None\n",
      " y_events: None\n",
      "     nfev: 32\n",
      "     njev: 0\n",
      "      nlu: 0\n",
      "len(ts) = 50\n"
     ]
    },
    {
     "data": {
      "text/plain": [
       "0.10309318796550947"
      ]
     },
     "execution_count": 7,
     "metadata": {},
     "output_type": "execute_result"
    }
   ],
   "source": [
    "from scipy.integrate import trapezoid\n",
    "\n",
    "def G(p, show=False):\n",
    "    ts, us = u(p=p, show=show)\n",
    "    if show:\n",
    "        print(f\"len(ts) = {len(ts)}\")\n",
    "    gs = (us - ts**3)**2\n",
    "    return trapezoid(gs, ts)\n",
    "\n",
    "G(p0, show=True)"
   ]
  },
  {
   "cell_type": "markdown",
   "id": "7d7cf5da-a487-414b-a780-584becd5418e",
   "metadata": {},
   "source": [
    "# Find Gradient To Minimize Loss\n",
    "\n",
    "We have no analytical form for the jacobian vector $\\frac{\\partial u}{\\partial p}$, but we can find it using another ODE solve."
   ]
  },
  {
   "cell_type": "markdown",
   "id": "e83a917e-cf99-4413-a6a0-4da292dc4989",
   "metadata": {},
   "source": [
    "Since we know that $$u_t = f$$ we can derive w.r.t $p$, and exchange the derivative order.\n",
    "$$\n",
    "(u_p)_t = f_u u_p + f_p\n",
    "$$\n",
    "Where $u_p, f_p \\in \\mathcal{R}^3$, $f_u$ and is a scalar."
   ]
  },
  {
   "cell_type": "markdown",
   "id": "ec73fc91-9e71-4091-ba4a-01b5d9688ca5",
   "metadata": {},
   "source": [
    "$$\n",
    "\\begin{align*}\n",
    "f_u = p_2 + 2 p_3 u \\\\\n",
    "f_p = [1, u, u^2]\n",
    "\\end{align*}\n",
    "$$"
   ]
  },
  {
   "cell_type": "markdown",
   "id": "3a6ac9ab-48d8-4042-94a7-461e506d43e3",
   "metadata": {},
   "source": [
    "We also know that $u_0 = 0$, so $(u_0)_p = 0$, too."
   ]
  },
  {
   "cell_type": "code",
   "execution_count": 8,
   "id": "bbb82883-895a-4793-80cc-274ce0ad4820",
   "metadata": {},
   "outputs": [],
   "source": [
    "def f2(y, p):\n",
    "    _, p2, p3 = p\n",
    "    u = y[:1]\n",
    "    u_p = y[1:]\n",
    "    \n",
    "    u_t = f(u=u, p=p)  # the ODE for u is solved at the same time.\n",
    "    u_p_t = u_p * (p2 + 2*p3*u) + u_vec(u)\n",
    "    return np.concatenate((u_t, u_p_t))\n",
    "        \n",
    "\n",
    "assert f2(np.ones(4), p=p0).shape == np.ones(4).shape"
   ]
  },
  {
   "cell_type": "code",
   "execution_count": 9,
   "id": "f8b4bd87-61bd-45bd-91fb-6ababc039dc4",
   "metadata": {},
   "outputs": [],
   "source": [
    "def u_p(p, show=False):\n",
    "    sol = solve_ivp(\n",
    "        fun=lambda t,y: f2(y,p),\n",
    "        t_span=(0, 1),\n",
    "        y0=np.zeros(4),\n",
    "        dense_output=True\n",
    "    )\n",
    "    if show:\n",
    "        print(sol)\n",
    "    ts = np.linspace(0, 1)\n",
    "    us = sol.sol(ts)[0, :]\n",
    "    u_ps = sol.sol(ts)[1:, :]\n",
    "    return ts, us, u_ps"
   ]
  },
  {
   "cell_type": "code",
   "execution_count": 10,
   "id": "deb27e45-fe0c-457c-bba2-183c597bbace",
   "metadata": {},
   "outputs": [
    {
     "name": "stdout",
     "output_type": "stream",
     "text": [
      "  message: The solver successfully reached the end of the integration interval.\n",
      "  success: True\n",
      "   status: 0\n",
      "        t: [ 0.000e+00  1.000e-04  1.100e-03  1.110e-02  1.111e-01\n",
      "             1.000e+00]\n",
      "        y: [[ 0.000e+00  1.000e-05 ...  1.124e-02  1.119e-01]\n",
      "            [ 0.000e+00  1.000e-04 ...  1.124e-01  1.132e+00]\n",
      "            [ 0.000e+00  5.000e-10 ...  6.265e-04  5.847e-02]\n",
      "            [ 0.000e+00  3.333e-15 ...  4.675e-06  4.188e-03]]\n",
      "      sol: <scipy.integrate._ivp.common.OdeSolution object at 0x12932f200>\n",
      " t_events: None\n",
      " y_events: None\n",
      "     nfev: 32\n",
      "     njev: 0\n",
      "      nlu: 0\n"
     ]
    }
   ],
   "source": [
    "ts, us, u_ps = u_p(p0, show=True)"
   ]
  },
  {
   "cell_type": "markdown",
   "id": "e39ee84a-f573-4868-8267-9b8bd9025f85",
   "metadata": {},
   "source": [
    "Plot the 3 dimensions of $u_p$:"
   ]
  },
  {
   "cell_type": "code",
   "execution_count": 11,
   "id": "5d8864c0-79c3-4f79-9631-468e9cd4d640",
   "metadata": {},
   "outputs": [
    {
     "data": {
      "text/plain": [
       "[<matplotlib.lines.Line2D at 0x1292f9820>,\n",
       " <matplotlib.lines.Line2D at 0x129362e70>,\n",
       " <matplotlib.lines.Line2D at 0x129363350>]"
      ]
     },
     "execution_count": 11,
     "metadata": {},
     "output_type": "execute_result"
    },
    {
     "data": {
      "image/png": "[encoded data removed]",
      "text/plain": [
       "<Figure size 640x480 with 1 Axes>"
      ]
     },
     "metadata": {},
     "output_type": "display_data"
    }
   ],
   "source": [
    "plt.plot(ts, u_ps.T, marker=\"o\")"
   ]
  },
  {
   "cell_type": "markdown",
   "id": "85420965-44e1-491d-8370-24df461d0250",
   "metadata": {},
   "source": [
    "Now the gradient is:\n",
    "$$\n",
    "\\nabla_p G = 2 \\int_0^T (u(p, t) - t^3) u_p^T dt\n",
    "$$"
   ]
  },
  {
   "cell_type": "code",
   "execution_count": 12,
   "id": "a3782217-8cd1-44db-8b25-33930ae40ce7",
   "metadata": {},
   "outputs": [
    {
     "data": {
      "text/plain": [
       "array([-0.36330894, -0.01594253, -0.00098493])"
      ]
     },
     "execution_count": 12,
     "metadata": {},
     "output_type": "execute_result"
    }
   ],
   "source": [
    "def grad(p):\n",
    "    ts, us, u_ps = u_p(p=p)\n",
    "    ys = (us - ts**3) * u_ps\n",
    "    return 2 * trapezoid(ys, ts)\n",
    "\n",
    "grad(p=p0)"
   ]
  },
  {
   "cell_type": "code",
   "execution_count": 13,
   "id": "66b1234d-4ac8-4df6-985e-7fa750440c7b",
   "metadata": {},
   "outputs": [
    {
     "data": {
      "text/plain": [
       "0.10309318796550947"
      ]
     },
     "execution_count": 13,
     "metadata": {},
     "output_type": "execute_result"
    }
   ],
   "source": [
    "G(p0)"
   ]
  },
  {
   "cell_type": "code",
   "execution_count": 14,
   "id": "b4d6e966-46bb-4253-bd95-4192c4dd679d",
   "metadata": {},
   "outputs": [
    {
     "data": {
      "text/plain": [
       "0.022037469217443904"
      ]
     },
     "execution_count": 14,
     "metadata": {},
     "output_type": "execute_result"
    }
   ],
   "source": [
    "G(p0 - grad(p0))"
   ]
  },
  {
   "cell_type": "markdown",
   "id": "e67b1d59-f538-4c18-9999-e2858307310b",
   "metadata": {},
   "source": [
    "# Optimize p"
   ]
  },
  {
   "cell_type": "code",
   "execution_count": 15,
   "id": "c092f631-85d6-4a23-8a1e-abbd9885fc6c",
   "metadata": {},
   "outputs": [
    {
     "name": "stdout",
     "output_type": "stream",
     "text": [
      "0.09035097446386946\n",
      "0.031138092958603245\n",
      "0.020402578682329243\n",
      "0.018697537331478286\n",
      "0.018366212787302844\n",
      "0.018220177310243873\n",
      "0.018097757838280996\n",
      "0.017978466048563544\n",
      "0.017859826212809744\n",
      "0.017741557601288774\n",
      "Final p=[0.51988734 0.33822312 0.35674389]\n"
     ]
    }
   ],
   "source": [
    "p = p0\n",
    "for idx in range(100):\n",
    "    p = p - 0.1 * grad(p)\n",
    "    loss = G(p)\n",
    "    if idx % 10 == 0:\n",
    "        print(loss)\n",
    "forward_p_opt = p\n",
    "print(f\"Final p={forward_p_opt}\")"
   ]
  },
  {
   "cell_type": "code",
   "execution_count": 16,
   "id": "5eac2b63-70ec-4761-b535-86e29af11dd1",
   "metadata": {},
   "outputs": [],
   "source": [
    "def plot_u(p):\n",
    "    ts, us = u(p)\n",
    "    plt.plot(ts, us)\n",
    "    plt.plot(ts, ts**3)"
   ]
  },
  {
   "cell_type": "code",
   "execution_count": 17,
   "id": "6a709795-dde6-48cd-8750-32d921776ebe",
   "metadata": {},
   "outputs": [
    {
     "data": {
      "image/png": "[encoded data removed]",
      "text/plain": [
       "<Figure size 640x480 with 1 Axes>"
      ]
     },
     "metadata": {},
     "output_type": "display_data"
    }
   ],
   "source": [
    "plot_u(p)"
   ]
  },
  {
   "cell_type": "markdown",
   "id": "6147150b-c9b2-45de-9d2a-b3c23b589752",
   "metadata": {},
   "source": [
    "The blue curve for $u(p, t)$ is the ODE solution for optimal $p^*$. The curve comes close to the $t^3$ curve. The crux is that the curve satisfies the ODE defined by $f$ in the beginning, and the initial condition $u_0=0$."
   ]
  },
  {
   "cell_type": "markdown",
   "id": "a72c40ab-bc2d-42ed-951c-b1e9583eb749",
   "metadata": {},
   "source": [
    "# Reverse-Mode Differentiation"
   ]
  },
  {
   "cell_type": "markdown",
   "id": "47169e75-89ac-4af7-a738-50a82b261531",
   "metadata": {},
   "source": [
    "The adjoint ODE is:\n",
    "$$\n",
    "\\begin{align*}\n",
    "v_t \n",
    "&= g_u^T - f_u^T v \\\\\n",
    "&= 2 (u - t^3) - (p_2 + 2 p_3 u) v\n",
    "\\end{align*}\n",
    "$$"
   ]
  },
  {
   "cell_type": "code",
   "execution_count": 18,
   "id": "a946ac28-c24c-4d73-b01f-e084722992e9",
   "metadata": {},
   "outputs": [],
   "source": [
    "class Ode2:\n",
    "    def __init__(self, p):\n",
    "        self.p = p\n",
    "        self.u_fn = u(p=p, dense=True)\n",
    "        assert self.u_fn(0.12313)\n",
    "\n",
    "    def f3(self, t, v):\n",
    "        _, p2, p3 = self.p\n",
    "        u = self.u_fn(t)\n",
    "        v_t = 2*(u-t**3) -(p2 + 2*p3*u)*v\n",
    "        return v_t\n",
    "\n",
    "assert Ode2(p0).f3(0.0, np.zeros(1)).shape == np.zeros(1).shape\n",
    "\n",
    "def v(p, show=False):\n",
    "    ode = Ode2(p)\n",
    "    sol = solve_ivp(\n",
    "        fun=ode.f3,\n",
    "        t_span=(1, 0),\n",
    "        y0=np.zeros(1),\n",
    "        dense_output=True\n",
    "    )\n",
    "    if show:\n",
    "        print(sol)\n",
    "    ts = np.linspace(0, 1)\n",
    "    us = ode.u_fn(ts)\n",
    "    vs = sol.sol(ts)[0]\n",
    "    \n",
    "    # assert np.isclose(0.0, vs[-1]), vs[-1]\n",
    "    \n",
    "    return ts, us, vs\n",
    "\n",
    "assert v(p0) is not None"
   ]
  },
  {
   "cell_type": "code",
   "execution_count": 19,
   "id": "3b88925a-3a2b-445b-8589-3b835f5952e9",
   "metadata": {},
   "outputs": [
    {
     "data": {
      "image/png": "[encoded data removed]",
      "text/plain": [
       "<Figure size 640x480 with 1 Axes>"
      ]
     },
     "metadata": {},
     "output_type": "display_data"
    }
   ],
   "source": [
    "def plot_v(p):\n",
    "    ts, us, vs = v(p)\n",
    "    plt.plot(ts, vs)\n",
    "\n",
    "plot_v(p0)"
   ]
  },
  {
   "cell_type": "code",
   "execution_count": 20,
   "id": "9cc21900-8e9f-465f-8832-4e37374795b9",
   "metadata": {},
   "outputs": [],
   "source": [
    "def grad2(p, show=False):\n",
    "    ts, us, vs = v(p=p, show=show)\n",
    "    es = np.vstack([np.ones_like(us), us, us**2]) * vs\n",
    "    return -trapezoid(es, ts)"
   ]
  },
  {
   "cell_type": "markdown",
   "id": "76d6cf4a-7f02-4713-a3b5-867d64317b6c",
   "metadata": {},
   "source": [
    "Now optimize:"
   ]
  },
  {
   "cell_type": "code",
   "execution_count": 21,
   "id": "3301307e-b4f8-4bff-b7fb-07fd51dcdf8a",
   "metadata": {},
   "outputs": [
    {
     "name": "stdout",
     "output_type": "stream",
     "text": [
      "0.09036291343432583\n",
      "0.031175814842601245\n",
      "0.02042169929003144\n",
      "0.01870573915679095\n",
      "0.01837055157911647\n",
      "0.01822352246183525\n",
      "0.01810110776094997\n",
      "0.01798215700192219\n",
      "0.01786396978727\n",
      "0.017746189235262548\n",
      "Final p=[0.51971024 0.33781044 0.35644083]\n"
     ]
    }
   ],
   "source": [
    "p = p0\n",
    "for idx in range(100):\n",
    "    p = p - 0.1 * grad2(p)\n",
    "    loss = G(p)\n",
    "    if idx % 10 == 0:\n",
    "        print(loss)\n",
    "reverse_p_opt = p\n",
    "print(f\"Final p={reverse_p_opt}\")"
   ]
  },
  {
   "cell_type": "code",
   "execution_count": 22,
   "id": "2d084f06-231c-4562-97ee-c8275eac8bf6",
   "metadata": {},
   "outputs": [
    {
     "data": {
      "image/png": "[encoded data removed]",
      "text/plain": [
       "<Figure size 640x480 with 1 Axes>"
      ]
     },
     "metadata": {},
     "output_type": "display_data"
    }
   ],
   "source": [
    "plot_u(p)"
   ]
  },
  {
   "cell_type": "code",
   "execution_count": 23,
   "id": "0852ede2-7dd1-4ae6-86d2-854ef66503c6",
   "metadata": {},
   "outputs": [
    {
     "data": {
      "image/png": "[encoded data removed]",
      "text/plain": [
       "<Figure size 640x480 with 1 Axes>"
      ]
     },
     "metadata": {},
     "output_type": "display_data"
    }
   ],
   "source": [
    "plot_v(p)"
   ]
  },
  {
   "cell_type": "markdown",
   "id": "33b5d2f9-b21f-486d-8388-d3c5c7208184",
   "metadata": {},
   "source": [
    "# Comparison\n",
    "* Both modes (forward- and reverse-mode differentation) produce grads that reduce the loss $G(p)$.\n",
    "* However, notice that in forward-mode we compute $u_p$, which is a 3-dimensional vector, and we integrate this vector from 0 to 1.\n",
    "* In reverse-mode we computed $v$ which is a scalar, and integrate the scalar from 0 to 1.\n",
    "* When the dimensionality of the ODE grows, forward-mode will always be of size $n$, while reverse-mode will be of size 1 (assuming the loss is a scalar).\n",
    "\n",
    "**Numerical proof:** both forward- and reverse-mode gradients are equivalent, the optimiums reached are equivalent, as well as the loss."
   ]
  },
  {
   "cell_type": "code",
   "execution_count": 24,
   "id": "9b4fba24-5475-4654-9629-a4df63000d65",
   "metadata": {},
   "outputs": [
    {
     "data": {
      "text/plain": [
       "(array([-0.36330894, -0.01594253, -0.00098493]),\n",
       " array([-0.36295583, -0.01591441, -0.00098264]))"
      ]
     },
     "execution_count": 24,
     "metadata": {},
     "output_type": "execute_result"
    }
   ],
   "source": [
    "grad(p0), grad2(p0)"
   ]
  },
  {
   "cell_type": "code",
   "execution_count": 25,
   "id": "ec67031d-f6c1-4630-9544-123af7c520f7",
   "metadata": {},
   "outputs": [
    {
     "data": {
      "text/plain": [
       "(array([0.51988734, 0.33822312, 0.35674389]),\n",
       " array([0.51971024, 0.33781044, 0.35644083]))"
      ]
     },
     "execution_count": 25,
     "metadata": {},
     "output_type": "execute_result"
    }
   ],
   "source": [
    "forward_p_opt, reverse_p_opt"
   ]
  },
  {
   "cell_type": "code",
   "execution_count": 26,
   "id": "4c969b46-a729-464d-a3bc-0d2ffa0a65e8",
   "metadata": {},
   "outputs": [
    {
     "data": {
      "text/plain": [
       "(0.017635412527476437, 0.017640491902060303)"
      ]
     },
     "execution_count": 26,
     "metadata": {},
     "output_type": "execute_result"
    }
   ],
   "source": [
    "G(forward_p_opt), G(reverse_p_opt)"
   ]
  }
 ],
 "metadata": {
  "kernelspec": {
   "display_name": "Python 3 (ipykernel)",
   "language": "python",
   "name": "python3"
  },
  "language_info": {
   "codemirror_mode": {
    "name": "ipython",
    "version": 3
   },
   "file_extension": ".py",
   "mimetype": "text/x-python",
   "name": "python",
   "nbconvert_exporter": "python",
   "pygments_lexer": "ipython3",
   "version": "3.12.2"
  }
 },
 "nbformat": 4,
 "nbformat_minor": 5
}
