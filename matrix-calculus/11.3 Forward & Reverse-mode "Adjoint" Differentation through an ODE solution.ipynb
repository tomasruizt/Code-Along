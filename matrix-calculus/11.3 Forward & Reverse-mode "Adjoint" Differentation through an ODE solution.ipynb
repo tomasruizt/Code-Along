{
 "cells": [
  {
   "cell_type": "markdown",
   "id": "33fb4c55-77f9-45c0-9074-c126999f7f9d",
   "metadata": {},
   "source": [
    "# Reverse-mode \"Adjoint\" Differentiation Through an ODE Solution\n",
    "### Example 11.3\n",
    "We are given a scalar ODE, with solution $u \\in \\mathcal{R}$, parameters $p \\in \\mathcal{R}^3$, and defined by:\n",
    "$$\n",
    "u_t = f(u, p, t) = p_1 + p_2 u + p_3 u^2 = \\langle p, [1, u, u^2] \\rangle\n",
    "$$\n",
    "The initial condition is $u_0 = 0$."
   ]
  },
  {
   "cell_type": "markdown",
   "id": "892b88ca-07f8-4671-b4db-7764efcd5129",
   "metadata": {},
   "source": [
    "# Solve with Scipy"
   ]
  },
  {
   "cell_type": "code",
   "execution_count": 1,
   "id": "675bc0cb-8e8c-4ff7-95c1-dd1851e28322",
   "metadata": {},
   "outputs": [],
   "source": [
    "from scipy.integrate import solve_ivp\n",
    "import numpy as np"
   ]
  },
  {
   "cell_type": "code",
   "execution_count": 2,
   "id": "3160cc67-8199-41c4-9c74-337fca44784f",
   "metadata": {},
   "outputs": [],
   "source": [
    "def f(u, p):\n",
    "    return np.array([u_vec(u) @ p])\n",
    "\n",
    "def u_vec(u):\n",
    "    return np.concatenate([[1.], u, u**2])\n",
    "\n",
    "p0 = np.array([1., 2., 3.]) * 0.1\n",
    "\n",
    "u0 = np.array([0.0])\n",
    "\n",
    "assert f(u0, p0).shape == u0.shape"
   ]
  },
  {
   "cell_type": "code",
   "execution_count": 3,
   "id": "8b83527b-1bb5-4309-837c-8220215d94b6",
   "metadata": {},
   "outputs": [],
   "source": [
    "def u(p, show=False):\n",
    "    sol = solve_ivp(\n",
    "        fun=lambda t, u: f(u, p),\n",
    "        t_span=(0, 1),\n",
    "        y0=u0,\n",
    "        t_eval=np.linspace(0, 1)\n",
    "    )\n",
    "    if show:\n",
    "        print(sol)\n",
    "    return (sol.t, sol.y[0])"
   ]
  },
  {
   "cell_type": "code",
   "execution_count": 4,
   "id": "9430ea6b-d4e5-4963-87c0-bff888a14e6a",
   "metadata": {},
   "outputs": [
    {
     "name": "stdout",
     "output_type": "stream",
     "text": [
      "  message: The solver successfully reached the end of the integration interval.\n",
      "  success: True\n",
      "   status: 0\n",
      "        t: [ 0.000e+00  2.041e-02 ...  9.796e-01  1.000e+00]\n",
      "        y: [[ 0.000e+00  2.045e-03 ...  1.094e-01  1.119e-01]]\n",
      "      sol: None\n",
      " t_events: None\n",
      " y_events: None\n",
      "     nfev: 32\n",
      "     njev: 0\n",
      "      nlu: 0\n"
     ]
    }
   ],
   "source": [
    "ts, us = u(p0, show=True)"
   ]
  },
  {
   "cell_type": "markdown",
   "id": "a891fe99-a902-4e7b-9b2e-08d8665727f2",
   "metadata": {},
   "source": [
    "# Plot"
   ]
  },
  {
   "cell_type": "code",
   "execution_count": 5,
   "id": "04db2e0d-ab2d-41c7-8ec5-4366fa715305",
   "metadata": {},
   "outputs": [],
   "source": [
    "import matplotlib.pyplot as plt"
   ]
  },
  {
   "cell_type": "code",
   "execution_count": 6,
   "id": "7c05bbe0-5869-46dc-b4bc-f48f0e377e24",
   "metadata": {},
   "outputs": [
    {
     "data": {
      "text/plain": [
       "<matplotlib.collections.PathCollection at 0x11d0fd520>"
      ]
     },
     "execution_count": 6,
     "metadata": {},
     "output_type": "execute_result"
    },
    {
     "data": {
      "image/png": "[encoded data removed]",
      "text/plain": [
       "<Figure size 640x480 with 1 Axes>"
      ]
     },
     "metadata": {},
     "output_type": "display_data"
    }
   ],
   "source": [
    "plt.scatter(ts, us)"
   ]
  },
  {
   "cell_type": "markdown",
   "id": "fab8273a-9b28-40ea-ae98-dfc083eb0d7c",
   "metadata": {},
   "source": [
    "# Evaluate Loss Functional\n",
    "Given by $$G(p) = \\int_0^T (u(p, t) - t^3)^2 dt $$"
   ]
  },
  {
   "cell_type": "code",
   "execution_count": 7,
   "id": "bffc89b0-0bbc-4a22-b16f-86e1e770bfd7",
   "metadata": {},
   "outputs": [
    {
     "name": "stdout",
     "output_type": "stream",
     "text": [
      "  message: The solver successfully reached the end of the integration interval.\n",
      "  success: True\n",
      "   status: 0\n",
      "        t: [ 0.000e+00  2.041e-02 ...  9.796e-01  1.000e+00]\n",
      "        y: [[ 0.000e+00  2.045e-03 ...  1.094e-01  1.119e-01]]\n",
      "      sol: None\n",
      " t_events: None\n",
      " y_events: None\n",
      "     nfev: 32\n",
      "     njev: 0\n",
      "      nlu: 0\n"
     ]
    },
    {
     "data": {
      "text/plain": [
       "0.10309318796550947"
      ]
     },
     "execution_count": 7,
     "metadata": {},
     "output_type": "execute_result"
    }
   ],
   "source": [
    "from scipy.integrate import trapezoid\n",
    "\n",
    "def G(p, show=False):\n",
    "    ts, us = u(p=p, show=show)\n",
    "    gs = (us - ts**3)**2\n",
    "    return trapezoid(gs, ts)\n",
    "\n",
    "G(p0, show=True)"
   ]
  },
  {
   "cell_type": "markdown",
   "id": "7d7cf5da-a487-414b-a780-584becd5418e",
   "metadata": {},
   "source": [
    "# Find Gradient To Minimize Loss\n",
    "\n",
    "We have no analytical form for the jacobian vector $\\frac{\\partial u}{\\partial p}$, but we can find it using another ODE solve."
   ]
  },
  {
   "cell_type": "markdown",
   "id": "e83a917e-cf99-4413-a6a0-4da292dc4989",
   "metadata": {},
   "source": [
    "Since we know that $$u_t = f$$ we can derive w.r.t $p$, and exchange the derivative order.\n",
    "$$\n",
    "(u_p)_t = f_u u_p + f_p\n",
    "$$\n",
    "Where $u_p, f_p \\in \\mathcal{R}^3$, $f_u$ and is a scalar."
   ]
  },
  {
   "cell_type": "markdown",
   "id": "ec73fc91-9e71-4091-ba4a-01b5d9688ca5",
   "metadata": {},
   "source": [
    "$$\n",
    "\\begin{align*}\n",
    "f_u = p_2 + 2 p_3 u \\\\\n",
    "f_p = [1, u, u^2]\n",
    "\\end{align*}\n",
    "$$"
   ]
  },
  {
   "cell_type": "markdown",
   "id": "3a6ac9ab-48d8-4042-94a7-461e506d43e3",
   "metadata": {},
   "source": [
    "We also know that $u_0 = 0$, so $(u_0)_p = 0$, too."
   ]
  },
  {
   "cell_type": "code",
   "execution_count": 8,
   "id": "bbb82883-895a-4793-80cc-274ce0ad4820",
   "metadata": {},
   "outputs": [],
   "source": [
    "def f2(y, p):\n",
    "    _, p2, p3 = p\n",
    "    u = y[:1]\n",
    "    u_p = y[1:]\n",
    "    \n",
    "    u_t = f(u=u, p=p)  # the ODE for u is solved at the same time.\n",
    "    u_p_t = u_p * (p2 + 2*p3) + u_vec(u)\n",
    "    return np.concatenate((u_t, u_p_t))\n",
    "        \n",
    "\n",
    "assert f2(np.ones(4), p=p0).shape == np.ones(4).shape"
   ]
  },
  {
   "cell_type": "code",
   "execution_count": 9,
   "id": "f8b4bd87-61bd-45bd-91fb-6ababc039dc4",
   "metadata": {},
   "outputs": [],
   "source": [
    "def u_p(p, show=False):\n",
    "    sol = solve_ivp(\n",
    "        fun=lambda t,y: f2(y,p),\n",
    "        t_span=(0, 1),\n",
    "        y0=np.zeros(4),\n",
    "        t_eval=np.linspace(0, 1)\n",
    "    )\n",
    "    if show:\n",
    "        print(sol)\n",
    "    us = sol.y[0, :]\n",
    "    u_ps = sol.y[1:, :]\n",
    "    return sol.t, us, u_ps"
   ]
  },
  {
   "cell_type": "code",
   "execution_count": 10,
   "id": "deb27e45-fe0c-457c-bba2-183c597bbace",
   "metadata": {},
   "outputs": [
    {
     "name": "stdout",
     "output_type": "stream",
     "text": [
      "  message: The solver successfully reached the end of the integration interval.\n",
      "  success: True\n",
      "   status: 0\n",
      "        t: [ 0.000e+00  2.041e-02 ...  9.796e-01  1.000e+00]\n",
      "        y: [[ 0.000e+00  2.045e-03 ...  1.094e-01  1.119e-01]\n",
      "            [ 0.000e+00  2.058e-02 ...  1.487e+00  1.532e+00]\n",
      "            [ 0.000e+00  2.097e-05 ...  6.778e-02  7.117e-02]\n",
      "            [ 0.000e+00  2.854e-08 ...  4.506e-03  4.832e-03]]\n",
      "      sol: None\n",
      " t_events: None\n",
      " y_events: None\n",
      "     nfev: 38\n",
      "     njev: 0\n",
      "      nlu: 0\n"
     ]
    }
   ],
   "source": [
    "ts, us, u_ps = u_p(p0, show=True)"
   ]
  },
  {
   "cell_type": "markdown",
   "id": "e39ee84a-f573-4868-8267-9b8bd9025f85",
   "metadata": {},
   "source": [
    "Plot the 3 dimensions of $u_p$:"
   ]
  },
  {
   "cell_type": "code",
   "execution_count": 11,
   "id": "5d8864c0-79c3-4f79-9631-468e9cd4d640",
   "metadata": {},
   "outputs": [
    {
     "data": {
      "text/plain": [
       "[<matplotlib.lines.Line2D at 0x11d263110>,\n",
       " <matplotlib.lines.Line2D at 0x11d263140>,\n",
       " <matplotlib.lines.Line2D at 0x11d2621b0>]"
      ]
     },
     "execution_count": 11,
     "metadata": {},
     "output_type": "execute_result"
    },
    {
     "data": {
      "image/png": "[encoded data removed]",
      "text/plain": [
       "<Figure size 640x480 with 1 Axes>"
      ]
     },
     "metadata": {},
     "output_type": "display_data"
    }
   ],
   "source": [
    "plt.plot(ts, u_ps.T)"
   ]
  },
  {
   "cell_type": "markdown",
   "id": "85420965-44e1-491d-8370-24df461d0250",
   "metadata": {},
   "source": [
    "Now the gradient is:\n",
    "$$\n",
    "\\nabla_p G = 2 \\int_0^T (u(p, t) - t^3) u_p^T dt\n",
    "$$"
   ]
  },
  {
   "cell_type": "code",
   "execution_count": 12,
   "id": "a3782217-8cd1-44db-8b25-33930ae40ce7",
   "metadata": {},
   "outputs": [
    {
     "data": {
      "text/plain": [
       "array([-0.23529337, -0.00946579, -0.00055955])"
      ]
     },
     "execution_count": 12,
     "metadata": {},
     "output_type": "execute_result"
    }
   ],
   "source": [
    "def grad(p):\n",
    "    ts, us, u_ps = u_p(p=p)\n",
    "    ys = (us - ts**3) * u_ps\n",
    "    return trapezoid(ys, ts)\n",
    "\n",
    "grad(p=p0)"
   ]
  },
  {
   "cell_type": "code",
   "execution_count": 13,
   "id": "66b1234d-4ac8-4df6-985e-7fa750440c7b",
   "metadata": {},
   "outputs": [
    {
     "data": {
      "text/plain": [
       "0.10309318796550947"
      ]
     },
     "execution_count": 13,
     "metadata": {},
     "output_type": "execute_result"
    }
   ],
   "source": [
    "G(p0)"
   ]
  },
  {
   "cell_type": "code",
   "execution_count": 14,
   "id": "b4d6e966-46bb-4253-bd95-4192c4dd679d",
   "metadata": {},
   "outputs": [
    {
     "data": {
      "text/plain": [
       "0.03844448988769641"
      ]
     },
     "execution_count": 14,
     "metadata": {},
     "output_type": "execute_result"
    }
   ],
   "source": [
    "G(p0 - grad(p0))"
   ]
  },
  {
   "cell_type": "markdown",
   "id": "e67b1d59-f538-4c18-9999-e2858307310b",
   "metadata": {},
   "source": [
    "# Optimize p"
   ]
  },
  {
   "cell_type": "code",
   "execution_count": 15,
   "id": "c092f631-85d6-4a23-8a1e-abbd9885fc6c",
   "metadata": {},
   "outputs": [
    {
     "name": "stdout",
     "output_type": "stream",
     "text": [
      "0.09473186189350657\n",
      "0.08716140384329202\n",
      "0.08030948795343719\n",
      "0.07411046938788712\n",
      "0.06850469358217447\n",
      "0.06343789518557541\n",
      "0.058860672095156\n",
      "0.054728022716710366\n",
      "0.05099893675459746\n",
      "0.047636031560086216\n",
      "0.044605227461600144\n",
      "0.04187545663070066\n",
      "0.039418400956973784\n",
      "0.03720825515748258\n",
      "0.03522151196377252\n",
      "0.033436766737209134\n",
      "0.031834539279993204\n",
      "0.0303971109560318\n",
      "0.029108375518768027\n",
      "0.02795370227750112\n",
      "0.02691981042711065\n",
      "0.025994653525474615\n",
      "0.025167313234311078\n",
      "0.0244279015476568\n",
      "0.023767470821865876\n",
      "0.02317793099535038\n",
      "0.022651973448248035\n",
      "0.022183001003274232\n",
      "0.02176506361377428\n",
      "0.02139279932153235\n",
      "0.021061380098932842\n",
      "0.02076646221805297\n",
      "0.020504140813959598\n",
      "0.020270908331612984\n",
      "0.020063616565888513\n",
      "0.019879442022718918\n",
      "0.019715854346546876\n",
      "0.01957058757538934\n",
      "0.019441614000026607\n",
      "0.01932712041825424\n",
      "0.01922548658886396\n",
      "0.0191352657031042\n",
      "0.01905516670384811\n",
      "0.018984038294593886\n",
      "0.01892085449174306\n",
      "0.01886470158437023\n",
      "0.01881476637590244\n",
      "0.01877032559178566\n",
      "0.018730736346330858\n",
      "0.01869542757051619\n"
     ]
    }
   ],
   "source": [
    "p = p0\n",
    "for _ in range(50):\n",
    "    p = p - 0.1 * grad(p)\n",
    "    loss = G(p)\n",
    "    print(loss)"
   ]
  },
  {
   "cell_type": "code",
   "execution_count": 16,
   "id": "9f96775a-0ae7-4e27-b0ea-7861d8a54713",
   "metadata": {},
   "outputs": [],
   "source": [
    "ts, us = u(p)"
   ]
  },
  {
   "cell_type": "code",
   "execution_count": 17,
   "id": "5eac2b63-70ec-4761-b535-86e29af11dd1",
   "metadata": {},
   "outputs": [
    {
     "data": {
      "text/plain": [
       "[<matplotlib.lines.Line2D at 0x11d2dbdd0>]"
      ]
     },
     "execution_count": 17,
     "metadata": {},
     "output_type": "execute_result"
    },
    {
     "data": {
      "image/png": "[encoded data removed]",
      "text/plain": [
       "<Figure size 640x480 with 1 Axes>"
      ]
     },
     "metadata": {},
     "output_type": "display_data"
    }
   ],
   "source": [
    "plt.plot(ts, us)\n",
    "plt.plot(ts, ts**3)"
   ]
  },
  {
   "cell_type": "markdown",
   "id": "6147150b-c9b2-45de-9d2a-b3c23b589752",
   "metadata": {},
   "source": [
    "The blue curve for $u(p, t)$ is the ODE solution for optimal $p^*$. The curve comes close to the $t^3$ curve. The crux is that the curve satisfies the ODE defined by $f$ in the beginning, and the initial condition $u_0=0$."
   ]
  }
 ],
 "metadata": {
  "kernelspec": {
   "display_name": "Python 3 (ipykernel)",
   "language": "python",
   "name": "python3"
  },
  "language_info": {
   "codemirror_mode": {
    "name": "ipython",
    "version": 3
   },
   "file_extension": ".py",
   "mimetype": "text/x-python",
   "name": "python",
   "nbconvert_exporter": "python",
   "pygments_lexer": "ipython3",
   "version": "3.12.2"
  }
 },
 "nbformat": 4,
 "nbformat_minor": 5
}
