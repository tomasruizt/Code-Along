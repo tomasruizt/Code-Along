{
 "cells": [
  {
   "cell_type": "markdown",
   "id": "9c93fdb9-bca1-4729-b883-842b0bd1f647",
   "metadata": {},
   "source": [
    "# 8.3 Reverse-Mode \"Adjoint\" Differentiation"
   ]
  },
  {
   "cell_type": "markdown",
   "id": "189d0f2a-acda-4409-b491-b3a5c164ca02",
   "metadata": {},
   "source": [
    "Assume that we have a matrix $A(p) \\in \\mathcal{R}^{n \\times n}$ that depends on some parameters $p \\in \\mathcal{R}^{m}$. Assume furthermore, that we form a linear system with $A(p)$, and a given a fixed $b \\in \\mathcal{R}^n$.\n",
    "\n",
    "$$\n",
    "\\begin{align*}\n",
    "A(p) x = b \\\\\n",
    "\\implies x = A(p)^{-1} b\n",
    "\\end{align*}\n",
    "$$\n",
    "Where $x \\in \\mathcal{R}^n$"
   ]
  },
  {
   "cell_type": "markdown",
   "id": "e75c26e9-3ba1-4ab7-900f-5278c0317211",
   "metadata": {},
   "source": [
    "Assume then, that we use $x$ within some operation $f(x)$. For example:\n",
    "$$ f(x) = || x ||_2 = \\langle x, x \\rangle^{0.5}$$\n",
    "\n",
    "Next, we want minimize $f(x)$ and are therfore interested in the differential $df$, and the gradient $\\nabla f$.\n",
    "$$\n",
    "\\frac{df}{dp} = \\frac{df}{dx} \\frac{dx}{dp}\n",
    "$$"
   ]
  },
  {
   "cell_type": "markdown",
   "id": "c1fce3df-c773-460b-a661-9b301e3a3b43",
   "metadata": {},
   "source": [
    "We know that:\n",
    "$$\n",
    "\\begin{align*}\n",
    "\\frac{df}{dx} \n",
    "&= f'(x) \\\\\n",
    "&= 0.5 \\langle x,x \\rangle ^{-0.5} \\cdot 2 x \\\\\n",
    "&= \\frac{x}{f(x)}\n",
    "\\end{align*}\n",
    "$$"
   ]
  },
  {
   "cell_type": "markdown",
   "id": "f63409a8-03ee-42c3-9d24-655b68479891",
   "metadata": {},
   "source": [
    "Now, back to $\\frac{dx}{dp}$. Since $x = A(p)^{-1} b$:\n",
    "$$\n",
    "\\begin{align*}\n",
    "dx\n",
    "&= dA(p)^{-1} b + A(p)^{-1} \\underbrace{db}_0 \\\\\n",
    "&= \\underbrace{dA(p)^{-1}}_{d(A^{-1}) = - A^{-1} dA A^{-1}} b \\\\\n",
    "&= - A^{-1} dA \\ \\underbrace{A^{-1} b}_x & \\text{assume } A := A(p) \\\\\n",
    "&= - A^{-1} dA \\ x\n",
    "\\end{align*}\n",
    "$$"
   ]
  },
  {
   "cell_type": "markdown",
   "id": "26fb4682-c3d0-44db-979c-45f5d4bcea76",
   "metadata": {},
   "source": [
    "Finally, we are interested in $\\frac{df}{dp}$. We need first to understand what $dA = A'(p) \\ dp$ is:\n",
    "$$\n",
    "\\begin{align*}\n",
    "dA\n",
    "&= \\sum^{m-1}_{i=0} \\underbrace{\\frac{\\partial A}{\\partial p_i}}_{(n \\times n)} \\underbrace{dp_i}_{\\text{scalar}} \\\\\n",
    "&= \\sum^{m-1}_{i=0} A_i (dp)_i\n",
    "\\end{align*}\n",
    "$$"
   ]
  },
  {
   "cell_type": "markdown",
   "id": "d787cb10-3d8d-4725-a8a0-ceac92e3e540",
   "metadata": {},
   "source": [
    "And since $df = f'(x) dx$, we can substitute $f'(x)$, and $dx$ to find the differential $df$\n",
    "$$\n",
    "\\begin{align*}\n",
    "df \n",
    "&= \\underbrace{\\frac{x^T}{f(x)} \\cdot (-A^{-1}}_{v^T} dA \\ x) \\\\\n",
    "&= v^T dA \\ x\n",
    "\\end{align*}\n",
    "$$"
   ]
  },
  {
   "cell_type": "markdown",
   "id": "65f24a75-448e-4b2b-9fef-3d0529936a6b",
   "metadata": {},
   "source": [
    "The vector $v$ can be found like this:\n",
    "$$\n",
    "\\begin{align*}\n",
    "v^T\n",
    "&= - \\frac{x^T}{f(x)} A^{-1} \\\\\n",
    "\\implies v^T A &= - \\frac{x^T}{f(x)} \\\\\n",
    "\\implies A^T v &= - \\frac{x}{f(x)} \\\\\n",
    "\\implies v &= - (A^T)^{-1} \\frac{x}{f(x)}\n",
    "\\end{align*}\n",
    "$$\n",
    "This means that $v$ is the result of solving the linear sytem with matrix $A^T$ and vector $-f'(x)$."
   ]
  },
  {
   "cell_type": "markdown",
   "id": "10f9e7d9-253d-46c3-924a-0ba59e260cb7",
   "metadata": {},
   "source": [
    "Using this result:\n",
    "$$\n",
    "\\begin{align*}\n",
    "df\n",
    "&= v^T dA x \\\\\n",
    "&= \\underbrace{v^T}_{1 \\times n} \\underbrace{A'(p) \\ dp}_{(n \\times n)} \\underbrace{x}_{n \\times 1} \\\\\n",
    "&= v^T ( \\sum^{m-1}_{i=0} A_i (dp)_i ) x \\\\\n",
    "&= \\sum^{m-1}_{i=0} (dp)_i v^T A_i x \\\\\n",
    "&= \\langle dp, \\underbrace{\\begin{bmatrix} v^T A_0 x \\\\ ... \\\\ v^T A_{m-1} x \\end{bmatrix} \\rangle}_{k} \\\\\n",
    "\\implies \\nabla f &= k\n",
    "\\end{align*}\n",
    "$$"
   ]
  },
  {
   "cell_type": "code",
   "execution_count": 1,
   "id": "b6753a55-274c-453c-b22d-a3665c5d76c6",
   "metadata": {},
   "outputs": [],
   "source": [
    "import torch\n",
    "\n",
    "p = torch.tensor([1.0, 2, 3, 4, 5], requires_grad=True)\n",
    "m = 5\n",
    "assert p.size(0) == m\n",
    "\n",
    "b = torch.tensor([4.0, 3, 2, 1])\n",
    "n = 4\n",
    "assert b.size(0) == n\n",
    "\n",
    "def B(p):\n",
    "    row1 = torch.stack([p[0] + p[1], p[2]**2])\n",
    "    row2 = torch.stack([p[3] - p[2], p[0]**3])\n",
    "    return torch.stack([row1, row2])\n",
    "\n",
    "def A(B):\n",
    "    half = torch.cat([B, B])\n",
    "    full = torch.cat([half, half], 1)\n",
    "    return full + torch.eye(n)"
   ]
  },
  {
   "cell_type": "code",
   "execution_count": 2,
   "id": "a9b52156-0997-45ed-9cce-53f49f6eb6b6",
   "metadata": {},
   "outputs": [
    {
     "data": {
      "text/plain": [
       "tensor([ 2.8000,  0.4667,  0.8000, -1.5333], grad_fn=<LinalgSolveExBackward0>)"
      ]
     },
     "execution_count": 2,
     "metadata": {},
     "output_type": "execute_result"
    }
   ],
   "source": [
    "from torch.linalg import solve\n",
    "\n",
    "def x(A):\n",
    "    # print(\"Solving A x = b, for x\")\n",
    "    return solve(A, b)\n",
    "\n",
    "x(A(B(p)))"
   ]
  },
  {
   "cell_type": "code",
   "execution_count": 3,
   "id": "9a749573-30e6-4e3b-a19b-578e6b3206f8",
   "metadata": {},
   "outputs": [],
   "source": [
    "def f(x):\n",
    "    return torch.norm(x)\n",
    "\n",
    "def fprime(x):\n",
    "    return x / f(x)"
   ]
  },
  {
   "cell_type": "code",
   "execution_count": 4,
   "id": "827c6f3d-340f-47bf-b328-6c081f960532",
   "metadata": {},
   "outputs": [
    {
     "data": {
      "text/plain": [
       "tensor([-0.1711, -1.0255,  0.4305, -0.4239], grad_fn=<NegBackward0>)"
      ]
     },
     "execution_count": 4,
     "metadata": {},
     "output_type": "execute_result"
    }
   ],
   "source": [
    "def v(p):\n",
    "    # print(\"Solving A^T v = f'(x), for v\")\n",
    "    A_ = A(B(p))\n",
    "    return -solve(A_.T, fprime(x(A_)))\n",
    "\n",
    "v(p)"
   ]
  },
  {
   "cell_type": "markdown",
   "id": "f2fd0c27-03d0-402f-a5a1-001cbbe99831",
   "metadata": {},
   "source": [
    "# Numerical Comparison"
   ]
  },
  {
   "cell_type": "code",
   "execution_count": 5,
   "id": "3e5f0309-4df0-4dd5-9bce-1973007bd671",
   "metadata": {},
   "outputs": [],
   "source": [
    "def dA():\n",
    "    print(\"calling dA()\")\n",
    "    torch.manual_seed(0)\n",
    "    return torch.randn(n, n) * 1e-5\n",
    "\n",
    "def finite_difference(p, dA):\n",
    "    A_ = A(B(p))\n",
    "    return f(x(A_ + dA)) - f(x(A_))\n",
    "\n",
    "def df(p, dA):\n",
    "    return v(p) @ dA @ x(A(B(p)))"
   ]
  },
  {
   "cell_type": "markdown",
   "id": "3d7887ce-3d7c-46ac-9052-06e62d053fad",
   "metadata": {},
   "source": [
    "The analytical implementation agrees with the finite difference."
   ]
  },
  {
   "cell_type": "code",
   "execution_count": 6,
   "id": "8bb5388f-9aa1-4b5f-8867-8fcb54bb377a",
   "metadata": {},
   "outputs": [
    {
     "name": "stdout",
     "output_type": "stream",
     "text": [
      "calling dA()\n"
     ]
    },
    {
     "data": {
      "text/plain": [
       "torch.Size([4, 4])"
      ]
     },
     "execution_count": 6,
     "metadata": {},
     "output_type": "execute_result"
    }
   ],
   "source": [
    "dA().shape"
   ]
  },
  {
   "cell_type": "code",
   "execution_count": 7,
   "id": "306f40cf-a26d-41cd-82f4-47b038f0cc63",
   "metadata": {},
   "outputs": [
    {
     "name": "stdout",
     "output_type": "stream",
     "text": [
      "calling dA()\n",
      "calling dA()\n"
     ]
    },
    {
     "data": {
      "text/plain": [
       "(tensor(-6.1512e-05, grad_fn=<SubBackward0>),\n",
       " tensor(-6.1578e-05, grad_fn=<DotBackward0>))"
      ]
     },
     "execution_count": 7,
     "metadata": {},
     "output_type": "execute_result"
    }
   ],
   "source": [
    "finite_difference(p, dA()), df(p, dA())"
   ]
  },
  {
   "cell_type": "markdown",
   "id": "7a7c2e5b-51de-4c35-a7f2-002f910929ea",
   "metadata": {},
   "source": [
    "Below we have concretely\n",
    "$$\n",
    "\\begin{align*}\n",
    "A(p) = \\begin{bmatrix}\n",
    "B & B \\\\\n",
    "B & B\n",
    "\\end{bmatrix} + I \\\\\n",
    "\\text{and}\\\\\n",
    "B = \\begin{bmatrix}\n",
    "p_0 + p_1 & p_2^2 \\\\\n",
    "p_3 - p_2 & p_0^3\n",
    "\\end{bmatrix}\n",
    "\\end{align*}\n",
    "$$"
   ]
  },
  {
   "cell_type": "markdown",
   "id": "49ca867c-ba23-463c-aea4-917aaadc51a1",
   "metadata": {},
   "source": [
    "Let us write the derivative $\\frac{dX}{dp_i} = X_i$. Then $\\frac{dA}{dp} \\in \\mathcal{R}^{m \\times m \\times n}$ is a 3D tensor where each slice is $A_i$. Since $A$ is made of $B$ blocks, $A_i$ will be made of $B_i$ blocks.\n",
    "\n",
    "$$\n",
    "\\begin{align*}\n",
    "B_0 &= \\begin{bmatrix} 1 & 0 \\\\ 0 & 3p_0^2 \\end{bmatrix} \\\\\n",
    "B_1 &= \\begin{bmatrix} 1 & 0 \\\\ 0 & 0 \\end{bmatrix} \\\\\n",
    "B_2 &= \\begin{bmatrix} 0 & 2p_2 \\\\ -1 & 0 \\end{bmatrix} \\\\\n",
    "B_3 &= \\begin{bmatrix} 0 & 0 \\\\ 1 & 0 \\end{bmatrix} \\\\\n",
    "B_4 &= 0\n",
    "\\end{align*}\n",
    "$$"
   ]
  },
  {
   "cell_type": "code",
   "execution_count": 8,
   "id": "a34d4778-3634-4e20-99b5-8fea766472b7",
   "metadata": {},
   "outputs": [
    {
     "data": {
      "text/plain": [
       "tensor([[1., 0.],\n",
       "        [0., 3.]], grad_fn=<StackBackward0>)"
      ]
     },
     "execution_count": 8,
     "metadata": {},
     "output_type": "execute_result"
    }
   ],
   "source": [
    "def Aprime(Bprime):\n",
    "    half = torch.cat([Bprime, Bprime])\n",
    "    return torch.cat([half, half], 1)\n",
    "    \n",
    "def B0(p):\n",
    "    row1 = torch.tensor([1.0, 0.])\n",
    "    row2 = torch.stack([torch.tensor(0.0), 3*p[0]**2])\n",
    "    return torch.stack([row1, row2])\n",
    "\n",
    "B0(p)"
   ]
  },
  {
   "cell_type": "code",
   "execution_count": 9,
   "id": "cbd79d90-2127-42f0-b2f1-26ed813636c3",
   "metadata": {},
   "outputs": [
    {
     "data": {
      "text/plain": [
       "tensor([[1., 0.],\n",
       "        [0., 0.]])"
      ]
     },
     "execution_count": 9,
     "metadata": {},
     "output_type": "execute_result"
    }
   ],
   "source": [
    "def B1(p):\n",
    "    return torch.tensor([[1.0, 0.0], [0.0, 0.0]])\n",
    "B1(p)"
   ]
  },
  {
   "cell_type": "code",
   "execution_count": 10,
   "id": "c5c91842-b392-4a09-9d0b-2c689e6e532f",
   "metadata": {},
   "outputs": [
    {
     "data": {
      "text/plain": [
       "tensor([[ 0.,  6.],\n",
       "        [-1.,  0.]], grad_fn=<StackBackward0>)"
      ]
     },
     "execution_count": 10,
     "metadata": {},
     "output_type": "execute_result"
    }
   ],
   "source": [
    "def B2(p):\n",
    "    row1 = torch.stack([torch.tensor(0.0), 2*p[2]])\n",
    "    row2 = torch.tensor([-1.0, 0.0])\n",
    "    return torch.stack([row1, row2])\n",
    "B2(p)"
   ]
  },
  {
   "cell_type": "code",
   "execution_count": 11,
   "id": "51c2ebd4-14e1-4cbe-ab5e-cb6176f4ed55",
   "metadata": {},
   "outputs": [
    {
     "data": {
      "text/plain": [
       "tensor([[0., 0.],\n",
       "        [1., 0.]])"
      ]
     },
     "execution_count": 11,
     "metadata": {},
     "output_type": "execute_result"
    }
   ],
   "source": [
    "def B3(p):\n",
    "    return torch.tensor([[0., 0.], [1.0, 0.0]])\n",
    "B3(p)"
   ]
  },
  {
   "cell_type": "code",
   "execution_count": 12,
   "id": "fbe34cdc-42e8-4c55-a283-560df01ca034",
   "metadata": {},
   "outputs": [
    {
     "data": {
      "text/plain": [
       "tensor([[0., 0.],\n",
       "        [0., 0.]])"
      ]
     },
     "execution_count": 12,
     "metadata": {},
     "output_type": "execute_result"
    }
   ],
   "source": [
    "def B4(p):\n",
    "    return torch.zeros(2, 2)\n",
    "B4(p)"
   ]
  },
  {
   "cell_type": "code",
   "execution_count": 13,
   "id": "e8dbcbf5-7a0c-4009-95a2-ad8bbc49bcf1",
   "metadata": {},
   "outputs": [
    {
     "name": "stdout",
     "output_type": "stream",
     "text": [
      "Calling dp()\n",
      "Calling dp()\n"
     ]
    }
   ],
   "source": [
    "def APrime_full(p):\n",
    "    return sum(pi * Ai for (pi, Ai) in zip(dp(), Ais(p)))\n",
    "\n",
    "def Ais(p):\n",
    "    return [Aprime(Bi(p)) for Bi in [B0, B1, B2, B3, B4]]\n",
    "\n",
    "def dp():\n",
    "    print(\"Calling dp()\")\n",
    "    torch.manual_seed(0)\n",
    "    return torch.randn(m) * 1e-5\n",
    "\n",
    "assert APrime_full(p).shape == (n, n)\n",
    "assert len(dp()) == m"
   ]
  },
  {
   "cell_type": "code",
   "execution_count": 14,
   "id": "d1c35e9f-63bb-4f38-8027-9d418844f709",
   "metadata": {},
   "outputs": [
    {
     "name": "stdout",
     "output_type": "stream",
     "text": [
      "Calling dp()\n"
     ]
    },
    {
     "data": {
      "text/plain": [
       "torch.Size([4, 4])"
      ]
     },
     "execution_count": 14,
     "metadata": {},
     "output_type": "execute_result"
    }
   ],
   "source": [
    "APrime_full(p).shape"
   ]
  },
  {
   "cell_type": "code",
   "execution_count": 15,
   "id": "e60ea7c0-d56f-470b-9c94-377a2864cbd4",
   "metadata": {},
   "outputs": [],
   "source": [
    "def dA2(p):\n",
    "    return APrime_full(p)"
   ]
  },
  {
   "cell_type": "code",
   "execution_count": 16,
   "id": "b1b20741-2fb7-4d96-8739-0de8571b6e0f",
   "metadata": {},
   "outputs": [
    {
     "name": "stdout",
     "output_type": "stream",
     "text": [
      "Calling dp()\n",
      "Calling dp()\n"
     ]
    },
    {
     "data": {
      "text/plain": [
       "(tensor(-2.4052e-05, grad_fn=<DotBackward0>),\n",
       " tensor(-2.3603e-05, grad_fn=<SubBackward0>))"
      ]
     },
     "execution_count": 16,
     "metadata": {},
     "output_type": "execute_result"
    }
   ],
   "source": [
    "(df(p, dA2(p)), finite_difference(p, dA2(p)))"
   ]
  },
  {
   "cell_type": "markdown",
   "id": "3542ae16-3118-4501-83bc-cc7e547fecbc",
   "metadata": {},
   "source": [
    "# Gradient Descent Through the Linear System"
   ]
  },
  {
   "cell_type": "code",
   "execution_count": 17,
   "id": "c20cefb3-c545-4a63-bca2-6eb64f9d37d8",
   "metadata": {},
   "outputs": [],
   "source": [
    "def grad_f(p):\n",
    "    v_ = v(p)\n",
    "    x_ = x(A(B(p)))\n",
    "    return torch.stack([v_ @ Ai @ x_ for Ai in Ais(p)])\n",
    "\n",
    "assert len(grad_f(p)) == m"
   ]
  },
  {
   "cell_type": "code",
   "execution_count": 18,
   "id": "d34573fd-3caf-4b7e-83e2-a7dfbb6575e9",
   "metadata": {},
   "outputs": [],
   "source": [
    "def loss(p):\n",
    "    return f(x(A(B(p))))\n",
    "assert loss(p) is not None"
   ]
  },
  {
   "cell_type": "code",
   "execution_count": 19,
   "id": "e5dd3d15-d8d0-448f-b818-578062c8d2d6",
   "metadata": {},
   "outputs": [
    {
     "name": "stdout",
     "output_type": "stream",
     "text": [
      "tensor(3.3240)\n",
      "tensor(2.1030)\n",
      "tensor(2.0847)\n",
      "tensor(2.0737)\n",
      "tensor(2.0662)\n",
      "tensor(2.0606)\n",
      "tensor(2.0563)\n",
      "tensor(2.0527)\n",
      "tensor(2.0498)\n",
      "tensor(2.0473)\n"
     ]
    }
   ],
   "source": [
    "p_ = torch.arange(1, 6)\n",
    "iterations = 30\n",
    "ps = []\n",
    "for idx in range(iterations):\n",
    "    ps.append(p_)\n",
    "    if idx % (iterations // 10) == 0:\n",
    "        print(loss(p_))\n",
    "    p_ = p_ - grad_f(p_)"
   ]
  },
  {
   "cell_type": "code",
   "execution_count": 20,
   "id": "f973c194-5529-4625-9265-47592553460d",
   "metadata": {},
   "outputs": [],
   "source": [
    "import matplotlib.pyplot as plt"
   ]
  },
  {
   "cell_type": "code",
   "execution_count": 21,
   "id": "8c84baa1-c894-4696-a296-efef74592d2c",
   "metadata": {},
   "outputs": [
    {
     "data": {
      "image/png": "[encoded data removed]",
      "text/plain": [
       "<Figure size 640x480 with 1 Axes>"
      ]
     },
     "metadata": {},
     "output_type": "display_data"
    }
   ],
   "source": [
    "def plot_ts(ys):\n",
    "    plt.scatter(range(len(ys)), ys, alpha=0.5)\n",
    "\n",
    "plot_ts([loss(p) for p in ps])"
   ]
  },
  {
   "cell_type": "code",
   "execution_count": 22,
   "id": "9b2970a5-be4f-48bf-85a2-17c03ff86873",
   "metadata": {},
   "outputs": [
    {
     "data": {
      "image/png": "[encoded data removed]",
      "text/plain": [
       "<Figure size 640x480 with 1 Axes>"
      ]
     },
     "metadata": {},
     "output_type": "display_data"
    }
   ],
   "source": [
    "plot_ts([torch.norm(grad_f(p)) for p in ps])"
   ]
  },
  {
   "cell_type": "markdown",
   "id": "f8b0cc50-9e1c-47e4-9be1-e14217a64600",
   "metadata": {},
   "source": [
    "# Comparing Jacobians and Gradients"
   ]
  },
  {
   "cell_type": "code",
   "execution_count": 23,
   "id": "e4116b21-93a2-4658-9273-ced84ecd4e25",
   "metadata": {},
   "outputs": [],
   "source": [
    "def pytorch_grad_f(p):\n",
    "    if p.grad is not None:\n",
    "        p.grad.zero_()\n",
    "    loss = f(x(A(B(p))))\n",
    "    loss.backward()\n",
    "    return p.grad\n",
    "\n",
    "def pytorch_jacobian(p):\n",
    "    \"\"\"Jacobian: A'(x) = dA / dp\"\"\"\n",
    "    return torch.autograd.functional.jacobian(lambda p: A(B(p)), p) @ dp()    "
   ]
  },
  {
   "cell_type": "markdown",
   "id": "cb6ad05c-13e8-4542-a283-f84932aeaf69",
   "metadata": {},
   "source": [
    "Anlytical gradients agrees with the pytorch provided one"
   ]
  },
  {
   "cell_type": "code",
   "execution_count": 24,
   "id": "75bcb930-964a-4ee7-bf55-804707cfa93e",
   "metadata": {},
   "outputs": [
    {
     "data": {
      "text/plain": [
       "(tensor([ 5.5719,  0.9338,  3.5577, -5.2178,  0.0000], grad_fn=<StackBackward0>),\n",
       " tensor([ 5.5719,  0.9338,  3.5577, -5.2178,  0.0000]))"
      ]
     },
     "execution_count": 24,
     "metadata": {},
     "output_type": "execute_result"
    }
   ],
   "source": [
    "grad_f(p), pytorch_grad_f(p)"
   ]
  },
  {
   "cell_type": "markdown",
   "id": "458273cb-b031-4394-811e-1e321ca8eb3c",
   "metadata": {},
   "source": [
    "And the analytical jacobian agrees with a pytorch computed one:"
   ]
  },
  {
   "cell_type": "code",
   "execution_count": 25,
   "id": "3ef32db2-ecce-49fd-ad31-242b14cbd6e2",
   "metadata": {},
   "outputs": [
    {
     "name": "stdout",
     "output_type": "stream",
     "text": [
      "Calling dp()\n"
     ]
    },
    {
     "data": {
      "text/plain": [
       "tensor([[ 1.2476e-05, -1.3073e-04,  1.2476e-05, -1.3073e-04],\n",
       "        [ 2.7472e-05,  4.6230e-05,  2.7472e-05,  4.6230e-05],\n",
       "        [ 1.2476e-05, -1.3073e-04,  1.2476e-05, -1.3073e-04],\n",
       "        [ 2.7472e-05,  4.6230e-05,  2.7472e-05,  4.6230e-05]],\n",
       "       grad_fn=<AddBackward0>)"
      ]
     },
     "execution_count": 25,
     "metadata": {},
     "output_type": "execute_result"
    }
   ],
   "source": [
    "APrime_full(p)"
   ]
  },
  {
   "cell_type": "code",
   "execution_count": 26,
   "id": "be2b05ea-d74f-4ec0-9ccc-e8f6b617cdc0",
   "metadata": {},
   "outputs": [
    {
     "name": "stdout",
     "output_type": "stream",
     "text": [
      "Calling dp()\n"
     ]
    },
    {
     "data": {
      "text/plain": [
       "tensor([[ 1.2476e-05, -1.3073e-04,  1.2476e-05, -1.3073e-04],\n",
       "        [ 2.7472e-05,  4.6230e-05,  2.7472e-05,  4.6230e-05],\n",
       "        [ 1.2476e-05, -1.3073e-04,  1.2476e-05, -1.3073e-04],\n",
       "        [ 2.7472e-05,  4.6230e-05,  2.7472e-05,  4.6230e-05]])"
      ]
     },
     "execution_count": 26,
     "metadata": {},
     "output_type": "execute_result"
    }
   ],
   "source": [
    "pytorch_jacobian(p)"
   ]
  }
 ],
 "metadata": {
  "kernelspec": {
   "display_name": "Python 3 (ipykernel)",
   "language": "python",
   "name": "python3"
  },
  "language_info": {
   "codemirror_mode": {
    "name": "ipython",
    "version": 3
   },
   "file_extension": ".py",
   "mimetype": "text/x-python",
   "name": "python",
   "nbconvert_exporter": "python",
   "pygments_lexer": "ipython3",
   "version": "3.12.2"
  }
 },
 "nbformat": 4,
 "nbformat_minor": 5
}
