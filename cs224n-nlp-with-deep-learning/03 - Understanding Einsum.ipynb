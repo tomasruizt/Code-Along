{
 "cells": [
  {
   "cell_type": "code",
   "execution_count": 1,
   "id": "40064f32-3468-45b5-bfe0-87c18820adde",
   "metadata": {},
   "outputs": [],
   "source": [
    "import torch\n",
    "from torch import randn"
   ]
  },
  {
   "cell_type": "markdown",
   "id": "93a7e5bf-8b7f-43c1-8661-95b6817c70d0",
   "metadata": {},
   "source": [
    "# Vector-Matrix-Vector product"
   ]
  },
  {
   "cell_type": "code",
   "execution_count": 2,
   "id": "75fb8bc9-c4eb-4174-a683-93818aa368c5",
   "metadata": {},
   "outputs": [],
   "source": [
    "m, n = 4, 5\n",
    "torch.manual_seed(0)\n",
    "x = randn(m)\n",
    "A = randn(m, n)\n",
    "y = randn(n)"
   ]
  },
  {
   "cell_type": "code",
   "execution_count": 3,
   "id": "8981f582-06d9-4f2a-81c6-7f01974e5d32",
   "metadata": {},
   "outputs": [
    {
     "data": {
      "text/plain": [
       "tensor([ 1.5410, -0.2934, -2.1788,  0.5684])"
      ]
     },
     "execution_count": 3,
     "metadata": {},
     "output_type": "execute_result"
    }
   ],
   "source": [
    "x"
   ]
  },
  {
   "cell_type": "code",
   "execution_count": 4,
   "id": "0af22652-8f4d-464f-bfac-e8e0319bee2e",
   "metadata": {},
   "outputs": [
    {
     "data": {
      "text/plain": [
       "tensor(-2.8791)"
      ]
     },
     "execution_count": 4,
     "metadata": {},
     "output_type": "execute_result"
    }
   ],
   "source": [
    "x @ A @ y"
   ]
  },
  {
   "cell_type": "code",
   "execution_count": 5,
   "id": "89bf40a5-b384-4938-bd1d-509d509d3a2d",
   "metadata": {},
   "outputs": [
    {
     "data": {
      "text/plain": [
       "tensor(-2.8791)"
      ]
     },
     "execution_count": 5,
     "metadata": {},
     "output_type": "execute_result"
    }
   ],
   "source": [
    "torch.einsum(\"m, mn, n -> \", x, A, y)"
   ]
  },
  {
   "cell_type": "markdown",
   "id": "66c77211-c675-413a-9502-61321428daed",
   "metadata": {},
   "source": [
    "# Multiplicative Attention"
   ]
  },
  {
   "cell_type": "code",
   "execution_count": 6,
   "id": "14790158-da72-4c52-a822-a91cf0491dd2",
   "metadata": {},
   "outputs": [],
   "source": [
    "m = 3  # num timesteps\n",
    "b = 2  # num batches\n",
    "h = 4  # hidden layer dim"
   ]
  },
  {
   "cell_type": "code",
   "execution_count": 7,
   "id": "29adee73-abff-43ea-8e50-ced7e220d5e3",
   "metadata": {},
   "outputs": [],
   "source": [
    "torch.manual_seed(0)\n",
    "H_encs = randn(b, 2*h, m)\n",
    "W = randn(h, 2*h)\n",
    "h_decs = randn(b, h)"
   ]
  },
  {
   "cell_type": "code",
   "execution_count": 8,
   "id": "57814f31-7ed9-48eb-9439-ac443af73820",
   "metadata": {},
   "outputs": [],
   "source": [
    "e_ts = []\n",
    "for i in range(b):\n",
    "    h_enc = H_encs[i, ...]\n",
    "    h_dec = h_decs[i, ...]\n",
    "    e_t = h_dec @ W @ h_enc\n",
    "    e_ts.append(e_t)\n",
    "e_ts = torch.stack(e_ts)"
   ]
  },
  {
   "cell_type": "code",
   "execution_count": 9,
   "id": "f2b9da1c-3b96-404c-8169-8800478fbaae",
   "metadata": {},
   "outputs": [
    {
     "data": {
      "text/plain": [
       "tensor([[-1.7803,  1.0749,  2.5256],\n",
       "        [ 1.5803, -1.1913, -1.1185]])"
      ]
     },
     "execution_count": 9,
     "metadata": {},
     "output_type": "execute_result"
    }
   ],
   "source": [
    "e_ts"
   ]
  },
  {
   "cell_type": "code",
   "execution_count": 10,
   "id": "cb7b605a-7fde-4046-9eff-c092518417b0",
   "metadata": {},
   "outputs": [
    {
     "data": {
      "text/plain": [
       "tensor([[-1.7803,  1.0749,  2.5256],\n",
       "        [ 1.5803, -1.1913, -1.1185]])"
      ]
     },
     "execution_count": 10,
     "metadata": {},
     "output_type": "execute_result"
    }
   ],
   "source": [
    "torch.einsum(\"bh, hd, bdm -> bm\", h_decs, W, H_encs)"
   ]
  },
  {
   "cell_type": "markdown",
   "id": "69ab309e-61ff-4470-8533-d6786f4b17e5",
   "metadata": {},
   "source": [
    "holy shit! 🔥 Einsum returns the same result without looping etc."
   ]
  }
 ],
 "metadata": {
  "kernelspec": {
   "display_name": "Python 3 (ipykernel)",
   "language": "python",
   "name": "python3"
  },
  "language_info": {
   "codemirror_mode": {
    "name": "ipython",
    "version": 3
   },
   "file_extension": ".py",
   "mimetype": "text/x-python",
   "name": "python",
   "nbconvert_exporter": "python",
   "pygments_lexer": "ipython3",
   "version": "3.11.9"
  }
 },
 "nbformat": 4,
 "nbformat_minor": 5
}
