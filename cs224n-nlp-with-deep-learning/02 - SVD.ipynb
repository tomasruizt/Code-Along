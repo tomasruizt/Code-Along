{
 "cells": [
  {
   "cell_type": "code",
   "execution_count": 1,
   "id": "eddfab41-ea25-49f4-9a77-c6f6f75e18a2",
   "metadata": {},
   "outputs": [],
   "source": [
    "import torch"
   ]
  },
  {
   "cell_type": "code",
   "execution_count": 4,
   "id": "dd624bf8-b041-4be7-9617-b26ad3bd502e",
   "metadata": {},
   "outputs": [],
   "source": [
    "n = 5\n",
    "A = torch.randn((n, n))"
   ]
  },
  {
   "cell_type": "code",
   "execution_count": 9,
   "id": "8b963856-b9b1-4262-9579-e297d95c9a21",
   "metadata": {},
   "outputs": [
    {
     "data": {
      "text/plain": [
       "tensor([[-0.9056,  0.3634, -0.9871,  0.0696,  0.5085],\n",
       "        [-0.2655,  0.0462, -1.2180, -1.2400, -0.2506],\n",
       "        [-0.3850, -1.7651,  0.0512, -0.5186,  0.5255],\n",
       "        [ 0.1223,  1.0005, -0.4731,  0.6372, -0.0104],\n",
       "        [ 0.3230,  1.0168, -0.0418,  0.1864,  1.4153]])"
      ]
     },
     "execution_count": 9,
     "metadata": {},
     "output_type": "execute_result"
    }
   ],
   "source": [
    "A"
   ]
  },
  {
   "cell_type": "code",
   "execution_count": 17,
   "id": "ba1f1e40-8091-4bf9-add7-128cc94a5083",
   "metadata": {},
   "outputs": [],
   "source": [
    "U, S, Vh = torch.linalg.svd(A)\n",
    "V = Vh.T"
   ]
  },
  {
   "cell_type": "markdown",
   "id": "f4e573a0-e021-4ab6-a8ba-18932a21c855",
   "metadata": {},
   "source": [
    "# Isolating Singular Values\n",
    "To isolate singular value $\\sigma_i$ one multiplies vectors $u_i$ and $v_i$ from both sides:\n",
    "$$ \\sigma_i(A) = u_i^T A v_i $$"
   ]
  },
  {
   "cell_type": "code",
   "execution_count": 10,
   "id": "34bb5d6a-82b7-45d2-a37b-55184a96d9f8",
   "metadata": {},
   "outputs": [
    {
     "data": {
      "text/plain": [
       "tensor(1.5714)"
      ]
     },
     "execution_count": 10,
     "metadata": {},
     "output_type": "execute_result"
    }
   ],
   "source": [
    "i = 2\n",
    "S[i]"
   ]
  },
  {
   "cell_type": "code",
   "execution_count": 18,
   "id": "8ef86f5a-9f4e-42e1-a9c5-f7a4e491ed09",
   "metadata": {},
   "outputs": [],
   "source": [
    "def col(X, i):\n",
    "    return X[:, i]"
   ]
  },
  {
   "cell_type": "code",
   "execution_count": 19,
   "id": "b07b6610-bf7d-42e8-9083-01616aa090eb",
   "metadata": {},
   "outputs": [
    {
     "data": {
      "text/plain": [
       "tensor(1.5714)"
      ]
     },
     "execution_count": 19,
     "metadata": {},
     "output_type": "execute_result"
    }
   ],
   "source": [
    "col(U, i) @ A @ col(V, i)"
   ]
  },
  {
   "cell_type": "markdown",
   "id": "b8f88bc3-2e8f-4e4c-9624-bb1927809d0c",
   "metadata": {},
   "source": [
    "# Sum of Submatrices\n",
    "The SVD can also be represented as a sum: $$ A = \\sum_i \\sigma_i u_i v_j^T $$\n",
    "Note that this is an outer product of the vectors $u_i$ and $v_i$ rather than a dot product. Therefore, each summand is a matrix of size $n \\times n$"
   ]
  },
  {
   "cell_type": "code",
   "execution_count": 26,
   "id": "433727a1-c413-4b73-a4f1-28da4a577318",
   "metadata": {},
   "outputs": [],
   "source": [
    "def submatrix(i):\n",
    "    ui = col(U, i)\n",
    "    vi = col(V, i)\n",
    "    return S[i] * torch.outer(ui, vi)"
   ]
  },
  {
   "cell_type": "code",
   "execution_count": 27,
   "id": "b3654cd7-27fe-479c-ac96-f61210ff0e41",
   "metadata": {},
   "outputs": [],
   "source": [
    "assert submatrix(0).shape == (n, n)"
   ]
  },
  {
   "cell_type": "code",
   "execution_count": 28,
   "id": "c8f67244-45ff-4de6-a12b-aca7ce8eb591",
   "metadata": {},
   "outputs": [],
   "source": [
    "sms = [submatrix(i) for i in range(n)]"
   ]
  },
  {
   "cell_type": "code",
   "execution_count": 30,
   "id": "4ee0fd76-aaf3-4738-a007-6745356500d0",
   "metadata": {},
   "outputs": [
    {
     "data": {
      "text/plain": [
       "tensor([[-0.9056,  0.3634, -0.9871,  0.0696,  0.5085],\n",
       "        [-0.2655,  0.0462, -1.2180, -1.2400, -0.2506],\n",
       "        [-0.3850, -1.7651,  0.0512, -0.5186,  0.5255],\n",
       "        [ 0.1223,  1.0005, -0.4731,  0.6372, -0.0104],\n",
       "        [ 0.3230,  1.0168, -0.0418,  0.1864,  1.4153]])"
      ]
     },
     "execution_count": 30,
     "metadata": {},
     "output_type": "execute_result"
    }
   ],
   "source": [
    "sum(sms)"
   ]
  },
  {
   "cell_type": "code",
   "execution_count": 31,
   "id": "e5d90d09-31ce-4e97-9adf-e889e805616d",
   "metadata": {},
   "outputs": [
    {
     "data": {
      "text/plain": [
       "tensor([[-0.9056,  0.3634, -0.9871,  0.0696,  0.5085],\n",
       "        [-0.2655,  0.0462, -1.2180, -1.2400, -0.2506],\n",
       "        [-0.3850, -1.7651,  0.0512, -0.5186,  0.5255],\n",
       "        [ 0.1223,  1.0005, -0.4731,  0.6372, -0.0104],\n",
       "        [ 0.3230,  1.0168, -0.0418,  0.1864,  1.4153]])"
      ]
     },
     "execution_count": 31,
     "metadata": {},
     "output_type": "execute_result"
    }
   ],
   "source": [
    "A"
   ]
  }
 ],
 "metadata": {
  "kernelspec": {
   "display_name": "Python 3 (ipykernel)",
   "language": "python",
   "name": "python3"
  },
  "language_info": {
   "codemirror_mode": {
    "name": "ipython",
    "version": 3
   },
   "file_extension": ".py",
   "mimetype": "text/x-python",
   "name": "python",
   "nbconvert_exporter": "python",
   "pygments_lexer": "ipython3",
   "version": "3.11.9"
  }
 },
 "nbformat": 4,
 "nbformat_minor": 5
}
