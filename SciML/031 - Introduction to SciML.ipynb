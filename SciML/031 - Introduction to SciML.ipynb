{
 "cells": [
  {
   "cell_type": "code",
   "execution_count": 13,
   "id": "39615cc9-63b2-4a5f-8d52-0cd6304c5acf",
   "metadata": {},
   "outputs": [],
   "source": [
    "using Flux\n",
    "using InteractiveUtils"
   ]
  },
  {
   "cell_type": "markdown",
   "id": "a68c006a-0054-42ee-b261-f0d32f5b091a",
   "metadata": {},
   "source": [
    "# Network Definition"
   ]
  },
  {
   "cell_type": "code",
   "execution_count": 14,
   "id": "8cf2b6e1-dbc8-48c4-81e4-b5b9c4d98d2a",
   "metadata": {},
   "outputs": [
    {
     "data": {
      "text/plain": [
       "Chain(\n",
       "  Dense(10 => 32, tanh),                \u001b[90m# 352 parameters\u001b[39m\n",
       "  Dense(32 => 32, tanh),                \u001b[90m# 1_056 parameters\u001b[39m\n",
       "  Dense(32 => 5),                       \u001b[90m# 165 parameters\u001b[39m\n",
       ") \u001b[90m                  # Total: 6 arrays, \u001b[39m1_573 parameters, 6.520 KiB."
      ]
     },
     "execution_count": 14,
     "metadata": {},
     "output_type": "execute_result"
    }
   ],
   "source": [
    "nn = Chain(\n",
    "    Dense(10 => 32, tanh),\n",
    "    Dense(32 => 32, tanh),\n",
    "    Dense(32 => 5)\n",
    ")"
   ]
  },
  {
   "cell_type": "code",
   "execution_count": 15,
   "id": "c76c3250-b8cc-4778-b4ec-c415d68153de",
   "metadata": {},
   "outputs": [
    {
     "data": {
      "text/plain": [
       "5-element Vector{Float32}:\n",
       " -0.37466645\n",
       " -0.22222413\n",
       " -0.36317673\n",
       "  0.18623416\n",
       "  0.13754067"
      ]
     },
     "execution_count": 15,
     "metadata": {},
     "output_type": "execute_result"
    }
   ],
   "source": [
    "nn(rand(10))"
   ]
  },
  {
   "cell_type": "markdown",
   "id": "d7175ace-8e41-4472-abe3-524700048a93",
   "metadata": {},
   "source": [
    "# Callable Structs"
   ]
  },
  {
   "cell_type": "code",
   "execution_count": 7,
   "id": "e9d82a51-f95f-4278-8bcc-ba9f990e44b9",
   "metadata": {},
   "outputs": [],
   "source": [
    "struct MyCallableStruct\n",
    "    x\n",
    "end"
   ]
  },
  {
   "cell_type": "code",
   "execution_count": 8,
   "id": "b4a6c3d3-d3b7-4262-a6d6-17defbb2763e",
   "metadata": {},
   "outputs": [],
   "source": [
    "(a::MyCallableStruct)(y) = a.x + y"
   ]
  },
  {
   "cell_type": "code",
   "execution_count": 9,
   "id": "85169254-fce8-4caa-8cc9-695e9fc81d22",
   "metadata": {},
   "outputs": [
    {
     "data": {
      "text/plain": [
       "5"
      ]
     },
     "execution_count": 9,
     "metadata": {},
     "output_type": "execute_result"
    }
   ],
   "source": [
    "a = MyCallableStruct(2)\n",
    "a(3)"
   ]
  },
  {
   "cell_type": "markdown",
   "id": "efcf4d37-9f2f-4e1b-85e9-f40aebf87000",
   "metadata": {},
   "source": [
    "# Train Network"
   ]
  },
  {
   "cell_type": "code",
   "execution_count": 26,
   "id": "fb01c9b2-8f0c-4734-bd20-2e7f169f0952",
   "metadata": {},
   "outputs": [],
   "source": [
    "loss() = sum(abs2, sum(abs2, nn(rand(10)) .- 1) for i in 1:100);"
   ]
  },
  {
   "cell_type": "code",
   "execution_count": 27,
   "id": "004d2d3e-cd0c-4a9d-afe9-eebef0139232",
   "metadata": {},
   "outputs": [
    {
     "data": {
      "text/plain": [
       "5391.4263f0"
      ]
     },
     "execution_count": 27,
     "metadata": {},
     "output_type": "execute_result"
    }
   ],
   "source": [
    "loss()"
   ]
  },
  {
   "cell_type": "code",
   "execution_count": 29,
   "id": "2cd8edbc-4928-4acd-8177-2c54cce1ff81",
   "metadata": {},
   "outputs": [],
   "source": [
    "params = Flux.params(nn);"
   ]
  },
  {
   "cell_type": "code",
   "execution_count": 63,
   "id": "9f8bbe18-9ed6-499c-a2f3-1ca0aac20803",
   "metadata": {},
   "outputs": [],
   "source": [
    "Flux.train!(loss, params, Iterators.repeated((), 100), ADAM(0.1))"
   ]
  }
 ],
 "metadata": {
  "kernelspec": {
   "display_name": "Python 3 (ipykernel)",
   "language": "python",
   "name": "python3"
  },
  "language_info": {
   "codemirror_mode": {
    "name": "ipython",
    "version": 3
   },
   "file_extension": ".py",
   "mimetype": "text/x-python",
   "name": "python",
   "nbconvert_exporter": "python",
   "pygments_lexer": "ipython3",
   "version": "3.10.14"
  }
 },
 "nbformat": 4,
 "nbformat_minor": 5
}
