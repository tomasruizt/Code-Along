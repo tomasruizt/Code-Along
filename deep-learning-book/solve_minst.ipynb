{
 "cells": [
  {
   "cell_type": "code",
   "execution_count": 1,
   "metadata": {},
   "outputs": [],
   "source": [
    "%load_ext autoreload\n",
    "%autoreload 2\n",
    "import torch\n",
    "\n",
    "torch.multiprocessing.set_start_method(\"spawn\")  # good solution !!!!"
   ]
  },
  {
   "cell_type": "markdown",
   "metadata": {},
   "source": [
    "from solve_mnist_lib import train_and_save\n",
    "\n",
    "with torch.multiprocessing.Pool(4) as pool:\n",
    "    pool.map(train_and_save, range(12))"
   ]
  },
  {
   "cell_type": "markdown",
   "metadata": {},
   "source": [
    "from solve_mnist_lib import plot_loss_and_accuracy\n",
    "\n",
    "plot_loss_and_accuracy(df)"
   ]
  },
  {
   "cell_type": "code",
   "execution_count": null,
   "metadata": {},
   "outputs": [],
   "source": [
    "# visualize the results:\n",
    "# side by side plot of 1: for every step, line for train loss mean and use std for shading\n",
    "# 2: for every step, line for train and val accuracy mean and use std for shading\n",
    "import pandas as pd\n",
    "from solve_mnist_lib import visualize_many_train_and_val_accuracy\n",
    "\n",
    "df = pd.read_csv(\"mnist_results.csv\")\n",
    "visualize_many_train_and_val_accuracy(df)\n"
   ]
  }
 ],
 "metadata": {
  "kernelspec": {
   "display_name": "venv",
   "language": "python",
   "name": "python3"
  },
  "language_info": {
   "codemirror_mode": {
    "name": "ipython",
    "version": 3
   },
   "file_extension": ".py",
   "mimetype": "text/x-python",
   "name": "python",
   "nbconvert_exporter": "python",
   "pygments_lexer": "ipython3",
   "version": "3.11.9"
  }
 },
 "nbformat": 4,
 "nbformat_minor": 2
}
