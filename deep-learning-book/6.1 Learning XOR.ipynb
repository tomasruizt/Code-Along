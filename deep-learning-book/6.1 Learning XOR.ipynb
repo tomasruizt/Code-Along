{
 "cells": [
  {
   "cell_type": "code",
   "execution_count": 30,
   "id": "9ee62b7c-8cb1-4316-ab49-b39ce1605b9d",
   "metadata": {},
   "outputs": [],
   "source": [
    "X = torch.tensor([\n",
    "    [0., 0.],\n",
    "    [0., 1.],\n",
    "    [1., 0.],\n",
    "    [1., 1.]\n",
    "])\n",
    "\n",
    "y = torch.tensor([0., 1, 1, 0]).reshape((4, 1))"
   ]
  },
  {
   "cell_type": "code",
   "execution_count": 22,
   "id": "b7eee50b-d33f-43c1-9bd0-9b22f287a608",
   "metadata": {},
   "outputs": [],
   "source": [
    "from torch import nn\n",
    "\n",
    "class Model(nn.Module):\n",
    "    def __init__(self):\n",
    "        super().__init__()\n",
    "        self.layers = nn.Sequential(\n",
    "            nn.Linear(in_features=2, out_features=2),\n",
    "            nn.ReLU(),\n",
    "            nn.Linear(in_features=2, out_features=1),\n",
    "            nn.Sigmoid()\n",
    "        )\n",
    "\n",
    "    def forward(self, x):\n",
    "        return self.layers(x)\n",
    "\n",
    "\n",
    "yhat = m(X)"
   ]
  },
  {
   "cell_type": "code",
   "execution_count": 161,
   "id": "3bbad52f-1246-44d9-9666-3b013827f890",
   "metadata": {},
   "outputs": [],
   "source": [
    "from torch.optim import Adam\n",
    "\n",
    "def train_run(show: bool = False):\n",
    "    m = Model()\n",
    "    loss = nn.BCELoss()\n",
    "    opt = Adam(lr=.1, params=m.parameters())\n",
    "    \n",
    "    for _ in range(200):\n",
    "        opt.zero_grad()\n",
    "        l = loss(m(X), y)\n",
    "        if show and (_ % 20 == 0):\n",
    "            print(\"loss:\", l.item())\n",
    "        l.backward()\n",
    "        opt.step()\n",
    "\n",
    "    return l.item()"
   ]
  },
  {
   "cell_type": "code",
   "execution_count": 163,
   "id": "e9051994-a36e-478f-8a2c-254194c2816b",
   "metadata": {},
   "outputs": [],
   "source": [
    "losses = [train_run() for _ in range(100)]"
   ]
  },
  {
   "cell_type": "code",
   "execution_count": 173,
   "id": "15120c95-a885-4a8b-8aa4-d71ad1315892",
   "metadata": {},
   "outputs": [
    {
     "data": {
      "image/png": "[encoded data removed]",
      "text/plain": [
       "<Figure size 640x480 with 1 Axes>"
      ]
     },
     "metadata": {},
     "output_type": "display_data"
    }
   ],
   "source": [
    "import matplotlib.pyplot as plt\n",
    "\n",
    "plt.hist(losses, density=True)\n",
    "plt.show()"
   ]
  },
  {
   "cell_type": "code",
   "execution_count": null,
   "id": "dd41aa75-b949-4ab9-ad88-19a7a3fb988d",
   "metadata": {},
   "outputs": [],
   "source": []
  }
 ],
 "metadata": {
  "kernelspec": {
   "display_name": "Python 3 (ipykernel)",
   "language": "python",
   "name": "python3"
  },
  "language_info": {
   "codemirror_mode": {
    "name": "ipython",
    "version": 3
   },
   "file_extension": ".py",
   "mimetype": "text/x-python",
   "name": "python",
   "nbconvert_exporter": "python",
   "pygments_lexer": "ipython3",
   "version": "3.11.9"
  }
 },
 "nbformat": 4,
 "nbformat_minor": 5
}
