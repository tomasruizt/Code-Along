{
 "cells": [
  {
   "cell_type": "code",
   "execution_count": 1,
   "id": "b1dfd53f-37a9-4e5f-a8e4-1dfd10c77cf8",
   "metadata": {},
   "outputs": [],
   "source": [
    "import torch"
   ]
  },
  {
   "cell_type": "code",
   "execution_count": 2,
   "id": "9ee62b7c-8cb1-4316-ab49-b39ce1605b9d",
   "metadata": {},
   "outputs": [],
   "source": [
    "X = torch.tensor([\n",
    "    [0., 0.],\n",
    "    [0., 1.],\n",
    "    [1., 0.],\n",
    "    [1., 1.]\n",
    "])\n",
    "\n",
    "y = torch.tensor([0., 1, 1, 0]).reshape((4, 1))"
   ]
  },
  {
   "cell_type": "code",
   "execution_count": 3,
   "id": "b7eee50b-d33f-43c1-9bd0-9b22f287a608",
   "metadata": {},
   "outputs": [],
   "source": [
    "from torch import nn\n",
    "\n",
    "class Model(nn.Module):\n",
    "    def __init__(self):\n",
    "        super().__init__()\n",
    "        self.layers = nn.Sequential(\n",
    "            # a hidden layer of dim=128 seems overkill, but with dim=2, it failed to solve the problem 5/6 of the time.\n",
    "            nn.Linear(in_features=2, out_features=128),  \n",
    "            nn.ReLU(),\n",
    "            nn.Linear(in_features=128, out_features=1),\n",
    "            nn.Sigmoid()\n",
    "        )\n",
    "\n",
    "    def forward(self, x):\n",
    "        return self.layers(x)\n",
    "\n",
    "\n",
    "yhat = Model()(X)"
   ]
  },
  {
   "cell_type": "code",
   "execution_count": 4,
   "id": "3bbad52f-1246-44d9-9666-3b013827f890",
   "metadata": {},
   "outputs": [],
   "source": [
    "from torch.optim import Adam\n",
    "\n",
    "def train_run(show: bool = False):\n",
    "    m = Model()\n",
    "    loss = nn.BCELoss()\n",
    "    opt = Adam(lr=.1, params=m.parameters())\n",
    "    \n",
    "    for _ in range(200):\n",
    "        opt.zero_grad()\n",
    "        l = loss(m(X), y)\n",
    "        if show and (_ % 20 == 0):\n",
    "            print(\"loss:\", l.item())\n",
    "        l.backward()\n",
    "        opt.step()\n",
    "\n",
    "    last_loss = l.item()\n",
    "    return m, last_loss"
   ]
  },
  {
   "cell_type": "code",
   "execution_count": 8,
   "id": "dd41aa75-b949-4ab9-ad88-19a7a3fb988d",
   "metadata": {},
   "outputs": [
    {
     "data": {
      "text/plain": [
       "tensor([[1.8121e-05],\n",
       "        [9.9999e-01],\n",
       "        [9.9999e-01],\n",
       "        [2.2482e-05]], grad_fn=<SigmoidBackward0>)"
      ]
     },
     "execution_count": 8,
     "metadata": {},
     "output_type": "execute_result"
    }
   ],
   "source": [
    "model, last_loss = train_run()\n",
    "model(X)"
   ]
  },
  {
   "cell_type": "code",
   "execution_count": 9,
   "id": "f5b240c5-503c-459b-b62c-d59ee3df5e4b",
   "metadata": {},
   "outputs": [
    {
     "data": {
      "text/plain": [
       "1.5003339285613038e-05"
      ]
     },
     "execution_count": 9,
     "metadata": {},
     "output_type": "execute_result"
    }
   ],
   "source": [
    "last_loss"
   ]
  }
 ],
 "metadata": {
  "kernelspec": {
   "display_name": "Python 3 (ipykernel)",
   "language": "python",
   "name": "python3"
  },
  "language_info": {
   "codemirror_mode": {
    "name": "ipython",
    "version": 3
   },
   "file_extension": ".py",
   "mimetype": "text/x-python",
   "name": "python",
   "nbconvert_exporter": "python",
   "pygments_lexer": "ipython3",
   "version": "3.11.9"
  }
 },
 "nbformat": 4,
 "nbformat_minor": 5
}
