{
 "cells": [
  {
   "cell_type": "markdown",
   "id": "fb5348c0-ca55-4a43-a405-bedbcf8aee27",
   "metadata": {},
   "source": [
    "# Orb Draws\n",
    "\n",
    "**Link:** https://openquant.co/questions/orb-draws\n",
    "\n",
    "**Description:** An urn containing 2 red and 1 blue orb is in front of you. At each step, you will take out an orb uniformly at random and replace it with a blue orb, regardless of the color selected. Find the expected amount of draws needed until the urn contains only blue orbs."
   ]
  },
  {
   "cell_type": "markdown",
   "id": "a7e356aa-da25-4e21-a958-a8dafeb293e6",
   "metadata": {},
   "source": [
    "**Answer:**\n",
    "One can model the system as a Markov Chain with transition probabilities between them. States:\n",
    "1. 🔴🔴🔵\n",
    "2. 🔴🔵🔵\n",
    "3. 🔵🔵🔵\n",
    "\n",
    "Transition matrix:\n",
    "$$ \n",
    "T =\n",
    "\\begin{bmatrix}\n",
    "1/3 & 2/3 & 0   \\\\\n",
    "0   & 2/3 & 1/3 \\\\\n",
    "0   &   0 & 1.   \\\\\n",
    "\\end{bmatrix} $$"
   ]
  },
  {
   "cell_type": "code",
   "execution_count": 1,
   "id": "94154f59-bb1c-46b7-a6e5-0612b4fd3e1a",
   "metadata": {},
   "outputs": [],
   "source": [
    "import numpy as np"
   ]
  },
  {
   "cell_type": "code",
   "execution_count": 2,
   "id": "faa16664-fed5-4e4d-942e-fc8ea67d4384",
   "metadata": {},
   "outputs": [],
   "source": [
    "T = np.array([\n",
    "    [1./3, 2./3, 0.],\n",
    "    [0., 2./3, 1./3],\n",
    "    [0., 0., 1.]\n",
    "])"
   ]
  },
  {
   "cell_type": "code",
   "execution_count": 24,
   "id": "e6e398ad-1535-4c0c-ae4f-f63b57fa405a",
   "metadata": {},
   "outputs": [],
   "source": [
    "def pow(X, i):\n",
    "    return np.linalg.matrix_power(X, i)"
   ]
  },
  {
   "cell_type": "code",
   "execution_count": 32,
   "id": "ab305ef5-7a8b-4bee-81ff-4e08ec334284",
   "metadata": {},
   "outputs": [
    {
     "data": {
      "text/plain": [
       "array([1.94032522e-48, 4.91930885e-18, 1.00000000e+00])"
      ]
     },
     "execution_count": 32,
     "metadata": {},
     "output_type": "execute_result"
    }
   ],
   "source": [
    "np.array([1, 0, 0]) @ pow(T, 100)"
   ]
  },
  {
   "cell_type": "markdown",
   "id": "99351ff8-7ac2-4adf-9019-298fd3e52dcd",
   "metadata": {},
   "source": [
    "The probability 🔵🔵🔵 state $s_3$, when the previous state was $s_2$ is the probability of the direct transition plus the probability of the indirect transition.\n",
    "$$ E(d | s_2) =  1 * \\frac{2}{3} + \\frac{1}{3} p(s_3 | s_2) $$"
   ]
  },
  {
   "cell_type": "markdown",
   "id": "64a7a432-139f-49ee-989c-1559cd5d8434",
   "metadata": {},
   "source": [
    "**Simpler Question**\n",
    "What is the expected number of draws from $s_1$ to $s_2$?\n",
    "It is the sum all possible paths weighted by their probability.\n",
    "\n",
    "$$\n",
    "\\begin{align*}\n",
    "E(D|s_t=s_1, s_{t+1}=s_2) &= \\\\\n",
    "E_{12} &= 1 * 2/3 + (1 + E_{11}) * 1/3 \\\\ \\\\\n",
    "E_{11} &= 0 * 2/3 + (1 + E_{11}) * 1/3 \\\\\n",
    "\\implies 2/3 * E_{11} &= 1/3 \\\\\n",
    "\\implies E_{11} &= 0.5\n",
    "\\end{align*}\n",
    "$$"
   ]
  }
 ],
 "metadata": {
  "kernelspec": {
   "display_name": "Python 3 (ipykernel)",
   "language": "python",
   "name": "python3"
  },
  "language_info": {
   "codemirror_mode": {
    "name": "ipython",
    "version": 3
   },
   "file_extension": ".py",
   "mimetype": "text/x-python",
   "name": "python",
   "nbconvert_exporter": "python",
   "pygments_lexer": "ipython3",
   "version": "3.11.9"
  }
 },
 "nbformat": 4,
 "nbformat_minor": 5
}
