{
 "cells": [
  {
   "cell_type": "code",
   "execution_count": 1,
   "metadata": {},
   "outputs": [],
   "source": [
    "import numpy as np\n",
    "\n",
    "with open(\"input/day4-test.txt\", \"r\") as f:\n",
    "    lines = f.readlines()\n",
    "lines = [list(l.strip()) for l in lines]\n",
    "\n",
    "matrix = np.array(lines)"
   ]
  },
  {
   "cell_type": "code",
   "execution_count": 2,
   "metadata": {},
   "outputs": [
    {
     "data": {
      "text/plain": [
       "array([['M', 'M', 'M', 'S', 'X', 'X', 'M', 'A', 'S', 'M'],\n",
       "       ['M', 'S', 'A', 'M', 'X', 'M', 'S', 'M', 'S', 'A'],\n",
       "       ['A', 'M', 'X', 'S', 'X', 'M', 'A', 'A', 'M', 'M'],\n",
       "       ['M', 'S', 'A', 'M', 'A', 'S', 'M', 'S', 'M', 'X'],\n",
       "       ['X', 'M', 'A', 'S', 'A', 'M', 'X', 'A', 'M', 'M'],\n",
       "       ['X', 'X', 'A', 'M', 'M', 'X', 'X', 'A', 'M', 'A'],\n",
       "       ['S', 'M', 'S', 'M', 'S', 'A', 'S', 'X', 'S', 'S'],\n",
       "       ['S', 'A', 'X', 'A', 'M', 'A', 'S', 'A', 'A', 'A'],\n",
       "       ['M', 'A', 'M', 'M', 'M', 'X', 'M', 'M', 'M', 'M'],\n",
       "       ['M', 'X', 'M', 'X', 'A', 'X', 'M', 'A', 'S', 'X']], dtype='<U1')"
      ]
     },
     "execution_count": 2,
     "metadata": {},
     "output_type": "execute_result"
    }
   ],
   "source": [
    "matrix"
   ]
  },
  {
   "cell_type": "code",
   "execution_count": 3,
   "metadata": {},
   "outputs": [],
   "source": [
    "import re\n",
    "\n",
    "\n",
    "def to_texts(matrix):\n",
    "    return [\"\".join(row) for row in matrix]\n",
    "\n",
    "def to_matrix(text: list[str]) -> np.array:\n",
    "    return np.array([list(l.strip()) for l in text])\n",
    "\n",
    "assert (to_matrix(to_texts(matrix)) == matrix).all()\n",
    "\n",
    "def count_xmas(string: str) -> int:\n",
    "    pattern = r\"XMAS\"\n",
    "    return len(re.findall(pattern, string))\n",
    "\n",
    "def reverse_rows(matrix):\n",
    "    return np.array([row[::-1] for row in matrix])"
   ]
  },
  {
   "cell_type": "code",
   "execution_count": 4,
   "metadata": {},
   "outputs": [],
   "source": [
    "def diagonal_padding_right(matrix):\n",
    "    new_data = []\n",
    "    for idx, row in enumerate(to_texts(matrix)):\n",
    "        new_data.append(\".\" * idx + row + \".\" * (len(row) - idx - 1))\n",
    "    return np.array(new_data)\n",
    "\n",
    "def diagonal_padding_left(matrix):\n",
    "    new_data = []\n",
    "    for idx, row in enumerate(to_texts(matrix)):\n",
    "        new_data.append(\".\" * (len(row) - idx - 1) + row + \".\" * idx)\n",
    "    return np.array(new_data)\n"
   ]
  },
  {
   "cell_type": "code",
   "execution_count": 5,
   "metadata": {},
   "outputs": [
    {
     "data": {
      "text/plain": [
       "12"
      ]
     },
     "execution_count": 5,
     "metadata": {},
     "output_type": "execute_result"
    }
   ],
   "source": [
    "l2r = sum(count_xmas(s) for s in to_texts(matrix))\n",
    "r2l = sum(count_xmas(s) for s in to_texts(reverse_rows(matrix)))\n",
    "t2b = sum(count_xmas(s) for s in to_texts(matrix.T))\n",
    "b2t = sum(count_xmas(s) for s in to_texts(reverse_rows(matrix.T)))\n",
    "diagr = sum(count_xmas(s) for s in to_texts(to_matrix(diagonal_padding_right(matrix)).T))\n",
    "diagl = sum(count_xmas(s) for s in to_texts(to_matrix(diagonal_padding_left(matrix)).T))\n",
    "diagr2 = sum(count_xmas(s) for s in to_texts(to_matrix(diagonal_padding_right(reverse_rows(matrix))).T))\n",
    "diagl2 = sum(count_xmas(s) for s in to_texts(to_matrix(diagonal_padding_left(reverse_rows(matrix))).T))\n",
    "\n",
    "l2r + r2l + t2b + b2t + diagr + diagl + diagr2 + diagl2\n"
   ]
  },
  {
   "cell_type": "code",
   "execution_count": 18,
   "metadata": {},
   "outputs": [
    {
     "name": "stdout",
     "output_type": "stream",
     "text": [
      ".........MMMSXXMASM\n",
      "........MSAMXMSMSA.\n",
      ".......AMXSXMAAMM..\n",
      "......MSAMASMSMX...\n",
      ".....XMASAMXAMM....\n",
      "....XXAMMXXAMA.....\n",
      "...SMSMSASXSS......\n",
      "..SAXAMASAAA.......\n",
      ".MAMMMXMMMM........\n",
      "MXMXAXMASX.........\n"
     ]
    }
   ],
   "source": [
    "for x in diagonal_padding_left(matrix):\n",
    "    print(x)"
   ]
  }
 ],
 "metadata": {
  "kernelspec": {
   "display_name": "Python 3",
   "language": "python",
   "name": "python3"
  },
  "language_info": {
   "codemirror_mode": {
    "name": "ipython",
    "version": 3
   },
   "file_extension": ".py",
   "mimetype": "text/x-python",
   "name": "python",
   "nbconvert_exporter": "python",
   "pygments_lexer": "ipython3",
   "version": "3.11.9"
  }
 },
 "nbformat": 4,
 "nbformat_minor": 2
}
