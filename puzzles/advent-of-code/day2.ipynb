{
 "cells": [
  {
   "cell_type": "code",
   "execution_count": 11,
   "metadata": {},
   "outputs": [],
   "source": [
    "import pandas as pd\n",
    "import numpy as np\n",
    "\n",
    "series = (\n",
    "    pd.read_csv(\"input/day2.txt\", header=None)[0]\n",
    "    .str.split(\" \", expand=False)\n",
    "    .apply(lambda xs: list(map(int, xs)))\n",
    ")"
   ]
  },
  {
   "cell_type": "code",
   "execution_count": 29,
   "metadata": {},
   "outputs": [],
   "source": [
    "def is_safe(xs):\n",
    "    xs = np.array(xs)\n",
    "    diff = np.diff(xs)\n",
    "    is_increasing = np.all(diff > 0)\n",
    "    is_decreasing = np.all(diff < 0)\n",
    "    any_goes_up = np.any(diff > 0)\n",
    "    any_goes_down = np.any(diff < 0)\n",
    "    within_bounds = np.all(1 <= np.abs(diff)) and np.all(np.abs(diff) <= 3)\n",
    "    return within_bounds and (is_increasing or is_decreasing and (any_goes_up ^ any_goes_down))\n"
   ]
  },
  {
   "cell_type": "code",
   "execution_count": 30,
   "metadata": {},
   "outputs": [],
   "source": [
    "assert is_safe([7, 6, 4, 2, 1])\n",
    "assert not is_safe([1, 2, 7, 8, 9])\n",
    "assert not is_safe([9, 7, 6, 2, 1])\n",
    "assert not is_safe([1, 3, 2, 4, 5])\n",
    "assert not is_safe([8, 6, 4, 4, 1])\n",
    "assert is_safe([1, 3, 6, 7, 9])"
   ]
  },
  {
   "cell_type": "code",
   "execution_count": 31,
   "metadata": {},
   "outputs": [
    {
     "data": {
      "text/plain": [
       "np.int64(585)"
      ]
     },
     "execution_count": 31,
     "metadata": {},
     "output_type": "execute_result"
    }
   ],
   "source": [
    "series.apply(is_safe).sum()"
   ]
  },
  {
   "cell_type": "markdown",
   "metadata": {},
   "source": [
    "# Part 2: Dampener"
   ]
  },
  {
   "cell_type": "code",
   "execution_count": 41,
   "metadata": {},
   "outputs": [],
   "source": [
    "def is_safe2(xs):\n",
    "    \"\"\"Brute force solution. If the series is safe, return True.\n",
    "    Otherwise, try removing each element and check if the series is safe.\n",
    "    \"\"\"\n",
    "    safe = is_safe(xs)\n",
    "    if safe:\n",
    "        return True\n",
    "    for i in range(len(xs)):\n",
    "        subels = np.concatenate([xs[:i], xs[i+1:]])\n",
    "        if is_safe(subels):\n",
    "            return True\n",
    "    return False\n"
   ]
  },
  {
   "cell_type": "code",
   "execution_count": 42,
   "metadata": {},
   "outputs": [],
   "source": [
    "assert is_safe2([7, 6, 4, 2, 1])\n",
    "assert not is_safe2([1, 2, 7, 8, 9])\n",
    "assert not is_safe2([9, 7, 6, 2, 1])\n",
    "assert is_safe2([1, 3, 2, 4, 5])\n",
    "assert is_safe2([8, 6, 4, 4, 1])\n",
    "assert is_safe2([1, 3, 6, 7, 9])"
   ]
  },
  {
   "cell_type": "code",
   "execution_count": 43,
   "metadata": {},
   "outputs": [
    {
     "data": {
      "text/plain": [
       "np.int64(626)"
      ]
     },
     "execution_count": 43,
     "metadata": {},
     "output_type": "execute_result"
    }
   ],
   "source": [
    "series.apply(is_safe2).sum()"
   ]
  }
 ],
 "metadata": {
  "kernelspec": {
   "display_name": "Python 3",
   "language": "python",
   "name": "python3"
  },
  "language_info": {
   "codemirror_mode": {
    "name": "ipython",
    "version": 3
   },
   "file_extension": ".py",
   "mimetype": "text/x-python",
   "name": "python",
   "nbconvert_exporter": "python",
   "pygments_lexer": "ipython3",
   "version": "3.11.9"
  }
 },
 "nbformat": 4,
 "nbformat_minor": 2
}
