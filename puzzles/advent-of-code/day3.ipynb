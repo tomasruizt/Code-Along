{
 "cells": [
  {
   "cell_type": "code",
   "execution_count": 4,
   "metadata": {},
   "outputs": [],
   "source": [
    "with open(\"input/day3.txt\") as f:\n",
    "    text = f.read()"
   ]
  },
  {
   "cell_type": "code",
   "execution_count": 14,
   "metadata": {},
   "outputs": [
    {
     "data": {
      "text/plain": [
       "167650499"
      ]
     },
     "execution_count": 14,
     "metadata": {},
     "output_type": "execute_result"
    }
   ],
   "source": [
    "# match patterns like mul(1,2)\n",
    "import re\n",
    "\n",
    "def compute_mul(string: str) -> int:\n",
    "    pattern = r\"mul\\((\\d+),(\\d+)\\)\"\n",
    "\n",
    "    matches = re.findall(pattern, string)\n",
    "\n",
    "    acc = 0\n",
    "    for s1, s2 in matches:\n",
    "        acc += int(s1) * int(s2)\n",
    "    return acc\n",
    "\n",
    "compute_mul(text)"
   ]
  },
  {
   "cell_type": "markdown",
   "metadata": {},
   "source": [
    "# Part 2: Do and Dont"
   ]
  },
  {
   "cell_type": "code",
   "execution_count": 40,
   "metadata": {},
   "outputs": [
    {
     "data": {
      "text/plain": [
       "17991"
      ]
     },
     "execution_count": 40,
     "metadata": {},
     "output_type": "execute_result"
    }
   ],
   "source": [
    "len(text)"
   ]
  },
  {
   "cell_type": "code",
   "execution_count": 58,
   "metadata": {},
   "outputs": [],
   "source": [
    "do_pattern = r\"do\\(\\)\"\n",
    "dont_pattern = r\"don't\\(\\)\"\n",
    "\n",
    "dos = list(re.finditer(do_pattern, text))\n",
    "donts = list(re.finditer(dont_pattern, text))\n",
    "\n",
    "inactive_areas = []\n",
    "for match in donts:\n",
    "    from_ = match.start()\n",
    "    to_ = [m for m in dos if m.start() > from_][0].start()\n",
    "    inactive_areas.append((from_, to_))\n"
   ]
  },
  {
   "cell_type": "code",
   "execution_count": 65,
   "metadata": {},
   "outputs": [
    {
     "data": {
      "text/html": [
       "<div>\n",
       "<style scoped>\n",
       "    .dataframe tbody tr th:only-of-type {\n",
       "        vertical-align: middle;\n",
       "    }\n",
       "\n",
       "    .dataframe tbody tr th {\n",
       "        vertical-align: top;\n",
       "    }\n",
       "\n",
       "    .dataframe thead th {\n",
       "        text-align: right;\n",
       "    }\n",
       "</style>\n",
       "<table border=\"1\" class=\"dataframe\">\n",
       "  <thead>\n",
       "    <tr style=\"text-align: right;\">\n",
       "      <th></th>\n",
       "      <th>start</th>\n",
       "      <th>end</th>\n",
       "    </tr>\n",
       "  </thead>\n",
       "  <tbody>\n",
       "    <tr>\n",
       "      <th>0</th>\n",
       "      <td>536</td>\n",
       "      <td>811</td>\n",
       "    </tr>\n",
       "    <tr>\n",
       "      <th>1</th>\n",
       "      <td>1092</td>\n",
       "      <td>1172</td>\n",
       "    </tr>\n",
       "    <tr>\n",
       "      <th>2</th>\n",
       "      <td>1693</td>\n",
       "      <td>1815</td>\n",
       "    </tr>\n",
       "    <tr>\n",
       "      <th>3</th>\n",
       "      <td>4317</td>\n",
       "      <td>4833</td>\n",
       "    </tr>\n",
       "    <tr>\n",
       "      <th>4</th>\n",
       "      <td>5320</td>\n",
       "      <td>5881</td>\n",
       "    </tr>\n",
       "    <tr>\n",
       "      <th>5</th>\n",
       "      <td>6784</td>\n",
       "      <td>7462</td>\n",
       "    </tr>\n",
       "    <tr>\n",
       "      <th>6</th>\n",
       "      <td>7545</td>\n",
       "      <td>7989</td>\n",
       "    </tr>\n",
       "    <tr>\n",
       "      <th>7</th>\n",
       "      <td>8294</td>\n",
       "      <td>8998</td>\n",
       "    </tr>\n",
       "    <tr>\n",
       "      <th>8</th>\n",
       "      <td>9154</td>\n",
       "      <td>9657</td>\n",
       "    </tr>\n",
       "    <tr>\n",
       "      <th>9</th>\n",
       "      <td>11006</td>\n",
       "      <td>11081</td>\n",
       "    </tr>\n",
       "    <tr>\n",
       "      <th>10</th>\n",
       "      <td>11584</td>\n",
       "      <td>11895</td>\n",
       "    </tr>\n",
       "    <tr>\n",
       "      <th>11</th>\n",
       "      <td>12325</td>\n",
       "      <td>12569</td>\n",
       "    </tr>\n",
       "    <tr>\n",
       "      <th>12</th>\n",
       "      <td>12843</td>\n",
       "      <td>13002</td>\n",
       "    </tr>\n",
       "    <tr>\n",
       "      <th>13</th>\n",
       "      <td>13216</td>\n",
       "      <td>13628</td>\n",
       "    </tr>\n",
       "    <tr>\n",
       "      <th>14</th>\n",
       "      <td>13886</td>\n",
       "      <td>14457</td>\n",
       "    </tr>\n",
       "    <tr>\n",
       "      <th>15</th>\n",
       "      <td>14806</td>\n",
       "      <td>15541</td>\n",
       "    </tr>\n",
       "    <tr>\n",
       "      <th>16</th>\n",
       "      <td>15645</td>\n",
       "      <td>16625</td>\n",
       "    </tr>\n",
       "    <tr>\n",
       "      <th>17</th>\n",
       "      <td>16816</td>\n",
       "      <td>16858</td>\n",
       "    </tr>\n",
       "    <tr>\n",
       "      <th>18</th>\n",
       "      <td>17100</td>\n",
       "      <td>17784</td>\n",
       "    </tr>\n",
       "  </tbody>\n",
       "</table>\n",
       "</div>"
      ],
      "text/plain": [
       "    start    end\n",
       "0     536    811\n",
       "1    1092   1172\n",
       "2    1693   1815\n",
       "3    4317   4833\n",
       "4    5320   5881\n",
       "5    6784   7462\n",
       "6    7545   7989\n",
       "7    8294   8998\n",
       "8    9154   9657\n",
       "9   11006  11081\n",
       "10  11584  11895\n",
       "11  12325  12569\n",
       "12  12843  13002\n",
       "13  13216  13628\n",
       "14  13886  14457\n",
       "15  14806  15541\n",
       "16  15645  16625\n",
       "17  16816  16858\n",
       "18  17100  17784"
      ]
     },
     "execution_count": 65,
     "metadata": {},
     "output_type": "execute_result"
    }
   ],
   "source": [
    "import pandas as pd\n",
    "iadf = pd.DataFrame(inactive_areas, columns=[\"start\", \"end\"])\n",
    "# remove multiple donts()\n",
    "iadf = iadf.groupby(\"end\", as_index=False).agg({\"start\": \"min\"})[[\"start\", \"end\"]]\n",
    "iadf"
   ]
  },
  {
   "cell_type": "code",
   "execution_count": 60,
   "metadata": {},
   "outputs": [
    {
     "data": {
      "text/plain": [
       "0     don't()where()mul(688,386)mul(798,885)+:&:)mul...\n",
       "1     don't()>];~~mul(100,802)where()what()mul(675,4...\n",
       "2     don't() *@!mul(767,135)+}~,how(){,)mul(727,699...\n",
       "3     don't()@select()>~^$how()%}mul(262,794)who()/h...\n",
       "4     don't()>*#-mul(379,986)!()]select(9,153)mul(94...\n",
       "5     don't()~mul(235,731)~what()}<$^{(mul(816,163)?...\n",
       "6     don't()-when()mul(287,875)who()>*^who()how()ho...\n",
       "7     don't()</':select()select()&,select()^mul(335,...\n",
       "8     don't():>>/;%^)mul(837,12)why()#[>@mul(180,108...\n",
       "9     don't(),>:$-where()how()<mul(43,408)mul(527,35...\n",
       "10    don't() $}]@mul(461,199)$'where()~:from()from(...\n",
       "11    don't();how()@#from()/?@,mul(445,633)from()how...\n",
       "12    don't()why()<>'}}why(){what()mul(717,303)how()...\n",
       "13    don't()+$where()>$&from(16,716)}?mul(252,848)]...\n",
       "14    don't()? [>*mul(345,156)< ?];^)>from()select(5...\n",
       "15    don't()&where(){mul(587,419)'!don't()&where()'...\n",
       "16    don't()() {from() ]]((mul(68,200)^?what()who()...\n",
       "17           don't()!mul(165,206)mul(113,418)]from(),'&\n",
       "18    don't()where()^{from()mul(804,392)${<}!mul(392...\n",
       "dtype: object"
      ]
     },
     "execution_count": 60,
     "metadata": {},
     "output_type": "execute_result"
    }
   ],
   "source": [
    "iadf.apply(lambda row: text[row[\"start\"]:row[\"end\"]], axis=1)"
   ]
  },
  {
   "cell_type": "code",
   "execution_count": 74,
   "metadata": {},
   "outputs": [
    {
     "data": {
      "text/html": [
       "<div>\n",
       "<style scoped>\n",
       "    .dataframe tbody tr th:only-of-type {\n",
       "        vertical-align: middle;\n",
       "    }\n",
       "\n",
       "    .dataframe tbody tr th {\n",
       "        vertical-align: top;\n",
       "    }\n",
       "\n",
       "    .dataframe thead th {\n",
       "        text-align: right;\n",
       "    }\n",
       "</style>\n",
       "<table border=\"1\" class=\"dataframe\">\n",
       "  <thead>\n",
       "    <tr style=\"text-align: right;\">\n",
       "      <th></th>\n",
       "      <th>start</th>\n",
       "      <th>end</th>\n",
       "    </tr>\n",
       "  </thead>\n",
       "  <tbody>\n",
       "    <tr>\n",
       "      <th>0</th>\n",
       "      <td>0</td>\n",
       "      <td>536</td>\n",
       "    </tr>\n",
       "    <tr>\n",
       "      <th>1</th>\n",
       "      <td>811</td>\n",
       "      <td>1092</td>\n",
       "    </tr>\n",
       "    <tr>\n",
       "      <th>2</th>\n",
       "      <td>1172</td>\n",
       "      <td>1693</td>\n",
       "    </tr>\n",
       "    <tr>\n",
       "      <th>3</th>\n",
       "      <td>1815</td>\n",
       "      <td>4317</td>\n",
       "    </tr>\n",
       "    <tr>\n",
       "      <th>4</th>\n",
       "      <td>4833</td>\n",
       "      <td>5320</td>\n",
       "    </tr>\n",
       "    <tr>\n",
       "      <th>5</th>\n",
       "      <td>5881</td>\n",
       "      <td>6784</td>\n",
       "    </tr>\n",
       "    <tr>\n",
       "      <th>6</th>\n",
       "      <td>7462</td>\n",
       "      <td>7545</td>\n",
       "    </tr>\n",
       "    <tr>\n",
       "      <th>7</th>\n",
       "      <td>7989</td>\n",
       "      <td>8294</td>\n",
       "    </tr>\n",
       "    <tr>\n",
       "      <th>8</th>\n",
       "      <td>8998</td>\n",
       "      <td>9154</td>\n",
       "    </tr>\n",
       "    <tr>\n",
       "      <th>9</th>\n",
       "      <td>9657</td>\n",
       "      <td>11006</td>\n",
       "    </tr>\n",
       "    <tr>\n",
       "      <th>10</th>\n",
       "      <td>11081</td>\n",
       "      <td>11584</td>\n",
       "    </tr>\n",
       "    <tr>\n",
       "      <th>11</th>\n",
       "      <td>11895</td>\n",
       "      <td>12325</td>\n",
       "    </tr>\n",
       "    <tr>\n",
       "      <th>12</th>\n",
       "      <td>12569</td>\n",
       "      <td>12843</td>\n",
       "    </tr>\n",
       "    <tr>\n",
       "      <th>13</th>\n",
       "      <td>13002</td>\n",
       "      <td>13216</td>\n",
       "    </tr>\n",
       "    <tr>\n",
       "      <th>14</th>\n",
       "      <td>13628</td>\n",
       "      <td>13886</td>\n",
       "    </tr>\n",
       "    <tr>\n",
       "      <th>15</th>\n",
       "      <td>14457</td>\n",
       "      <td>14806</td>\n",
       "    </tr>\n",
       "    <tr>\n",
       "      <th>16</th>\n",
       "      <td>15541</td>\n",
       "      <td>15645</td>\n",
       "    </tr>\n",
       "    <tr>\n",
       "      <th>17</th>\n",
       "      <td>16625</td>\n",
       "      <td>16816</td>\n",
       "    </tr>\n",
       "    <tr>\n",
       "      <th>18</th>\n",
       "      <td>16858</td>\n",
       "      <td>17100</td>\n",
       "    </tr>\n",
       "    <tr>\n",
       "      <th>19</th>\n",
       "      <td>17784</td>\n",
       "      <td>17991</td>\n",
       "    </tr>\n",
       "  </tbody>\n",
       "</table>\n",
       "</div>"
      ],
      "text/plain": [
       "    start    end\n",
       "0       0    536\n",
       "1     811   1092\n",
       "2    1172   1693\n",
       "3    1815   4317\n",
       "4    4833   5320\n",
       "5    5881   6784\n",
       "6    7462   7545\n",
       "7    7989   8294\n",
       "8    8998   9154\n",
       "9    9657  11006\n",
       "10  11081  11584\n",
       "11  11895  12325\n",
       "12  12569  12843\n",
       "13  13002  13216\n",
       "14  13628  13886\n",
       "15  14457  14806\n",
       "16  15541  15645\n",
       "17  16625  16816\n",
       "18  16858  17100\n",
       "19  17784  17991"
      ]
     },
     "execution_count": 74,
     "metadata": {},
     "output_type": "execute_result"
    }
   ],
   "source": [
    "aadf = pd.DataFrame({\"start\": [0] + iadf[\"end\"].tolist(), \"end\": iadf[\"start\"].tolist() + [len(text)]})\n",
    "aadf"
   ]
  },
  {
   "cell_type": "code",
   "execution_count": 75,
   "metadata": {},
   "outputs": [
    {
     "data": {
      "text/plain": [
       "0     ;({where()+'what()mul(445,324)#what()select()(...\n",
       "1     do();mul(648,804))~where()who()mul(433,801)':h...\n",
       "2     do()what()*]~;mul(873,971)//%mul(78,89)~'from(...\n",
       "3     do()&~!;mul(247,653)-mul(828,136)when()select(...\n",
       "4     do()~)'who()%mul(151,599)what() [where()%#mul(...\n",
       "5     do()what()$what(536,484)*[]:$select()}mul(943,...\n",
       "6     do()from()what();<}<mul(20,583),$),mul(770,783...\n",
       "7     do()-}who()who()#how()>mul(882,623who()[)'[why...\n",
       "8     do()[(^#mul(810,887)mul(127? ,+ !do()from()#wh...\n",
       "9     do()from()mul(509,815)]&*who(487,114)?#who()(m...\n",
       "10    do()]?*~/how()mul(60,36)}+~@where()^mul(95,237...\n",
       "11    do()::~+}how())mul(454,304)who()%what()select(...\n",
       "12    do();what()>@what()mul(254,522)select()how()'w...\n",
       "13    do()~^--#'<@>>mul(354,115)~when()'what():from(...\n",
       "14    do()&^<^from()#>why()-mul(527,726)!/select()%?...\n",
       "15    do()#~+[what()when()^~/mul(203,659)when()[}sel...\n",
       "16    do()mul(103,225) ~;;'why()*~mul(187,119)+/]mul...\n",
       "17    do():)<select()~ mul(571,144){mul(931,78)mul(2...\n",
       "18    do()select()/*:)]!mul(272,138) mul(211,851)]/$...\n",
       "19    do()#>mul(53,112)!(what()/?do()(,how()%mul(523...\n",
       "dtype: object"
      ]
     },
     "execution_count": 75,
     "metadata": {},
     "output_type": "execute_result"
    }
   ],
   "source": [
    "aaseries = aadf.apply(lambda row: text[row[\"start\"]:row[\"end\"]], axis=1)\n",
    "aaseries"
   ]
  },
  {
   "cell_type": "code",
   "execution_count": 76,
   "metadata": {},
   "outputs": [
    {
     "data": {
      "text/plain": [
       "np.int64(95846796)"
      ]
     },
     "execution_count": 76,
     "metadata": {},
     "output_type": "execute_result"
    }
   ],
   "source": [
    "aaseries.apply(compute_mul).sum()"
   ]
  }
 ],
 "metadata": {
  "kernelspec": {
   "display_name": "Python 3",
   "language": "python",
   "name": "python3"
  },
  "language_info": {
   "codemirror_mode": {
    "name": "ipython",
    "version": 3
   },
   "file_extension": ".py",
   "mimetype": "text/x-python",
   "name": "python",
   "nbconvert_exporter": "python",
   "pygments_lexer": "ipython3",
   "version": "3.11.9"
  }
 },
 "nbformat": 4,
 "nbformat_minor": 2
}
