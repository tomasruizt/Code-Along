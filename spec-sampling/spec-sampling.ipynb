{
 "cells": [
  {
   "cell_type": "code",
   "execution_count": null,
   "id": "7d67f246",
   "metadata": {},
   "outputs": [],
   "source": [
    "%load_ext autoreload\n",
    "%autoreload 2"
   ]
  },
  {
   "cell_type": "code",
   "execution_count": null,
   "id": "72853041",
   "metadata": {},
   "outputs": [],
   "source": [
    "import torch\n",
    "import seaborn as sns\n",
    "import pandas as pd\n",
    "import os\n",
    "\n",
    "torch.set_default_device(\"cuda\")\n",
    "\n",
    "# os.environ[\"CUDA_LAUNCH_BLOCKING\"] = \"1\""
   ]
  },
  {
   "cell_type": "code",
   "execution_count": null,
   "id": "99e38e6f",
   "metadata": {},
   "outputs": [],
   "source": [
    "logits = torch.tensor([2.5, 2, 3])\n",
    "probs = torch.nn.functional.softmax(logits, dim=-1)\n",
    "print(probs)\n",
    "ax = sns.barplot(probs.cpu())\n",
    "ax.grid(axis=\"y\")"
   ]
  },
  {
   "cell_type": "code",
   "execution_count": null,
   "id": "66048127",
   "metadata": {},
   "outputs": [],
   "source": [
    "samples = torch.multinomial(probs, num_samples=1000, replacement=True)\n",
    "print(torch.bincount(samples) / len(samples))\n",
    "ax = sns.histplot(samples.cpu(), stat=\"probability\")\n",
    "ax.grid(axis=\"y\")"
   ]
  },
  {
   "cell_type": "code",
   "execution_count": null,
   "id": "bae65d1c",
   "metadata": {},
   "outputs": [],
   "source": [
    "spec_logits = torch.tensor([3.0, 2.0, 1.0])\n",
    "spec_probs = torch.nn.functional.softmax(spec_logits, dim=-1)\n",
    "spec_samples = torch.multinomial(spec_probs, num_samples=1000, replacement=True)\n",
    "print(spec_probs)"
   ]
  },
  {
   "cell_type": "code",
   "execution_count": null,
   "id": "c8c000c3",
   "metadata": {},
   "outputs": [],
   "source": [
    "ax = sns.histplot(spec_samples.cpu(), stat=\"probability\")\n",
    "ax.grid(axis=\"y\")"
   ]
  },
  {
   "cell_type": "code",
   "execution_count": null,
   "id": "0a1f79ed",
   "metadata": {},
   "outputs": [],
   "source": [
    "def rejection_sample(probs: torch.Tensor, spec_probs: torch.Tensor, idxs: torch.Tensor):\n",
    "    \"\"\"\n",
    "    Target model distribution: q(x)\n",
    "    Draft model distribution: p(x)\n",
    "    Vectorized implementation\n",
    "    \"\"\"\n",
    "    qs = probs[idxs]\n",
    "    ps = spec_probs[idxs]\n",
    "    rs = torch.rand(len(idxs))\n",
    "    keep_mask = rs < torch.clamp(qs / ps, max=1.0)\n",
    "    new_p = torch.clamp(probs - spec_probs, min=0.0)  # pseudo-probability\n",
    "    new_samples = torch.multinomial(new_p, num_samples=len(idxs), replacement=True)\n",
    "    return torch.where(keep_mask, idxs, new_samples)"
   ]
  },
  {
   "cell_type": "code",
   "execution_count": null,
   "id": "9a0df706",
   "metadata": {},
   "outputs": [],
   "source": [
    "# rej_samples = torch.tensor([rejection_sample(probs, spec_probs, x) for x in spec_samples])\n",
    "rej_samples = rejection_sample(probs, spec_probs, spec_samples)\n",
    "ax = sns.histplot(rej_samples.cpu(), stat=\"probability\")\n",
    "ax.grid(axis=\"y\")"
   ]
  }
 ],
 "metadata": {
  "kernelspec": {
   "display_name": "venv",
   "language": "python",
   "name": "python3"
  },
  "language_info": {
   "codemirror_mode": {
    "name": "ipython",
    "version": 3
   },
   "file_extension": ".py",
   "mimetype": "text/x-python",
   "name": "python",
   "nbconvert_exporter": "python",
   "pygments_lexer": "ipython3",
   "version": "3.11.9"
  }
 },
 "nbformat": 4,
 "nbformat_minor": 5
}
