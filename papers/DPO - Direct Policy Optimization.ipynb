{
 "cells": [
  {
   "cell_type": "markdown",
   "id": "97e3d8f9-c7f6-44d2-8617-2f9119b4fb81",
   "metadata": {},
   "source": [
    "# Simulate a Dataset\n",
    "* Assume we have a query $x$, to which we elicit different responses $y_i$.\n",
    "* The responses are e.g. letters from A to Z. So $n = 25$.\n",
    "* They are ordered in a random, but specific order.\n",
    "* We draw 100 pairwise comparisons\n",
    "* The query $x$ is assumed to be constant, so we will disregard it in the simulation.\n",
    "* The reward $r(y, x)$ becomes $r(y)$. Its value is hard-coded to be $1/position(y)$, e.g. if C is the 24th letter in the order, then\n",
    "$$\n",
    "r(C) = 1 / 24\n",
    "$$"
   ]
  },
  {
   "cell_type": "code",
   "execution_count": 102,
   "id": "d12ce170-3b6a-49b1-8150-81c43b50c3a3",
   "metadata": {},
   "outputs": [],
   "source": [
    "import string\n",
    "import random\n",
    "\n",
    "letters = list(string.ascii_uppercase)"
   ]
  },
  {
   "cell_type": "code",
   "execution_count": 103,
   "id": "09ee28cd-3436-4906-bb20-04e89509b88a",
   "metadata": {},
   "outputs": [],
   "source": [
    "shuffled = list(letters)\n",
    "random.seed(0)\n",
    "random.shuffle(shuffled)\n",
    "\n",
    "letter2r = {l: 1.0/idx for idx, l in enumerate(shuffled, 1)}\n",
    "assert letter2r[\"A\"] == 0.5\n",
    "assert letter2r[\"B\"] == 1.0 / 23"
   ]
  },
  {
   "cell_type": "code",
   "execution_count": 69,
   "id": "299678ad-ef9f-40d9-8787-6e51eb3279cb",
   "metadata": {},
   "outputs": [
    {
     "data": {
      "text/plain": [
       "{'O': 1.0,\n",
       " 'A': 0.5,\n",
       " 'X': 0.3333333333333333,\n",
       " 'S': 0.25,\n",
       " 'G': 0.2,\n",
       " 'F': 0.16666666666666666,\n",
       " 'H': 0.14285714285714285,\n",
       " 'K': 0.125,\n",
       " 'W': 0.1111111111111111,\n",
       " 'U': 0.1,\n",
       " 'E': 0.09090909090909091,\n",
       " 'C': 0.08333333333333333,\n",
       " 'V': 0.07692307692307693,\n",
       " 'D': 0.07142857142857142,\n",
       " 'R': 0.06666666666666667,\n",
       " 'L': 0.0625,\n",
       " 'T': 0.058823529411764705,\n",
       " 'J': 0.05555555555555555,\n",
       " 'Z': 0.05263157894736842,\n",
       " 'P': 0.05,\n",
       " 'Q': 0.047619047619047616,\n",
       " 'I': 0.045454545454545456,\n",
       " 'B': 0.043478260869565216,\n",
       " 'N': 0.041666666666666664,\n",
       " 'Y': 0.04,\n",
       " 'M': 0.038461538461538464}"
      ]
     },
     "execution_count": 69,
     "metadata": {},
     "output_type": "execute_result"
    }
   ],
   "source": [
    "letter2r"
   ]
  },
  {
   "cell_type": "code",
   "execution_count": 73,
   "id": "7931c502-94e7-4b76-819f-5e1e8da48760",
   "metadata": {},
   "outputs": [],
   "source": [
    "from math import exp\n",
    "\n",
    "def p_star(y1, y2) -> float:\n",
    "    r1 = letter2r[y1]\n",
    "    r2 = letter2r[y2]\n",
    "    return exp(r1) / (exp(r1) + exp(r2))\n",
    "\n",
    "assert p_star(\"A\", \"A\") == .5\n",
    "assert p_star(\"O\", \"A\") > p_star(\"A\", \"O\")"
   ]
  },
  {
   "cell_type": "code",
   "execution_count": 112,
   "id": "6b0fdb37-b165-4593-89c2-b3622acce9fc",
   "metadata": {},
   "outputs": [
    {
     "data": {
      "text/html": [
       "<div>\n",
       "<style scoped>\n",
       "    .dataframe tbody tr th:only-of-type {\n",
       "        vertical-align: middle;\n",
       "    }\n",
       "\n",
       "    .dataframe tbody tr th {\n",
       "        vertical-align: top;\n",
       "    }\n",
       "\n",
       "    .dataframe thead th {\n",
       "        text-align: right;\n",
       "    }\n",
       "</style>\n",
       "<table border=\"1\" class=\"dataframe\">\n",
       "  <thead>\n",
       "    <tr style=\"text-align: right;\">\n",
       "      <th></th>\n",
       "      <th>y1</th>\n",
       "      <th>y2</th>\n",
       "      <th>p*</th>\n",
       "      <th>random</th>\n",
       "      <th>yw</th>\n",
       "      <th>yl</th>\n",
       "    </tr>\n",
       "  </thead>\n",
       "  <tbody>\n",
       "    <tr>\n",
       "      <th>0</th>\n",
       "      <td>V</td>\n",
       "      <td>T</td>\n",
       "      <td>0.504525</td>\n",
       "      <td>0.548814</td>\n",
       "      <td>T</td>\n",
       "      <td>V</td>\n",
       "    </tr>\n",
       "    <tr>\n",
       "      <th>1</th>\n",
       "      <td>K</td>\n",
       "      <td>G</td>\n",
       "      <td>0.481259</td>\n",
       "      <td>0.715189</td>\n",
       "      <td>G</td>\n",
       "      <td>K</td>\n",
       "    </tr>\n",
       "    <tr>\n",
       "      <th>2</th>\n",
       "      <td>N</td>\n",
       "      <td>K</td>\n",
       "      <td>0.479179</td>\n",
       "      <td>0.602763</td>\n",
       "      <td>K</td>\n",
       "      <td>N</td>\n",
       "    </tr>\n",
       "    <tr>\n",
       "      <th>3</th>\n",
       "      <td>U</td>\n",
       "      <td>H</td>\n",
       "      <td>0.489287</td>\n",
       "      <td>0.544883</td>\n",
       "      <td>H</td>\n",
       "      <td>U</td>\n",
       "    </tr>\n",
       "    <tr>\n",
       "      <th>4</th>\n",
       "      <td>M</td>\n",
       "      <td>P</td>\n",
       "      <td>0.497115</td>\n",
       "      <td>0.423655</td>\n",
       "      <td>M</td>\n",
       "      <td>P</td>\n",
       "    </tr>\n",
       "  </tbody>\n",
       "</table>\n",
       "</div>"
      ],
      "text/plain": [
       "  y1 y2        p*    random yw yl\n",
       "0  V  T  0.504525  0.548814  T  V\n",
       "1  K  G  0.481259  0.715189  G  K\n",
       "2  N  K  0.479179  0.602763  K  N\n",
       "3  U  H  0.489287  0.544883  H  U\n",
       "4  M  P  0.497115  0.423655  M  P"
      ]
     },
     "execution_count": 112,
     "metadata": {},
     "output_type": "execute_result"
    }
   ],
   "source": [
    "import pandas as pd\n",
    "import numpy as np\n",
    "\n",
    "# draw 1000 pairs for comparison\n",
    "random.seed(0)\n",
    "D = [random.choices(letters, k=2) for _ in range(100)]\n",
    "assert len(D) == 100\n",
    "\n",
    "# Add p* to pair\n",
    "D = [(y1, y2, p_star(y1, y2)) for y1, y2 in D]\n",
    "\n",
    "df = pd.DataFrame(D, columns=[\"y1\", \"y2\", \"p*\"])\n",
    "np.random.seed(0)\n",
    "df[\"random\"] = np.random.random(size=len(df))\n",
    "df[\"yw\"] = np.where(df[\"random\"] < df[\"p*\"], df[\"y1\"], df[\"y2\"])\n",
    "df[\"yl\"] = np.where(df[\"random\"] < df[\"p*\"], df[\"y2\"], df[\"y1\"])\n",
    "df.head()"
   ]
  },
  {
   "cell_type": "markdown",
   "id": "1fcf33a5-5b78-430a-88d2-57a2bdebdd66",
   "metadata": {},
   "source": [
    "# Define a Model for $r_{\\theta}(y)$\n",
    "* The training data is only pairwise comparisons with winner and loser $(y_w, y_l)$\n",
    "* Our model must outputs the prediction $r_{\\theta}(y)$, and has parameters $\\theta$.\n",
    "* $\\theta$ has as many dimensions as there are letters, and each parameter encodes the predicted value of $r$ for each letter."
   ]
  },
  {
   "cell_type": "code",
   "execution_count": 116,
   "id": "98878b25-0c3a-4851-b8d0-5c140d5e7b44",
   "metadata": {},
   "outputs": [
    {
     "data": {
      "text/html": [
       "<div>\n",
       "<style scoped>\n",
       "    .dataframe tbody tr th:only-of-type {\n",
       "        vertical-align: middle;\n",
       "    }\n",
       "\n",
       "    .dataframe tbody tr th {\n",
       "        vertical-align: top;\n",
       "    }\n",
       "\n",
       "    .dataframe thead th {\n",
       "        text-align: right;\n",
       "    }\n",
       "</style>\n",
       "<table border=\"1\" class=\"dataframe\">\n",
       "  <thead>\n",
       "    <tr style=\"text-align: right;\">\n",
       "      <th></th>\n",
       "      <th>yw</th>\n",
       "      <th>yl</th>\n",
       "    </tr>\n",
       "  </thead>\n",
       "  <tbody>\n",
       "    <tr>\n",
       "      <th>0</th>\n",
       "      <td>T</td>\n",
       "      <td>V</td>\n",
       "    </tr>\n",
       "    <tr>\n",
       "      <th>1</th>\n",
       "      <td>G</td>\n",
       "      <td>K</td>\n",
       "    </tr>\n",
       "    <tr>\n",
       "      <th>2</th>\n",
       "      <td>K</td>\n",
       "      <td>N</td>\n",
       "    </tr>\n",
       "    <tr>\n",
       "      <th>3</th>\n",
       "      <td>H</td>\n",
       "      <td>U</td>\n",
       "    </tr>\n",
       "    <tr>\n",
       "      <th>4</th>\n",
       "      <td>M</td>\n",
       "      <td>P</td>\n",
       "    </tr>\n",
       "  </tbody>\n",
       "</table>\n",
       "</div>"
      ],
      "text/plain": [
       "  yw yl\n",
       "0  T  V\n",
       "1  G  K\n",
       "2  K  N\n",
       "3  H  U\n",
       "4  M  P"
      ]
     },
     "execution_count": 116,
     "metadata": {},
     "output_type": "execute_result"
    }
   ],
   "source": [
    "df_train = df[[\"yw\", \"yl\"]]\n",
    "df_train.head()"
   ]
  },
  {
   "cell_type": "code",
   "execution_count": 123,
   "id": "0644bd41-8e66-4b22-b506-dd09f9ddedb2",
   "metadata": {},
   "outputs": [],
   "source": [
    "import torch\n",
    "from torch import nn\n",
    "\n",
    "class Ranker(nn.Module):\n",
    "    def __init__(self):\n",
    "        super().__init__()\n",
    "        self.params = nn.Parameter(torch.zeros(len(letters)))\n",
    "\n",
    "    def forward(self, letters):  # B x n\n",
    "        rs = letters @ self.params  # B x 1\n",
    "        return rs\n",
    "\n",
    "r = Ranker()"
   ]
  },
  {
   "cell_type": "code",
   "execution_count": 126,
   "id": "3b63db4a-318a-49e6-964f-5ddebd369b29",
   "metadata": {},
   "outputs": [
    {
     "data": {
      "text/plain": [
       "tensor([[1., 0., 0., 0., 0., 0., 0., 0., 0., 0., 0., 0., 0., 0., 0., 0., 0., 0.,\n",
       "         0., 0., 0., 0., 0., 0., 0., 0.],\n",
       "        [0., 1., 0., 0., 0., 0., 0., 0., 0., 0., 0., 0., 0., 0., 0., 0., 0., 0.,\n",
       "         0., 0., 0., 0., 0., 0., 0., 0.],\n",
       "        [0., 0., 1., 0., 0., 0., 0., 0., 0., 0., 0., 0., 0., 0., 0., 0., 0., 0.,\n",
       "         0., 0., 0., 0., 0., 0., 0., 0.]])"
      ]
     },
     "execution_count": 126,
     "metadata": {},
     "output_type": "execute_result"
    }
   ],
   "source": [
    "# Encode letters as one-hot vectors\n",
    "vecs = torch.eye(len(letters))\n",
    "\n",
    "letter2vec = dict(zip(letters, vecs))\n",
    "\n",
    "letter2vec[\"Z\"]\n",
    "\n",
    "def encode(ls: list[str]) -> torch.Tensor:\n",
    "    return torch.stack([letter2vec[l] for l in ls])\n",
    "\n",
    "encode([\"A\", \"B\", \"C\"])"
   ]
  },
  {
   "cell_type": "code",
   "execution_count": 132,
   "id": "dd5396ad-7706-462f-aeb7-6413e9838467",
   "metadata": {},
   "outputs": [
    {
     "data": {
      "text/plain": [
       "tensor([0., 0., 0., 0., 0., 0., 0., 0., 0., 0., 0., 0., 0., 0., 0., 0., 0., 0., 0., 0., 0., 0., 0., 0.,\n",
       "        0., 0., 0., 0., 0., 0., 0., 0., 0., 0., 0., 0., 0., 0., 0., 0., 0., 0., 0., 0., 0., 0., 0., 0.,\n",
       "        0., 0., 0., 0., 0., 0., 0., 0., 0., 0., 0., 0., 0., 0., 0., 0., 0., 0., 0., 0., 0., 0., 0., 0.,\n",
       "        0., 0., 0., 0., 0., 0., 0., 0., 0., 0., 0., 0., 0., 0., 0., 0., 0., 0., 0., 0., 0., 0., 0., 0.,\n",
       "        0., 0., 0., 0.], grad_fn=<MvBackward0>)"
      ]
     },
     "execution_count": 132,
     "metadata": {},
     "output_type": "execute_result"
    }
   ],
   "source": [
    "r(encode([\"A\", \"B\", \"C\"]))\n",
    "r(encode(df_train[\"yw\"]))"
   ]
  },
  {
   "cell_type": "markdown",
   "id": "c774dda3-7fea-4c9b-bcf9-036d91c03450",
   "metadata": {},
   "source": [
    "# Define a Loss"
   ]
  },
  {
   "cell_type": "code",
   "execution_count": 133,
   "id": "dc8522bc-29da-4afe-9cca-890f7049e637",
   "metadata": {},
   "outputs": [],
   "source": [
    "def loss(r_w_pred, r_l_pred) -> torch.Tensor:\n",
    "    return -torch.sigmoid(r_w_pred - r_l_pred).log().mean()"
   ]
  },
  {
   "cell_type": "markdown",
   "id": "2e8cbabc-1cc5-4d94-8b99-8a2d14f42014",
   "metadata": {},
   "source": [
    "# Train the Model"
   ]
  },
  {
   "cell_type": "code",
   "execution_count": 140,
   "id": "3b2b4ed0-157d-40d3-8d5b-4113ff36a098",
   "metadata": {},
   "outputs": [
    {
     "name": "stdout",
     "output_type": "stream",
     "text": [
      "loss: 0.6931471228599548\n",
      "loss: 0.6622939109802246\n",
      "loss: 0.6357548236846924\n",
      "loss: 0.6134393811225891\n",
      "loss: 0.5950097441673279\n",
      "loss: 0.5799616575241089\n",
      "loss: 0.5677114725112915\n",
      "loss: 0.5577043294906616\n",
      "loss: 0.5494194030761719\n",
      "loss: 0.5424333810806274\n",
      "loss: 0.5364360213279724\n",
      "loss: 0.5312089323997498\n",
      "loss: 0.526618480682373\n",
      "loss: 0.5225934386253357\n",
      "loss: 0.5190905928611755\n",
      "loss: 0.5160790085792542\n",
      "loss: 0.5135298371315002\n",
      "loss: 0.511406421661377\n",
      "loss: 0.5096655488014221\n",
      "loss: 0.5082651376724243\n",
      "loss: 0.5071642398834229\n",
      "loss: 0.5063221454620361\n",
      "loss: 0.5057000517845154\n",
      "loss: 0.5052586197853088\n",
      "loss: 0.5049564242362976\n",
      "loss: 0.5047531723976135\n",
      "loss: 0.5046135187149048\n",
      "loss: 0.504507303237915\n",
      "loss: 0.504411518573761\n",
      "loss: 0.5043113231658936\n",
      "loss: 0.5041975975036621\n",
      "loss: 0.5040654540061951\n",
      "loss: 0.5039156079292297\n",
      "loss: 0.503751814365387\n",
      "loss: 0.5035796761512756\n",
      "loss: 0.5034064054489136\n",
      "loss: 0.5032384395599365\n",
      "loss: 0.5030795931816101\n",
      "loss: 0.5029317736625671\n",
      "loss: 0.502795398235321\n"
     ]
    }
   ],
   "source": [
    "model = Ranker()\n",
    "opt = torch.optim.Adam(lr=.1, params=model.parameters())\n",
    "\n",
    "for _ in range(40):\n",
    "    opt.zero_grad()\n",
    "    r_w_pred = model(encode(df_train[\"yw\"]))\n",
    "    r_l_pred = model(encode(df_train[\"yl\"]))\n",
    "    l = loss(r_w_pred, r_l_pred)\n",
    "    print(\"loss:\", l.item())\n",
    "    l.backward()\n",
    "    opt.step()"
   ]
  },
  {
   "cell_type": "code",
   "execution_count": 149,
   "id": "882be1cc-da08-4705-ae4b-d508e78df579",
   "metadata": {},
   "outputs": [
    {
     "data": {
      "text/plain": [
       "Parameter containing:\n",
       "tensor([-0.1067, -0.4513,  1.4239, -0.3265, -2.3796, -0.7214,  1.9594,  2.1371,\n",
       "        -0.5861, -1.1844,  0.7986,  0.7001,  0.7843, -2.7167,  2.1669,  0.3370,\n",
       "         0.4379, -0.3226, -1.5580, -0.0289,  0.7775,  1.3212, -1.3243, -2.1043,\n",
       "        -1.4263, -2.1402], requires_grad=True)"
      ]
     },
     "execution_count": 149,
     "metadata": {},
     "output_type": "execute_result"
    }
   ],
   "source": [
    "model.params"
   ]
  },
  {
   "cell_type": "code",
   "execution_count": null,
   "id": "96c6bba3-2285-48f5-8204-b3b261d14ca0",
   "metadata": {},
   "outputs": [],
   "source": []
  }
 ],
 "metadata": {
  "kernelspec": {
   "display_name": "Python 3 (ipykernel)",
   "language": "python",
   "name": "python3"
  },
  "language_info": {
   "codemirror_mode": {
    "name": "ipython",
    "version": 3
   },
   "file_extension": ".py",
   "mimetype": "text/x-python",
   "name": "python",
   "nbconvert_exporter": "python",
   "pygments_lexer": "ipython3",
   "version": "3.11.9"
  }
 },
 "nbformat": 4,
 "nbformat_minor": 5
}
