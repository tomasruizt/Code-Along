{
 "cells": [
  {
   "cell_type": "markdown",
   "id": "97e3d8f9-c7f6-44d2-8617-2f9119b4fb81",
   "metadata": {},
   "source": [
    "# Simulate a Dataset\n",
    "* Assume we have a query $x$, to which we elicit different responses $y_i$.\n",
    "* The responses are e.g. letters from A to Z. So $n = 25$.\n",
    "* They are ordered in a random, but specific order.\n",
    "* We draw 100 pairwise comparisons\n",
    "* The query $x$ is assumed to be constant, so we will disregard it in the simulation.\n",
    "* The reward $r(y, x)$ becomes $r(y)$. Its value is hard-coded to be $n - position(y)$, e.g. if C is the 24th letter in the order, then\n",
    "$$\n",
    "r(C) = 25 - 24 = 1\n",
    "$$"
   ]
  },
  {
   "cell_type": "code",
   "execution_count": 1,
   "id": "d12ce170-3b6a-49b1-8150-81c43b50c3a3",
   "metadata": {},
   "outputs": [],
   "source": [
    "import string\n",
    "import random\n",
    "\n",
    "letters = list(string.ascii_uppercase)\n",
    "n = len(letters)"
   ]
  },
  {
   "cell_type": "code",
   "execution_count": 2,
   "id": "09ee28cd-3436-4906-bb20-04e89509b88a",
   "metadata": {},
   "outputs": [],
   "source": [
    "shuffled = list(letters)\n",
    "random.seed(0)\n",
    "random.shuffle(shuffled)\n",
    "\n",
    "letter2r = {l: n - idx for idx, l in enumerate(shuffled, 1)}\n",
    "assert letter2r[\"A\"] == n - 2\n",
    "assert letter2r[\"B\"] == n - 23"
   ]
  },
  {
   "cell_type": "code",
   "execution_count": 3,
   "id": "299678ad-ef9f-40d9-8787-6e51eb3279cb",
   "metadata": {},
   "outputs": [
    {
     "data": {
      "text/plain": [
       "{'O': 25,\n",
       " 'A': 24,\n",
       " 'X': 23,\n",
       " 'S': 22,\n",
       " 'G': 21,\n",
       " 'F': 20,\n",
       " 'H': 19,\n",
       " 'K': 18,\n",
       " 'W': 17,\n",
       " 'U': 16,\n",
       " 'E': 15,\n",
       " 'C': 14,\n",
       " 'V': 13,\n",
       " 'D': 12,\n",
       " 'R': 11,\n",
       " 'L': 10,\n",
       " 'T': 9,\n",
       " 'J': 8,\n",
       " 'Z': 7,\n",
       " 'P': 6,\n",
       " 'Q': 5,\n",
       " 'I': 4,\n",
       " 'B': 3,\n",
       " 'N': 2,\n",
       " 'Y': 1,\n",
       " 'M': 0}"
      ]
     },
     "execution_count": 3,
     "metadata": {},
     "output_type": "execute_result"
    }
   ],
   "source": [
    "letter2r"
   ]
  },
  {
   "cell_type": "code",
   "execution_count": 4,
   "id": "7931c502-94e7-4b76-819f-5e1e8da48760",
   "metadata": {},
   "outputs": [],
   "source": [
    "from math import exp\n",
    "\n",
    "def p_star(y1, y2) -> float:\n",
    "    r1 = letter2r[y1]\n",
    "    r2 = letter2r[y2]\n",
    "    return exp(r1) / (exp(r1) + exp(r2))\n",
    "\n",
    "assert p_star(\"A\", \"A\") == .5\n",
    "assert p_star(\"O\", \"A\") > p_star(\"A\", \"O\")"
   ]
  },
  {
   "cell_type": "code",
   "execution_count": 5,
   "id": "6b0fdb37-b165-4593-89c2-b3622acce9fc",
   "metadata": {},
   "outputs": [
    {
     "data": {
      "text/html": [
       "<div>\n",
       "<style scoped>\n",
       "    .dataframe tbody tr th:only-of-type {\n",
       "        vertical-align: middle;\n",
       "    }\n",
       "\n",
       "    .dataframe tbody tr th {\n",
       "        vertical-align: top;\n",
       "    }\n",
       "\n",
       "    .dataframe thead th {\n",
       "        text-align: right;\n",
       "    }\n",
       "</style>\n",
       "<table border=\"1\" class=\"dataframe\">\n",
       "  <thead>\n",
       "    <tr style=\"text-align: right;\">\n",
       "      <th></th>\n",
       "      <th>y1</th>\n",
       "      <th>y2</th>\n",
       "      <th>p*</th>\n",
       "      <th>random</th>\n",
       "      <th>yw</th>\n",
       "      <th>yl</th>\n",
       "    </tr>\n",
       "  </thead>\n",
       "  <tbody>\n",
       "    <tr>\n",
       "      <th>0</th>\n",
       "      <td>V</td>\n",
       "      <td>T</td>\n",
       "      <td>9.820138e-01</td>\n",
       "      <td>0.548814</td>\n",
       "      <td>V</td>\n",
       "      <td>T</td>\n",
       "    </tr>\n",
       "    <tr>\n",
       "      <th>1</th>\n",
       "      <td>K</td>\n",
       "      <td>G</td>\n",
       "      <td>4.742587e-02</td>\n",
       "      <td>0.715189</td>\n",
       "      <td>G</td>\n",
       "      <td>K</td>\n",
       "    </tr>\n",
       "    <tr>\n",
       "      <th>2</th>\n",
       "      <td>N</td>\n",
       "      <td>K</td>\n",
       "      <td>1.125352e-07</td>\n",
       "      <td>0.602763</td>\n",
       "      <td>K</td>\n",
       "      <td>N</td>\n",
       "    </tr>\n",
       "    <tr>\n",
       "      <th>3</th>\n",
       "      <td>U</td>\n",
       "      <td>H</td>\n",
       "      <td>4.742587e-02</td>\n",
       "      <td>0.544883</td>\n",
       "      <td>H</td>\n",
       "      <td>U</td>\n",
       "    </tr>\n",
       "    <tr>\n",
       "      <th>4</th>\n",
       "      <td>M</td>\n",
       "      <td>P</td>\n",
       "      <td>2.472623e-03</td>\n",
       "      <td>0.423655</td>\n",
       "      <td>P</td>\n",
       "      <td>M</td>\n",
       "    </tr>\n",
       "  </tbody>\n",
       "</table>\n",
       "</div>"
      ],
      "text/plain": [
       "  y1 y2            p*    random yw yl\n",
       "0  V  T  9.820138e-01  0.548814  V  T\n",
       "1  K  G  4.742587e-02  0.715189  G  K\n",
       "2  N  K  1.125352e-07  0.602763  K  N\n",
       "3  U  H  4.742587e-02  0.544883  H  U\n",
       "4  M  P  2.472623e-03  0.423655  P  M"
      ]
     },
     "execution_count": 5,
     "metadata": {},
     "output_type": "execute_result"
    }
   ],
   "source": [
    "import pandas as pd\n",
    "import numpy as np\n",
    "\n",
    "# draw pairs for comparison\n",
    "random.seed(0)\n",
    "n_pairs = 1000\n",
    "D = [random.choices(letters, k=2) for _ in range(n_pairs)]\n",
    "assert len(D) == n_pairs\n",
    "\n",
    "# Add p* to pair\n",
    "D = [(y1, y2, p_star(y1, y2)) for y1, y2 in D]\n",
    "\n",
    "df = pd.DataFrame(D, columns=[\"y1\", \"y2\", \"p*\"])\n",
    "np.random.seed(0)\n",
    "df[\"random\"] = np.random.random(size=len(df))\n",
    "df[\"yw\"] = np.where(df[\"random\"] < df[\"p*\"], df[\"y1\"], df[\"y2\"])\n",
    "df[\"yl\"] = np.where(df[\"random\"] < df[\"p*\"], df[\"y2\"], df[\"y1\"])\n",
    "df.head()"
   ]
  },
  {
   "cell_type": "code",
   "execution_count": 6,
   "id": "9efe6030-0c13-4d18-b2bf-068e73c39e66",
   "metadata": {},
   "outputs": [
    {
     "data": {
      "image/png": "[encoded data removed]",
      "text/plain": [
       "<Figure size 640x480 with 1 Axes>"
      ]
     },
     "metadata": {},
     "output_type": "display_data"
    }
   ],
   "source": [
    "import matplotlib.pyplot as plt\n",
    "\n",
    "plt.hist(df[\"p*\"])\n",
    "plt.show()"
   ]
  },
  {
   "cell_type": "markdown",
   "id": "1fcf33a5-5b78-430a-88d2-57a2bdebdd66",
   "metadata": {},
   "source": [
    "# Define a Model for $r_{\\theta}(y)$\n",
    "* The training data is only pairwise comparisons with winner and loser $(y_w, y_l)$\n",
    "* Our model must outputs the prediction $r_{\\theta}(y)$, and has parameters $\\theta$.\n",
    "* $\\theta$ has as many dimensions as there are letters, and each parameter encodes the predicted value of $r$ for each letter."
   ]
  },
  {
   "cell_type": "code",
   "execution_count": 7,
   "id": "98878b25-0c3a-4851-b8d0-5c140d5e7b44",
   "metadata": {},
   "outputs": [
    {
     "data": {
      "text/html": [
       "<div>\n",
       "<style scoped>\n",
       "    .dataframe tbody tr th:only-of-type {\n",
       "        vertical-align: middle;\n",
       "    }\n",
       "\n",
       "    .dataframe tbody tr th {\n",
       "        vertical-align: top;\n",
       "    }\n",
       "\n",
       "    .dataframe thead th {\n",
       "        text-align: right;\n",
       "    }\n",
       "</style>\n",
       "<table border=\"1\" class=\"dataframe\">\n",
       "  <thead>\n",
       "    <tr style=\"text-align: right;\">\n",
       "      <th></th>\n",
       "      <th>yw</th>\n",
       "      <th>yl</th>\n",
       "    </tr>\n",
       "  </thead>\n",
       "  <tbody>\n",
       "    <tr>\n",
       "      <th>0</th>\n",
       "      <td>V</td>\n",
       "      <td>T</td>\n",
       "    </tr>\n",
       "    <tr>\n",
       "      <th>1</th>\n",
       "      <td>G</td>\n",
       "      <td>K</td>\n",
       "    </tr>\n",
       "    <tr>\n",
       "      <th>2</th>\n",
       "      <td>K</td>\n",
       "      <td>N</td>\n",
       "    </tr>\n",
       "    <tr>\n",
       "      <th>3</th>\n",
       "      <td>H</td>\n",
       "      <td>U</td>\n",
       "    </tr>\n",
       "    <tr>\n",
       "      <th>4</th>\n",
       "      <td>P</td>\n",
       "      <td>M</td>\n",
       "    </tr>\n",
       "  </tbody>\n",
       "</table>\n",
       "</div>"
      ],
      "text/plain": [
       "  yw yl\n",
       "0  V  T\n",
       "1  G  K\n",
       "2  K  N\n",
       "3  H  U\n",
       "4  P  M"
      ]
     },
     "execution_count": 7,
     "metadata": {},
     "output_type": "execute_result"
    }
   ],
   "source": [
    "df_train = df[[\"yw\", \"yl\"]]\n",
    "df_train.head()"
   ]
  },
  {
   "cell_type": "code",
   "execution_count": 8,
   "id": "0644bd41-8e66-4b22-b506-dd09f9ddedb2",
   "metadata": {},
   "outputs": [],
   "source": [
    "import torch\n",
    "from torch import nn\n",
    "\n",
    "class Ranker(nn.Module):\n",
    "    def __init__(self):\n",
    "        super().__init__()\n",
    "        self.params = nn.Parameter(torch.zeros(len(letters)))\n",
    "\n",
    "    def forward(self, letters):  # B x n\n",
    "        # ps = self.params - self.params.max() + 1  # normalize s.t. the highest entry is 1.\n",
    "        rs = letters @ self.params  # B x 1\n",
    "        return rs\n",
    "\n",
    "    def ordered_letters(self) -> list[str]:\n",
    "        params2letters = sorted(zip(self.params.detach().numpy(), letters), reverse=True)\n",
    "        return [letter for param, letter in params2letters]\n",
    "\n",
    "r = Ranker()"
   ]
  },
  {
   "cell_type": "code",
   "execution_count": 9,
   "id": "3b63db4a-318a-49e6-964f-5ddebd369b29",
   "metadata": {},
   "outputs": [
    {
     "data": {
      "text/plain": [
       "tensor([[1., 0., 0., 0., 0., 0., 0., 0., 0., 0., 0., 0., 0., 0., 0., 0., 0., 0.,\n",
       "         0., 0., 0., 0., 0., 0., 0., 0.],\n",
       "        [0., 1., 0., 0., 0., 0., 0., 0., 0., 0., 0., 0., 0., 0., 0., 0., 0., 0.,\n",
       "         0., 0., 0., 0., 0., 0., 0., 0.],\n",
       "        [0., 0., 1., 0., 0., 0., 0., 0., 0., 0., 0., 0., 0., 0., 0., 0., 0., 0.,\n",
       "         0., 0., 0., 0., 0., 0., 0., 0.]])"
      ]
     },
     "execution_count": 9,
     "metadata": {},
     "output_type": "execute_result"
    }
   ],
   "source": [
    "# Encode letters as one-hot vectors\n",
    "vecs = torch.eye(len(letters))\n",
    "\n",
    "letter2vec = dict(zip(letters, vecs))\n",
    "\n",
    "letter2vec[\"Z\"]\n",
    "\n",
    "def encode(ls: list[str]) -> torch.Tensor:\n",
    "    return torch.stack([letter2vec[l] for l in ls])\n",
    "\n",
    "encode([\"A\", \"B\", \"C\"])"
   ]
  },
  {
   "cell_type": "code",
   "execution_count": 10,
   "id": "dd5396ad-7706-462f-aeb7-6413e9838467",
   "metadata": {},
   "outputs": [
    {
     "data": {
      "text/plain": [
       "tensor([0., 0., 0., 0., 0., 0., 0., 0., 0., 0., 0., 0., 0., 0., 0., 0., 0., 0., 0., 0., 0., 0., 0., 0.,\n",
       "        0., 0., 0., 0., 0., 0., 0., 0., 0., 0., 0., 0., 0., 0., 0., 0., 0., 0., 0., 0., 0., 0., 0., 0.,\n",
       "        0., 0., 0., 0., 0., 0., 0., 0., 0., 0., 0., 0., 0., 0., 0., 0., 0., 0., 0., 0., 0., 0., 0., 0.,\n",
       "        0., 0., 0., 0., 0., 0., 0., 0., 0., 0., 0., 0., 0., 0., 0., 0., 0., 0., 0., 0., 0., 0., 0., 0.,\n",
       "        0., 0., 0., 0., 0., 0., 0., 0., 0., 0., 0., 0., 0., 0., 0., 0., 0., 0., 0., 0., 0., 0., 0., 0.,\n",
       "        0., 0., 0., 0., 0., 0., 0., 0., 0., 0., 0., 0., 0., 0., 0., 0., 0., 0., 0., 0., 0., 0., 0., 0.,\n",
       "        0., 0., 0., 0., 0., 0., 0., 0., 0., 0., 0., 0., 0., 0., 0., 0., 0., 0., 0., 0., 0., 0., 0., 0.,\n",
       "        0., 0., 0., 0., 0., 0., 0., 0., 0., 0., 0., 0., 0., 0., 0., 0., 0., 0., 0., 0., 0., 0., 0., 0.,\n",
       "        0., 0., 0., 0., 0., 0., 0., 0., 0., 0., 0., 0., 0., 0., 0., 0., 0., 0., 0., 0., 0., 0., 0., 0.,\n",
       "        0., 0., 0., 0., 0., 0., 0., 0., 0., 0., 0., 0., 0., 0., 0., 0., 0., 0., 0., 0., 0., 0., 0., 0.,\n",
       "        0., 0., 0., 0., 0., 0., 0., 0., 0., 0., 0., 0., 0., 0., 0., 0., 0., 0., 0., 0., 0., 0., 0., 0.,\n",
       "        0., 0., 0., 0., 0., 0., 0., 0., 0., 0., 0., 0., 0., 0., 0., 0., 0., 0., 0., 0., 0., 0., 0., 0.,\n",
       "        0., 0., 0., 0., 0., 0., 0., 0., 0., 0., 0., 0., 0., 0., 0., 0., 0., 0., 0., 0., 0., 0., 0., 0.,\n",
       "        0., 0., 0., 0., 0., 0., 0., 0., 0., 0., 0., 0., 0., 0., 0., 0., 0., 0., 0., 0., 0., 0., 0., 0.,\n",
       "        0., 0., 0., 0., 0., 0., 0., 0., 0., 0., 0., 0., 0., 0., 0., 0., 0., 0., 0., 0., 0., 0., 0., 0.,\n",
       "        0., 0., 0., 0., 0., 0., 0., 0., 0., 0., 0., 0., 0., 0., 0., 0., 0., 0., 0., 0., 0., 0., 0., 0.,\n",
       "        0., 0., 0., 0., 0., 0., 0., 0., 0., 0., 0., 0., 0., 0., 0., 0., 0., 0., 0., 0., 0., 0., 0., 0.,\n",
       "        0., 0., 0., 0., 0., 0., 0., 0., 0., 0., 0., 0., 0., 0., 0., 0., 0., 0., 0., 0., 0., 0., 0., 0.,\n",
       "        0., 0., 0., 0., 0., 0., 0., 0., 0., 0., 0., 0., 0., 0., 0., 0., 0., 0., 0., 0., 0., 0., 0., 0.,\n",
       "        0., 0., 0., 0., 0., 0., 0., 0., 0., 0., 0., 0., 0., 0., 0., 0., 0., 0., 0., 0., 0., 0., 0., 0.,\n",
       "        0., 0., 0., 0., 0., 0., 0., 0., 0., 0., 0., 0., 0., 0., 0., 0., 0., 0., 0., 0., 0., 0., 0., 0.,\n",
       "        0., 0., 0., 0., 0., 0., 0., 0., 0., 0., 0., 0., 0., 0., 0., 0., 0., 0., 0., 0., 0., 0., 0., 0.,\n",
       "        0., 0., 0., 0., 0., 0., 0., 0., 0., 0., 0., 0., 0., 0., 0., 0., 0., 0., 0., 0., 0., 0., 0., 0.,\n",
       "        0., 0., 0., 0., 0., 0., 0., 0., 0., 0., 0., 0., 0., 0., 0., 0., 0., 0., 0., 0., 0., 0., 0., 0.,\n",
       "        0., 0., 0., 0., 0., 0., 0., 0., 0., 0., 0., 0., 0., 0., 0., 0., 0., 0., 0., 0., 0., 0., 0., 0.,\n",
       "        0., 0., 0., 0., 0., 0., 0., 0., 0., 0., 0., 0., 0., 0., 0., 0., 0., 0., 0., 0., 0., 0., 0., 0.,\n",
       "        0., 0., 0., 0., 0., 0., 0., 0., 0., 0., 0., 0., 0., 0., 0., 0., 0., 0., 0., 0., 0., 0., 0., 0.,\n",
       "        0., 0., 0., 0., 0., 0., 0., 0., 0., 0., 0., 0., 0., 0., 0., 0., 0., 0., 0., 0., 0., 0., 0., 0.,\n",
       "        0., 0., 0., 0., 0., 0., 0., 0., 0., 0., 0., 0., 0., 0., 0., 0., 0., 0., 0., 0., 0., 0., 0., 0.,\n",
       "        0., 0., 0., 0., 0., 0., 0., 0., 0., 0., 0., 0., 0., 0., 0., 0., 0., 0., 0., 0., 0., 0., 0., 0.,\n",
       "        0., 0., 0., 0., 0., 0., 0., 0., 0., 0., 0., 0., 0., 0., 0., 0., 0., 0., 0., 0., 0., 0., 0., 0.,\n",
       "        0., 0., 0., 0., 0., 0., 0., 0., 0., 0., 0., 0., 0., 0., 0., 0., 0., 0., 0., 0., 0., 0., 0., 0.,\n",
       "        0., 0., 0., 0., 0., 0., 0., 0., 0., 0., 0., 0., 0., 0., 0., 0., 0., 0., 0., 0., 0., 0., 0., 0.,\n",
       "        0., 0., 0., 0., 0., 0., 0., 0., 0., 0., 0., 0., 0., 0., 0., 0., 0., 0., 0., 0., 0., 0., 0., 0.,\n",
       "        0., 0., 0., 0., 0., 0., 0., 0., 0., 0., 0., 0., 0., 0., 0., 0., 0., 0., 0., 0., 0., 0., 0., 0.,\n",
       "        0., 0., 0., 0., 0., 0., 0., 0., 0., 0., 0., 0., 0., 0., 0., 0., 0., 0., 0., 0., 0., 0., 0., 0.,\n",
       "        0., 0., 0., 0., 0., 0., 0., 0., 0., 0., 0., 0., 0., 0., 0., 0., 0., 0., 0., 0., 0., 0., 0., 0.,\n",
       "        0., 0., 0., 0., 0., 0., 0., 0., 0., 0., 0., 0., 0., 0., 0., 0., 0., 0., 0., 0., 0., 0., 0., 0.,\n",
       "        0., 0., 0., 0., 0., 0., 0., 0., 0., 0., 0., 0., 0., 0., 0., 0., 0., 0., 0., 0., 0., 0., 0., 0.,\n",
       "        0., 0., 0., 0., 0., 0., 0., 0., 0., 0., 0., 0., 0., 0., 0., 0., 0., 0., 0., 0., 0., 0., 0., 0.,\n",
       "        0., 0., 0., 0., 0., 0., 0., 0., 0., 0., 0., 0., 0., 0., 0., 0., 0., 0., 0., 0., 0., 0., 0., 0.,\n",
       "        0., 0., 0., 0., 0., 0., 0., 0., 0., 0., 0., 0., 0., 0., 0., 0.],\n",
       "       grad_fn=<MvBackward0>)"
      ]
     },
     "execution_count": 10,
     "metadata": {},
     "output_type": "execute_result"
    }
   ],
   "source": [
    "r(encode([\"A\", \"B\", \"C\"]))\n",
    "r(encode(df_train[\"yw\"]))"
   ]
  },
  {
   "cell_type": "markdown",
   "id": "c774dda3-7fea-4c9b-bcf9-036d91c03450",
   "metadata": {},
   "source": [
    "# Define a Loss, Evaluation Metric"
   ]
  },
  {
   "cell_type": "code",
   "execution_count": 11,
   "id": "dc8522bc-29da-4afe-9cca-890f7049e637",
   "metadata": {},
   "outputs": [],
   "source": [
    "def loss(r_w_pred, r_l_pred) -> torch.Tensor:\n",
    "    return -torch.sigmoid(r_w_pred - r_l_pred).log().mean()"
   ]
  },
  {
   "cell_type": "code",
   "execution_count": 12,
   "id": "96c6bba3-2285-48f5-8204-b3b261d14ca0",
   "metadata": {},
   "outputs": [
    {
     "data": {
      "text/plain": [
       "-0.06461538461538462"
      ]
     },
     "execution_count": 12,
     "metadata": {},
     "output_type": "execute_result"
    }
   ],
   "source": [
    "from scipy.stats import kendalltau\n",
    "\n",
    "def kt(m: Ranker) -> float:\n",
    "    return kendalltau(m.ordered_letters(), shuffled).statistic\n",
    "\n",
    "kt(r)"
   ]
  },
  {
   "cell_type": "markdown",
   "id": "2e8cbabc-1cc5-4d94-8b99-8a2d14f42014",
   "metadata": {},
   "source": [
    "# Train the Model"
   ]
  },
  {
   "cell_type": "code",
   "execution_count": 13,
   "id": "3b2b4ed0-157d-40d3-8d5b-4113ff36a098",
   "metadata": {},
   "outputs": [
    {
     "name": "stdout",
     "output_type": "stream",
     "text": [
      "loss: 0.6931473612785339\n",
      "loss: 0.6450828909873962\n",
      "loss: 0.6019250750541687\n",
      "loss: 0.5634477734565735\n",
      "loss: 0.5291073322296143\n",
      "loss: 0.49837028980255127\n",
      "loss: 0.4708543121814728\n",
      "loss: 0.44623804092407227\n",
      "loss: 0.424213171005249\n",
      "loss: 0.40449291467666626\n",
      "loss: 0.3868195414543152\n",
      "loss: 0.3709484040737152\n",
      "loss: 0.3566393256187439\n",
      "loss: 0.3436663746833801\n",
      "loss: 0.33183753490448\n",
      "loss: 0.32100409269332886\n",
      "loss: 0.3110535740852356\n",
      "loss: 0.3018949627876282\n",
      "loss: 0.29344767332077026\n",
      "loss: 0.2856380045413971\n",
      "loss: 0.2784004211425781\n",
      "loss: 0.2716788649559021\n",
      "loss: 0.26542598009109497\n",
      "loss: 0.2596006989479065\n",
      "loss: 0.2541661262512207\n",
      "loss: 0.24908892810344696\n",
      "loss: 0.24433963000774384\n",
      "loss: 0.2398931086063385\n",
      "loss: 0.23572781682014465\n",
      "loss: 0.23182427883148193\n",
      "loss: 0.22816362977027893\n",
      "loss: 0.22472691535949707\n",
      "loss: 0.221495121717453\n",
      "loss: 0.21844987571239471\n",
      "loss: 0.2155739665031433\n",
      "loss: 0.21285147964954376\n",
      "loss: 0.21026824414730072\n",
      "loss: 0.20781171321868896\n",
      "loss: 0.2054709941148758\n",
      "loss: 0.20323725044727325\n"
     ]
    }
   ],
   "source": [
    "model = Ranker()\n",
    "opt = torch.optim.Adam(lr=.1, params=model.parameters())\n",
    "\n",
    "kendall_taus = []\n",
    "for _ in range(40):\n",
    "    opt.zero_grad()\n",
    "    r_w_pred = model(encode(df_train[\"yw\"]))\n",
    "    r_l_pred = model(encode(df_train[\"yl\"]))\n",
    "    l = loss(r_w_pred, r_l_pred)\n",
    "    kendall_taus.append(kt(model))\n",
    "    print(\"loss:\", l.item())\n",
    "    l.backward()\n",
    "    opt.step()"
   ]
  },
  {
   "cell_type": "code",
   "execution_count": 14,
   "id": "81b2fa90-6c51-46de-8d21-1b955b37363d",
   "metadata": {},
   "outputs": [
    {
     "data": {
      "text/html": [
       "<div>\n",
       "<style scoped>\n",
       "    .dataframe tbody tr th:only-of-type {\n",
       "        vertical-align: middle;\n",
       "    }\n",
       "\n",
       "    .dataframe tbody tr th {\n",
       "        vertical-align: top;\n",
       "    }\n",
       "\n",
       "    .dataframe thead th {\n",
       "        text-align: right;\n",
       "    }\n",
       "</style>\n",
       "<table border=\"1\" class=\"dataframe\">\n",
       "  <thead>\n",
       "    <tr style=\"text-align: right;\">\n",
       "      <th></th>\n",
       "      <th>order</th>\n",
       "      <th>pred_order</th>\n",
       "      <th>correct</th>\n",
       "    </tr>\n",
       "  </thead>\n",
       "  <tbody>\n",
       "    <tr>\n",
       "      <th>0</th>\n",
       "      <td>O</td>\n",
       "      <td>O</td>\n",
       "      <td>True</td>\n",
       "    </tr>\n",
       "    <tr>\n",
       "      <th>1</th>\n",
       "      <td>A</td>\n",
       "      <td>A</td>\n",
       "      <td>True</td>\n",
       "    </tr>\n",
       "    <tr>\n",
       "      <th>2</th>\n",
       "      <td>X</td>\n",
       "      <td>X</td>\n",
       "      <td>True</td>\n",
       "    </tr>\n",
       "    <tr>\n",
       "      <th>3</th>\n",
       "      <td>S</td>\n",
       "      <td>S</td>\n",
       "      <td>True</td>\n",
       "    </tr>\n",
       "    <tr>\n",
       "      <th>4</th>\n",
       "      <td>G</td>\n",
       "      <td>G</td>\n",
       "      <td>True</td>\n",
       "    </tr>\n",
       "    <tr>\n",
       "      <th>5</th>\n",
       "      <td>F</td>\n",
       "      <td>H</td>\n",
       "      <td>False</td>\n",
       "    </tr>\n",
       "    <tr>\n",
       "      <th>6</th>\n",
       "      <td>H</td>\n",
       "      <td>F</td>\n",
       "      <td>False</td>\n",
       "    </tr>\n",
       "    <tr>\n",
       "      <th>7</th>\n",
       "      <td>K</td>\n",
       "      <td>K</td>\n",
       "      <td>True</td>\n",
       "    </tr>\n",
       "    <tr>\n",
       "      <th>8</th>\n",
       "      <td>W</td>\n",
       "      <td>W</td>\n",
       "      <td>True</td>\n",
       "    </tr>\n",
       "    <tr>\n",
       "      <th>9</th>\n",
       "      <td>U</td>\n",
       "      <td>U</td>\n",
       "      <td>True</td>\n",
       "    </tr>\n",
       "    <tr>\n",
       "      <th>10</th>\n",
       "      <td>E</td>\n",
       "      <td>E</td>\n",
       "      <td>True</td>\n",
       "    </tr>\n",
       "    <tr>\n",
       "      <th>11</th>\n",
       "      <td>C</td>\n",
       "      <td>C</td>\n",
       "      <td>True</td>\n",
       "    </tr>\n",
       "    <tr>\n",
       "      <th>12</th>\n",
       "      <td>V</td>\n",
       "      <td>V</td>\n",
       "      <td>True</td>\n",
       "    </tr>\n",
       "    <tr>\n",
       "      <th>13</th>\n",
       "      <td>D</td>\n",
       "      <td>D</td>\n",
       "      <td>True</td>\n",
       "    </tr>\n",
       "    <tr>\n",
       "      <th>14</th>\n",
       "      <td>R</td>\n",
       "      <td>R</td>\n",
       "      <td>True</td>\n",
       "    </tr>\n",
       "    <tr>\n",
       "      <th>15</th>\n",
       "      <td>L</td>\n",
       "      <td>L</td>\n",
       "      <td>True</td>\n",
       "    </tr>\n",
       "    <tr>\n",
       "      <th>16</th>\n",
       "      <td>T</td>\n",
       "      <td>T</td>\n",
       "      <td>True</td>\n",
       "    </tr>\n",
       "    <tr>\n",
       "      <th>17</th>\n",
       "      <td>J</td>\n",
       "      <td>J</td>\n",
       "      <td>True</td>\n",
       "    </tr>\n",
       "    <tr>\n",
       "      <th>18</th>\n",
       "      <td>Z</td>\n",
       "      <td>P</td>\n",
       "      <td>False</td>\n",
       "    </tr>\n",
       "    <tr>\n",
       "      <th>19</th>\n",
       "      <td>P</td>\n",
       "      <td>Z</td>\n",
       "      <td>False</td>\n",
       "    </tr>\n",
       "    <tr>\n",
       "      <th>20</th>\n",
       "      <td>Q</td>\n",
       "      <td>Q</td>\n",
       "      <td>True</td>\n",
       "    </tr>\n",
       "    <tr>\n",
       "      <th>21</th>\n",
       "      <td>I</td>\n",
       "      <td>I</td>\n",
       "      <td>True</td>\n",
       "    </tr>\n",
       "    <tr>\n",
       "      <th>22</th>\n",
       "      <td>B</td>\n",
       "      <td>B</td>\n",
       "      <td>True</td>\n",
       "    </tr>\n",
       "    <tr>\n",
       "      <th>23</th>\n",
       "      <td>N</td>\n",
       "      <td>N</td>\n",
       "      <td>True</td>\n",
       "    </tr>\n",
       "    <tr>\n",
       "      <th>24</th>\n",
       "      <td>Y</td>\n",
       "      <td>M</td>\n",
       "      <td>False</td>\n",
       "    </tr>\n",
       "    <tr>\n",
       "      <th>25</th>\n",
       "      <td>M</td>\n",
       "      <td>Y</td>\n",
       "      <td>False</td>\n",
       "    </tr>\n",
       "  </tbody>\n",
       "</table>\n",
       "</div>"
      ],
      "text/plain": [
       "   order pred_order  correct\n",
       "0      O          O     True\n",
       "1      A          A     True\n",
       "2      X          X     True\n",
       "3      S          S     True\n",
       "4      G          G     True\n",
       "5      F          H    False\n",
       "6      H          F    False\n",
       "7      K          K     True\n",
       "8      W          W     True\n",
       "9      U          U     True\n",
       "10     E          E     True\n",
       "11     C          C     True\n",
       "12     V          V     True\n",
       "13     D          D     True\n",
       "14     R          R     True\n",
       "15     L          L     True\n",
       "16     T          T     True\n",
       "17     J          J     True\n",
       "18     Z          P    False\n",
       "19     P          Z    False\n",
       "20     Q          Q     True\n",
       "21     I          I     True\n",
       "22     B          B     True\n",
       "23     N          N     True\n",
       "24     Y          M    False\n",
       "25     M          Y    False"
      ]
     },
     "execution_count": 14,
     "metadata": {},
     "output_type": "execute_result"
    }
   ],
   "source": [
    "res_df = pd.DataFrame(dict(order=shuffled, pred_order=model.ordered_letters()))\n",
    "res_df[\"correct\"] = res_df[\"order\"] == res_df[\"pred_order\"]\n",
    "res_df"
   ]
  },
  {
   "cell_type": "code",
   "execution_count": 15,
   "id": "192e8b7f-1fe6-4b14-9e7b-5b505c8ce07d",
   "metadata": {},
   "outputs": [
    {
     "data": {
      "text/plain": [
       "0.7692307692307693"
      ]
     },
     "execution_count": 15,
     "metadata": {},
     "output_type": "execute_result"
    }
   ],
   "source": [
    "res_df[\"correct\"].mean()"
   ]
  },
  {
   "cell_type": "code",
   "execution_count": 16,
   "id": "0d84fa1c-6df4-439d-b753-05c89c25f365",
   "metadata": {},
   "outputs": [
    {
     "data": {
      "image/png": "[encoded data removed]",
      "text/plain": [
       "<Figure size 640x480 with 1 Axes>"
      ]
     },
     "metadata": {},
     "output_type": "display_data"
    }
   ],
   "source": [
    "plt.title(\"Performance: Kendall Tau coeff\")\n",
    "plt.plot(kendall_taus)\n",
    "plt.show()"
   ]
  }
 ],
 "metadata": {
  "kernelspec": {
   "display_name": "Python 3 (ipykernel)",
   "language": "python",
   "name": "python3"
  },
  "language_info": {
   "codemirror_mode": {
    "name": "ipython",
    "version": 3
   },
   "file_extension": ".py",
   "mimetype": "text/x-python",
   "name": "python",
   "nbconvert_exporter": "python",
   "pygments_lexer": "ipython3",
   "version": "3.11.9"
  }
 },
 "nbformat": 4,
 "nbformat_minor": 5
}
