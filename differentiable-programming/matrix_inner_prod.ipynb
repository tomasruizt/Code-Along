{
 "cells": [
  {
   "cell_type": "markdown",
   "metadata": {},
   "source": [
    "# 2D Tensors"
   ]
  },
  {
   "cell_type": "code",
   "execution_count": 7,
   "metadata": {},
   "outputs": [
    {
     "name": "stdout",
     "output_type": "stream",
     "text": [
      "tensor(70)\n",
      "tensor(70)\n",
      "tensor(70)\n"
     ]
    }
   ],
   "source": [
    "import torch\n",
    "\n",
    "def vec(X):\n",
    "    return X.flatten()\n",
    "\n",
    "X = torch.tensor([[1, 2], [3, 4]])\n",
    "Y = torch.tensor([[5, 6], [7, 8]])\n",
    "\n",
    "print(torch.trace(X.T @ Y))\n",
    "print(vec(X) @ vec(Y))\n",
    "print((X * Y).sum())\n"
   ]
  },
  {
   "cell_type": "markdown",
   "metadata": {},
   "source": [
    "# 3D Tensors"
   ]
  },
  {
   "cell_type": "code",
   "execution_count": 9,
   "metadata": {},
   "outputs": [
    {
     "name": "stdout",
     "output_type": "stream",
     "text": [
      "tensor(492)\n",
      "tensor(492)\n"
     ]
    }
   ],
   "source": [
    "W = torch.tensor([[[1, 2], [3, 4]], [[5, 6], [7, 8]]])\n",
    "Z = torch.tensor([[[9, 10], [11, 12]], [[13, 14], [15, 16]]])\n",
    "assert len(W.shape) == 3\n",
    "\n",
    "print((W * Z).sum())\n",
    "print(vec(W) @ vec(Z))"
   ]
  }
 ],
 "metadata": {
  "kernelspec": {
   "display_name": "Python 3",
   "language": "python",
   "name": "python3"
  },
  "language_info": {
   "codemirror_mode": {
    "name": "ipython",
    "version": 3
   },
   "file_extension": ".py",
   "mimetype": "text/x-python",
   "name": "python",
   "nbconvert_exporter": "python",
   "pygments_lexer": "ipython3",
   "version": "3.11.9"
  }
 },
 "nbformat": 4,
 "nbformat_minor": 2
}
