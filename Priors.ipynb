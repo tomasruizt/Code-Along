{
 "cells": [
  {
   "cell_type": "code",
   "execution_count": 1,
   "id": "cdebff5e",
   "metadata": {},
   "outputs": [],
   "source": [
    "import numpy as np\n",
    "import matplotlib.pyplot as plt"
   ]
  },
  {
   "cell_type": "code",
   "execution_count": 2,
   "id": "cd28e356",
   "metadata": {},
   "outputs": [],
   "source": [
    "def plot_beta_hist(a: float, b: float) -> None:\n",
    "    xs = np.random.beta(a=a, b=b, size=10000)\n",
    "    plot_hist(xs)\n",
    "\n",
    "def plot_hist(xs) -> None:\n",
    "    plt.hist(xs, bins=20, density=True)\n",
    "    plt.show()"
   ]
  },
  {
   "cell_type": "markdown",
   "id": "ce258f91",
   "metadata": {},
   "source": [
    "# Sampling from the posterior predictive\n",
    "* Assume the Likelihood is a binomial distribution with $n$ trials, and unkown probability of success $y$:\n",
    "$$p(s|y) = B(n, y)$$\n",
    "\n",
    "* The prior for $y$ is uniformly distributed within $[0, 1]$. We don't assume to know anything about it.\n",
    "* This can be modeled with a beta distribution with parameters $\\theta = (a, b) = (1, 1)$\n",
    "\n",
    "$$p(y|\\theta) = Beta(\\theta) = Beta(a, b)$$\n",
    "\n"
   ]
  },
  {
   "cell_type": "code",
   "execution_count": 3,
   "id": "e6456838",
   "metadata": {},
   "outputs": [
    {
     "data": {
      "image/png": "[encoded data removed]",
      "text/plain": [
       "<Figure size 432x288 with 1 Axes>"
      ]
     },
     "metadata": {
      "needs_background": "light"
     },
     "output_type": "display_data"
    }
   ],
   "source": [
    "plot_beta_hist(a=1, b=1)"
   ]
  },
  {
   "cell_type": "code",
   "execution_count": 4,
   "id": "abf00297",
   "metadata": {},
   "outputs": [],
   "source": [
    "num_samples = 1000\n",
    "ys = np.random.beta(a=1, b=1, size=num_samples)"
   ]
  },
  {
   "cell_type": "code",
   "execution_count": 6,
   "id": "e9a7d370",
   "metadata": {},
   "outputs": [],
   "source": [
    "def plot_binomial_hist(ps):\n",
    "    n = 500\n",
    "    np.random.binomial(n=n, p=0.5, size=10000)"
   ]
  }
 ],
 "metadata": {
  "kernelspec": {
   "display_name": "Python 3 (ipykernel)",
   "language": "python",
   "name": "python3"
  },
  "language_info": {
   "codemirror_mode": {
    "name": "ipython",
    "version": 3
   },
   "file_extension": ".py",
   "mimetype": "text/x-python",
   "name": "python",
   "nbconvert_exporter": "python",
   "pygments_lexer": "ipython3",
   "version": "3.9.16"
  }
 },
 "nbformat": 4,
 "nbformat_minor": 5
}
